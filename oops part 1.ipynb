{
 "cells": [
  {
   "cell_type": "raw",
   "id": "89aef7ca-ef11-4075-bde8-1fd80c4ea3d8",
   "metadata": {},
   "source": [
    "\"oops\" stands for object-oriented programming system"
   ]
  },
  {
   "cell_type": "code",
   "execution_count": 1,
   "id": "6e1486e7-f944-49d1-aa55-a439ee27f5d2",
   "metadata": {},
   "outputs": [],
   "source": [
    "a = 1"
   ]
  },
  {
   "cell_type": "raw",
   "id": "6b43547f-82ef-4b46-a95f-2a44c9c6f3eb",
   "metadata": {},
   "source": [
    "a is object of integer class .a is called variable ,instance  object.\n",
    "a variable of integer class . a is instance of integer class."
   ]
  },
  {
   "cell_type": "code",
   "execution_count": 2,
   "id": "6517b69c-a8de-45ab-9018-df9d744d0b5b",
   "metadata": {},
   "outputs": [
    {
     "name": "stdout",
     "output_type": "stream",
     "text": [
      "<class 'int'>\n"
     ]
    }
   ],
   "source": [
    "print(type(a))"
   ]
  },
  {
   "cell_type": "code",
   "execution_count": 3,
   "id": "90242bac-ea7a-4071-acd6-5716dba7a2df",
   "metadata": {},
   "outputs": [
    {
     "name": "stdout",
     "output_type": "stream",
     "text": [
      "<class 'str'>\n"
     ]
    }
   ],
   "source": [
    "print(type(\"pwskills\"))"
   ]
  },
  {
   "cell_type": "raw",
   "id": "fa589304-9c3d-4035-8319-f0aed86bdade",
   "metadata": {},
   "source": [
    "class is just classification , characterisation. classification of real world entity.In layman term is blueprint. Blueprint of a real world entity but not specific to real world entity that something called a class.\n",
    "object is real world entity."
   ]
  },
  {
   "cell_type": "code",
   "execution_count": 4,
   "id": "273c4361-fb33-4301-9288-334ff9c8e62e",
   "metadata": {},
   "outputs": [],
   "source": [
    "#how to create class in python.\n",
    "#by using class keyword.\n",
    "class test:\n",
    "    pass "
   ]
  },
  {
   "cell_type": "code",
   "execution_count": 5,
   "id": "5c736b85-1020-4a67-a8d9-af38d38f18aa",
   "metadata": {},
   "outputs": [],
   "source": [
    "a = test() #create a variable for test class "
   ]
  },
  {
   "cell_type": "code",
   "execution_count": 6,
   "id": "5c2cc582-ad27-473c-b41a-2bee74ce3505",
   "metadata": {},
   "outputs": [
    {
     "data": {
      "text/plain": [
       "__main__.test"
      ]
     },
     "execution_count": 6,
     "metadata": {},
     "output_type": "execute_result"
    }
   ],
   "source": [
    "type(a)"
   ]
  },
  {
   "cell_type": "code",
   "execution_count": 7,
   "id": "7b0edb27-6718-4b10-ad55-64ba47d05930",
   "metadata": {},
   "outputs": [
    {
     "name": "stdout",
     "output_type": "stream",
     "text": [
      "<class '__main__.test'>\n"
     ]
    }
   ],
   "source": [
    "print(type(a))"
   ]
  },
  {
   "cell_type": "code",
   "execution_count": 11,
   "id": "3cc4b154-a9f9-4c33-ade9-2301a56bd6cb",
   "metadata": {},
   "outputs": [],
   "source": [
    "class pwskills:  #class has kept variable  function and method. class bind by self.\n",
    "    \n",
    "    def welcome_msg(self):   #method\n",
    "        print(\"welcome to pwskills\")"
   ]
  },
  {
   "cell_type": "code",
   "execution_count": 12,
   "id": "77ce31d9-70ca-4086-9e76-66c9f0b159c0",
   "metadata": {},
   "outputs": [],
   "source": [
    "rohan = pwskills()"
   ]
  },
  {
   "cell_type": "code",
   "execution_count": 13,
   "id": "cd94b554-9961-42ed-9916-6e7b35feb303",
   "metadata": {},
   "outputs": [
    {
     "name": "stdout",
     "output_type": "stream",
     "text": [
      "<class '__main__.pwskills'>\n"
     ]
    }
   ],
   "source": [
    "print(type(rohan))"
   ]
  },
  {
   "cell_type": "code",
   "execution_count": 16,
   "id": "ea7323f1-601a-4320-8fff-d6d502abf23c",
   "metadata": {},
   "outputs": [
    {
     "name": "stdout",
     "output_type": "stream",
     "text": [
      "welcome to pwskills\n"
     ]
    }
   ],
   "source": [
    "rohan.welcome_msg()"
   ]
  },
  {
   "cell_type": "code",
   "execution_count": 18,
   "id": "ba17f36f-afa0-49d4-97a6-f15e21b3a819",
   "metadata": {},
   "outputs": [],
   "source": [
    "gaurav = pwskills()"
   ]
  },
  {
   "cell_type": "code",
   "execution_count": 19,
   "id": "eceb94b7-a2c9-426b-aba7-fabeda2d2f23",
   "metadata": {},
   "outputs": [
    {
     "name": "stdout",
     "output_type": "stream",
     "text": [
      "welcome to pwskills\n"
     ]
    }
   ],
   "source": [
    "gaurav.welcome_msg()"
   ]
  },
  {
   "cell_type": "code",
   "execution_count": 20,
   "id": "377602ba-8367-4f50-95b2-206c7eecd374",
   "metadata": {},
   "outputs": [],
   "source": [
    "class pwskills1 : #__init__ is called constructor.Init is initially  the variable .\n",
    "    \n",
    "    def __init__(self , phone_number,email_id , student_id ):\n",
    "        self.phone_number = phone_number #to pass the data using init function which in-built .\n",
    "        self.email_id = email_id\n",
    "        self.student_id = student_id\n",
    "        \n",
    "    def return_student_deetails(self) :\n",
    "        return self.student_id , self.phone_number , self.email_id\n",
    "    "
   ]
  },
  {
   "cell_type": "code",
   "execution_count": 21,
   "id": "770c1807-bd22-4eae-bfa8-bafc66ef1305",
   "metadata": {},
   "outputs": [
    {
     "ename": "TypeError",
     "evalue": "pwskills1.__init__() missing 3 required positional arguments: 'phone_number', 'email_id', and 'student_id'",
     "output_type": "error",
     "traceback": [
      "\u001b[0;31m---------------------------------------------------------------------------\u001b[0m",
      "\u001b[0;31mTypeError\u001b[0m                                 Traceback (most recent call last)",
      "Cell \u001b[0;32mIn[21], line 1\u001b[0m\n\u001b[0;32m----> 1\u001b[0m rohan \u001b[38;5;241m=\u001b[39m \u001b[43mpwskills1\u001b[49m\u001b[43m(\u001b[49m\u001b[43m)\u001b[49m\n",
      "\u001b[0;31mTypeError\u001b[0m: pwskills1.__init__() missing 3 required positional arguments: 'phone_number', 'email_id', and 'student_id'"
     ]
    }
   ],
   "source": [
    "rohan = pwskills1()"
   ]
  },
  {
   "cell_type": "code",
   "execution_count": 22,
   "id": "8437ff77-4792-4835-b752-5fc06b99790a",
   "metadata": {},
   "outputs": [],
   "source": [
    "rohan = pwskills1(122232432342,'rohan@gmail.com' ,101)"
   ]
  },
  {
   "cell_type": "code",
   "execution_count": 23,
   "id": "b961f910-f924-4604-93fa-3b30a4fd2bcd",
   "metadata": {},
   "outputs": [
    {
     "data": {
      "text/plain": [
       "(101, 122232432342, 'rohan@gmail.com')"
      ]
     },
     "execution_count": 23,
     "metadata": {},
     "output_type": "execute_result"
    }
   ],
   "source": [
    "rohan.return_student_deetails()"
   ]
  },
  {
   "cell_type": "code",
   "execution_count": null,
   "id": "a61874c0-63f1-49a9-ae2c-840b38ab9b1e",
   "metadata": {},
   "outputs": [],
   "source": [
    "# to access the details then use self.student_id etc"
   ]
  },
  {
   "cell_type": "code",
   "execution_count": 24,
   "id": "f128dd43-7dbc-4ce4-875f-64a6ba4a5a0a",
   "metadata": {},
   "outputs": [
    {
     "data": {
      "text/plain": [
       "(102, 987923688, 'gaurav@gmail.com')"
      ]
     },
     "execution_count": 24,
     "metadata": {},
     "output_type": "execute_result"
    }
   ],
   "source": [
    "gaurav = pwskills1(987923688, 'gaurav@gmail.com' , 102)\n",
    "gaurav.return_student_deetails()"
   ]
  },
  {
   "cell_type": "code",
   "execution_count": 25,
   "id": "b8df9c1e-3a1f-4871-abd1-3cc064c49f50",
   "metadata": {},
   "outputs": [
    {
     "data": {
      "text/plain": [
       "122232432342"
      ]
     },
     "execution_count": 25,
     "metadata": {},
     "output_type": "execute_result"
    }
   ],
   "source": [
    "rohan.phone_number"
   ]
  },
  {
   "cell_type": "code",
   "execution_count": 26,
   "id": "a2944e08-b330-4731-a536-711cefe9484d",
   "metadata": {},
   "outputs": [
    {
     "data": {
      "text/plain": [
       "'rohan@gmail.com'"
      ]
     },
     "execution_count": 26,
     "metadata": {},
     "output_type": "execute_result"
    }
   ],
   "source": [
    "rohan.email_id"
   ]
  },
  {
   "cell_type": "code",
   "execution_count": null,
   "id": "152ad2f5-e4c5-426c-85f0-0758ea89b026",
   "metadata": {},
   "outputs": [],
   "source": [
    "#when take data outside the class then use rohan.email_Id\n",
    "#when take data inside the class then use .self"
   ]
  },
  {
   "cell_type": "code",
   "execution_count": 27,
   "id": "eb560ec2-7beb-4875-890b-ed97e634a5fd",
   "metadata": {},
   "outputs": [],
   "source": [
    "class pwskills2 :\n",
    "    \n",
    "    def __init__(self , phone_number , email_id , student_id):\n",
    "        self.phone_number1 = phone_number #assigning phone_number to self.phone_number1\n",
    "        self.email_id1 = email_id \n",
    "        self.student_id1 = student_id \n",
    "        \n",
    "    def return_student_deetails(self):\n",
    "        return self.student_id1 , self.phone_number1 , self.email_id1"
   ]
  },
  {
   "cell_type": "code",
   "execution_count": 28,
   "id": "3408cc6f-88b5-4a3a-b189-0fbd1288a476",
   "metadata": {},
   "outputs": [],
   "source": [
    "sudh = pwskills2(999934562, 'sudh@gmail.com' , 102)"
   ]
  },
  {
   "cell_type": "code",
   "execution_count": 29,
   "id": "0a28ea6d-c694-4c78-a00c-6f250b37ead1",
   "metadata": {},
   "outputs": [
    {
     "ename": "AttributeError",
     "evalue": "'pwskills2' object has no attribute 'phone_number'",
     "output_type": "error",
     "traceback": [
      "\u001b[0;31m---------------------------------------------------------------------------\u001b[0m",
      "\u001b[0;31mAttributeError\u001b[0m                            Traceback (most recent call last)",
      "Cell \u001b[0;32mIn[29], line 1\u001b[0m\n\u001b[0;32m----> 1\u001b[0m \u001b[43msudh\u001b[49m\u001b[38;5;241;43m.\u001b[39;49m\u001b[43mphone_number\u001b[49m  \u001b[38;5;66;03m#class does not know phone_number because this is assigning in self.phone_number1\u001b[39;00m\n",
      "\u001b[0;31mAttributeError\u001b[0m: 'pwskills2' object has no attribute 'phone_number'"
     ]
    }
   ],
   "source": [
    "sudh.phone_number  #class does not know phone_number because this is assigning in self.phone_number1"
   ]
  },
  {
   "cell_type": "code",
   "execution_count": 31,
   "id": "7cd23f7a-bcc4-49be-bc54-a2b4a49c9f97",
   "metadata": {},
   "outputs": [
    {
     "data": {
      "text/plain": [
       "<__main__.pwskills2 at 0x7fcd04167be0>"
      ]
     },
     "execution_count": 31,
     "metadata": {},
     "output_type": "execute_result"
    }
   ],
   "source": [
    "sudh"
   ]
  },
  {
   "cell_type": "code",
   "execution_count": 32,
   "id": "61f1c564-8880-4e00-987d-82d55b97314b",
   "metadata": {},
   "outputs": [
    {
     "data": {
      "text/plain": [
       "999934562"
      ]
     },
     "execution_count": 32,
     "metadata": {},
     "output_type": "execute_result"
    }
   ],
   "source": [
    "sudh.phone_number1"
   ]
  },
  {
   "cell_type": "code",
   "execution_count": 33,
   "id": "fd4a43ed-c594-4949-895a-3e4fd7cfdb19",
   "metadata": {},
   "outputs": [
    {
     "data": {
      "text/plain": [
       "'sudh@gmail.com'"
      ]
     },
     "execution_count": 33,
     "metadata": {},
     "output_type": "execute_result"
    }
   ],
   "source": [
    "sudh.email_id1"
   ]
  },
  {
   "cell_type": "code",
   "execution_count": 34,
   "id": "be008251-2ba4-44ad-b564-11cc14010be0",
   "metadata": {},
   "outputs": [
    {
     "data": {
      "text/plain": [
       "102"
      ]
     },
     "execution_count": 34,
     "metadata": {},
     "output_type": "execute_result"
    }
   ],
   "source": [
    "sudh.student_id1"
   ]
  },
  {
   "cell_type": "code",
   "execution_count": 35,
   "id": "3080cbf3-04eb-4498-a2df-0a42dce294b1",
   "metadata": {},
   "outputs": [
    {
     "data": {
      "text/plain": [
       "(102, 999934562, 'sudh@gmail.com')"
      ]
     },
     "execution_count": 35,
     "metadata": {},
     "output_type": "execute_result"
    }
   ],
   "source": [
    "sudh.return_student_deetails()"
   ]
  },
  {
   "cell_type": "code",
   "execution_count": null,
   "id": "7b59932c-ff22-42de-91f0-bccf2da79fd7",
   "metadata": {},
   "outputs": [],
   "source": [
    "self is not reserve keyword .but use any word to create a pointer.,which associate with class ."
   ]
  },
  {
   "cell_type": "code",
   "execution_count": 36,
   "id": "9a017ec4-291c-4a35-9c2b-e7c3c35f50a1",
   "metadata": {},
   "outputs": [],
   "source": [
    "class pwskills2 :\n",
    "    \n",
    "    def __init__(sudh, phone_number , email_id , student_id):\n",
    "        sudh.phone_number1 = phone_number\n",
    "        sudh.email_id1 = email_id\n",
    "        sudh.student_id1 = student_id\n",
    "        \n",
    "    def return_student_deetails(sudh):\n",
    "        return sudh.student_id1 , sudh.phone_number1 , sudh.email_id1\n",
    "    "
   ]
  },
  {
   "cell_type": "code",
   "execution_count": 37,
   "id": "8e565814-7024-40dd-8632-7491829f6724",
   "metadata": {},
   "outputs": [],
   "source": [
    "rohan = pwskills2(97867886, 'rohan@gmail.com' , 324)"
   ]
  },
  {
   "cell_type": "code",
   "execution_count": 38,
   "id": "b9a1761b-7ab0-4d90-853b-2540f5c81cd0",
   "metadata": {},
   "outputs": [
    {
     "data": {
      "text/plain": [
       "97867886"
      ]
     },
     "execution_count": 38,
     "metadata": {},
     "output_type": "execute_result"
    }
   ],
   "source": [
    "rohan.phone_number1"
   ]
  },
  {
   "cell_type": "code",
   "execution_count": 39,
   "id": "6c20c386-893a-4312-ae18-2ed520f7cdd6",
   "metadata": {},
   "outputs": [
    {
     "data": {
      "text/plain": [
       "<__main__.pwskills2 at 0x7fcd0659f0a0>"
      ]
     },
     "execution_count": 39,
     "metadata": {},
     "output_type": "execute_result"
    }
   ],
   "source": [
    "rohan"
   ]
  },
  {
   "cell_type": "code",
   "execution_count": 40,
   "id": "9b3979ad-77f5-4c59-9a17-8dc6206d6520",
   "metadata": {},
   "outputs": [
    {
     "data": {
      "text/plain": [
       "324"
      ]
     },
     "execution_count": 40,
     "metadata": {},
     "output_type": "execute_result"
    }
   ],
   "source": [
    "rohan.student_id1"
   ]
  },
  {
   "cell_type": "code",
   "execution_count": 41,
   "id": "2a9d7f62-0e3a-4e05-abd0-5471dcd02489",
   "metadata": {},
   "outputs": [
    {
     "data": {
      "text/plain": [
       "(324, 97867886, 'rohan@gmail.com')"
      ]
     },
     "execution_count": 41,
     "metadata": {},
     "output_type": "execute_result"
    }
   ],
   "source": [
    "rohan.return_student_deetails()"
   ]
  },
  {
   "cell_type": "code",
   "execution_count": null,
   "id": "2f87f879-cbc7-47f1-b5d5-26674beb0929",
   "metadata": {},
   "outputs": [],
   "source": []
  }
 ],
 "metadata": {
  "kernelspec": {
   "display_name": "Python 3 (ipykernel)",
   "language": "python",
   "name": "python3"
  },
  "language_info": {
   "codemirror_mode": {
    "name": "ipython",
    "version": 3
   },
   "file_extension": ".py",
   "mimetype": "text/x-python",
   "name": "python",
   "nbconvert_exporter": "python",
   "pygments_lexer": "ipython3",
   "version": "3.10.8"
  }
 },
 "nbformat": 4,
 "nbformat_minor": 5
}
