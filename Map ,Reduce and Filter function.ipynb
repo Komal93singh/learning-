{
 "cells": [
  {
   "cell_type": "code",
   "execution_count": 1,
   "id": "78744d48-1bfc-4e29-af74-d5574d7a496e",
   "metadata": {},
   "outputs": [],
   "source": [
    "l= [2,3,4,5,6]"
   ]
  },
  {
   "cell_type": "code",
   "execution_count": 5,
   "id": "22af29f6-6505-4708-89a8-7a9bbfd6dc62",
   "metadata": {},
   "outputs": [],
   "source": [
    "def test(l):\n",
    "    l1=[]\n",
    "    for u in l:\n",
    "        l1.append(u**2)\n",
    "    return l1"
   ]
  },
  {
   "cell_type": "code",
   "execution_count": 6,
   "id": "fc9c0227-9ee5-4971-b0e5-da9f96850130",
   "metadata": {},
   "outputs": [
    {
     "data": {
      "text/plain": [
       "[4, 9, 16, 25, 36]"
      ]
     },
     "execution_count": 6,
     "metadata": {},
     "output_type": "execute_result"
    }
   ],
   "source": [
    "test(l)"
   ]
  },
  {
   "cell_type": "code",
   "execution_count": null,
   "id": "d0182075-2fad-429f-9fbd-c7c11193153e",
   "metadata": {},
   "outputs": [],
   "source": [
    "def sq():\n",
    "    return "
   ]
  },
  {
   "cell_type": "code",
   "execution_count": 7,
   "id": "d9ddc30b-8ee3-41a8-bf43-3622aaa6c2cc",
   "metadata": {},
   "outputs": [
    {
     "ename": "NameError",
     "evalue": "name 'l1' is not defined",
     "output_type": "error",
     "traceback": [
      "\u001b[0;31m---------------------------------------------------------------------------\u001b[0m",
      "\u001b[0;31mNameError\u001b[0m                                 Traceback (most recent call last)",
      "Cell \u001b[0;32mIn[7], line 1\u001b[0m\n\u001b[0;32m----> 1\u001b[0m test(\u001b[43ml1\u001b[49m)\n",
      "\u001b[0;31mNameError\u001b[0m: name 'l1' is not defined"
     ]
    }
   ],
   "source": [
    "test(l1)"
   ]
  },
  {
   "cell_type": "code",
   "execution_count": 8,
   "id": "2dd7d844-0e5c-4d58-8fcf-c1d42421048c",
   "metadata": {},
   "outputs": [],
   "source": [
    "def sq(x):\n",
    "    return x**2"
   ]
  },
  {
   "cell_type": "code",
   "execution_count": 9,
   "id": "6751d839-dfee-492b-8b10-b4379f10c8eb",
   "metadata": {},
   "outputs": [
    {
     "data": {
      "text/plain": [
       "<map at 0x7fd8e8626860>"
      ]
     },
     "execution_count": 9,
     "metadata": {},
     "output_type": "execute_result"
    }
   ],
   "source": [
    "map(sq,l)"
   ]
  },
  {
   "cell_type": "code",
   "execution_count": null,
   "id": "f252f6ce-566c-4a8b-bf80-7b861edb6a6e",
   "metadata": {},
   "outputs": [],
   "source": [
    "#map function is used to optimize way of writing  a code "
   ]
  },
  {
   "cell_type": "code",
   "execution_count": 10,
   "id": "53819c59-78da-44c6-bc7f-89d6a9f7bbd0",
   "metadata": {},
   "outputs": [
    {
     "data": {
      "text/plain": [
       "[4, 9, 16, 25, 36]"
      ]
     },
     "execution_count": 10,
     "metadata": {},
     "output_type": "execute_result"
    }
   ],
   "source": [
    "list(map(sq,l))"
   ]
  },
  {
   "cell_type": "code",
   "execution_count": 11,
   "id": "0d543427-eb64-4aca-90e7-1f2f08170d50",
   "metadata": {},
   "outputs": [
    {
     "data": {
      "text/plain": [
       "[4, 9, 16, 25, 36]"
      ]
     },
     "execution_count": 11,
     "metadata": {},
     "output_type": "execute_result"
    }
   ],
   "source": [
    "list(map(lambda x : x**2 ,l))"
   ]
  },
  {
   "cell_type": "code",
   "execution_count": null,
   "id": "15163cf7-8d18-48b1-b802-6222dd7bd688",
   "metadata": {},
   "outputs": [],
   "source": [
    "#when code is simple then use lambda function otherwise def a function or map "
   ]
  },
  {
   "cell_type": "code",
   "execution_count": 12,
   "id": "ce04b853-8256-4619-a43c-2bdb4f98e073",
   "metadata": {},
   "outputs": [
    {
     "data": {
      "text/plain": [
       "[7, 9, 11, 13, 15]"
      ]
     },
     "execution_count": 12,
     "metadata": {},
     "output_type": "execute_result"
    }
   ],
   "source": [
    "l1 = [1,2,3,4,5] #output 1+6= 7 ,2+7=9 etc \n",
    "l2 = [6,7,8,9,10]\n",
    "\n",
    "list(map(lambda x,y : x+y ,l1,l2))"
   ]
  },
  {
   "cell_type": "code",
   "execution_count": 13,
   "id": "384b8b7d-36e4-45ea-9880-c8bf844c38ad",
   "metadata": {},
   "outputs": [],
   "source": [
    "def add(x,y):\n",
    "    return x+y #instead of using lambda function "
   ]
  },
  {
   "cell_type": "code",
   "execution_count": 14,
   "id": "99b636e7-66f3-41e4-bcd1-c46c286135b8",
   "metadata": {},
   "outputs": [
    {
     "data": {
      "text/plain": [
       "[7, 9, 11, 13, 15]"
      ]
     },
     "execution_count": 14,
     "metadata": {},
     "output_type": "execute_result"
    }
   ],
   "source": [
    "list(map(add ,l1,l2)) #map function is using because of iterables used in it then gives output."
   ]
  },
  {
   "cell_type": "code",
   "execution_count": 15,
   "id": "4fad6594-eb5f-4737-8b01-28b027bd9425",
   "metadata": {},
   "outputs": [
    {
     "data": {
      "text/plain": [
       "['P', 'W', 'S', 'K', 'I', 'L', 'L', 'S']"
      ]
     },
     "execution_count": 15,
     "metadata": {},
     "output_type": "execute_result"
    }
   ],
   "source": [
    "s = 'pwskills'\n",
    "list(map(lambda s: s.upper() ,s))"
   ]
  },
  {
   "cell_type": "code",
   "execution_count": null,
   "id": "aef13b9e-6663-49c8-a0cc-ccc3c7a1b067",
   "metadata": {},
   "outputs": [],
   "source": [
    "#reduce function"
   ]
  },
  {
   "cell_type": "code",
   "execution_count": null,
   "id": "e0837937-8893-42da-ac4a-a3bc21fba1d7",
   "metadata": {},
   "outputs": [],
   "source": [
    "#reduce function is not available by fault then call reduce by functools to import from library"
   ]
  },
  {
   "cell_type": "code",
   "execution_count": 16,
   "id": "e8e487b7-4c9f-43fb-9ef9-2a1f1d819c57",
   "metadata": {},
   "outputs": [],
   "source": [
    "from functools import reduce"
   ]
  },
  {
   "cell_type": "code",
   "execution_count": 17,
   "id": "13392194-b66c-4053-a30e-c13dd1b55f5b",
   "metadata": {},
   "outputs": [],
   "source": [
    "l= [1,2,3,3,4,5] #ques sum of all values. # reduce is to use in single output .\n"
   ]
  },
  {
   "cell_type": "code",
   "execution_count": 19,
   "id": "06aaf326-a20f-417b-a35b-fc691c164920",
   "metadata": {},
   "outputs": [
    {
     "data": {
      "text/plain": [
       "18"
      ]
     },
     "execution_count": 19,
     "metadata": {},
     "output_type": "execute_result"
    }
   ],
   "source": [
    "reduce(lambda x,y : x+y ,l)"
   ]
  },
  {
   "cell_type": "code",
   "execution_count": 20,
   "id": "3a8f42e1-5843-42f4-83dc-259fbbe98ba2",
   "metadata": {},
   "outputs": [
    {
     "ename": "TypeError",
     "evalue": "<lambda>() missing 1 required positional argument: 'z'",
     "output_type": "error",
     "traceback": [
      "\u001b[0;31m---------------------------------------------------------------------------\u001b[0m",
      "\u001b[0;31mTypeError\u001b[0m                                 Traceback (most recent call last)",
      "Cell \u001b[0;32mIn[20], line 1\u001b[0m\n\u001b[0;32m----> 1\u001b[0m \u001b[43mreduce\u001b[49m\u001b[43m(\u001b[49m\u001b[38;5;28;43;01mlambda\u001b[39;49;00m\u001b[43m \u001b[49m\u001b[43mx\u001b[49m\u001b[43m,\u001b[49m\u001b[43my\u001b[49m\u001b[43m,\u001b[49m\u001b[43mz\u001b[49m\u001b[43m \u001b[49m\u001b[43m:\u001b[49m\u001b[43m \u001b[49m\u001b[43mx\u001b[49m\u001b[38;5;241;43m+\u001b[39;49m\u001b[43my\u001b[49m\u001b[38;5;241;43m+\u001b[39;49m\u001b[43mz\u001b[49m\u001b[43m \u001b[49m\u001b[43m,\u001b[49m\u001b[43m \u001b[49m\u001b[43ml\u001b[49m\u001b[43m)\u001b[49m \n\u001b[1;32m      2\u001b[0m \u001b[38;5;66;03m# introduce only two parameters because of sometimes lists third parameter left at the end \u001b[39;00m\n",
      "\u001b[0;31mTypeError\u001b[0m: <lambda>() missing 1 required positional argument: 'z'"
     ]
    }
   ],
   "source": [
    "reduce(lambda x,y,z : x+y+z , l) \n",
    "# introduce only two parameters because of sometimes lists third parameter left at the end "
   ]
  },
  {
   "cell_type": "code",
   "execution_count": null,
   "id": "586324b1-1839-456b-9dd7-8dafa8dabd30",
   "metadata": {},
   "outputs": [],
   "source": [
    "#in case of reduce only 2 parameters pass"
   ]
  },
  {
   "cell_type": "code",
   "execution_count": 21,
   "id": "d887e3a4-f2cd-40c5-9f2c-2bc960a78176",
   "metadata": {},
   "outputs": [
    {
     "ename": "TypeError",
     "evalue": "reduce() of empty iterable with no initial value",
     "output_type": "error",
     "traceback": [
      "\u001b[0;31m---------------------------------------------------------------------------\u001b[0m",
      "\u001b[0;31mTypeError\u001b[0m                                 Traceback (most recent call last)",
      "Cell \u001b[0;32mIn[21], line 1\u001b[0m\n\u001b[0;32m----> 1\u001b[0m \u001b[43mreduce\u001b[49m\u001b[43m(\u001b[49m\u001b[38;5;28;43;01mlambda\u001b[39;49;00m\u001b[43m \u001b[49m\u001b[43mx\u001b[49m\u001b[43m,\u001b[49m\u001b[43my\u001b[49m\u001b[43m:\u001b[49m\u001b[43m \u001b[49m\u001b[43mx\u001b[49m\u001b[38;5;241;43m+\u001b[39;49m\u001b[43my\u001b[49m\u001b[43m \u001b[49m\u001b[43m,\u001b[49m\u001b[43m[\u001b[49m\u001b[43m]\u001b[49m\u001b[43m)\u001b[49m \n",
      "\u001b[0;31mTypeError\u001b[0m: reduce() of empty iterable with no initial value"
     ]
    }
   ],
   "source": [
    "reduce(lambda x,y: x+y ,[]) "
   ]
  },
  {
   "cell_type": "code",
   "execution_count": 22,
   "id": "ccb45d5c-4066-46c3-a72c-eccc272856fb",
   "metadata": {},
   "outputs": [
    {
     "data": {
      "text/plain": [
       "1"
      ]
     },
     "execution_count": 22,
     "metadata": {},
     "output_type": "execute_result"
    }
   ],
   "source": [
    "reduce(lambda x,y: x+y ,[1])\n",
    "#this is exceptional case of reduce when we pass one data but necessary of only two parameters x,y not more than 2parameter then it shows error"
   ]
  },
  {
   "cell_type": "code",
   "execution_count": 23,
   "id": "76884531-8ceb-40b2-8fa4-08137efcb8eb",
   "metadata": {},
   "outputs": [
    {
     "data": {
      "text/plain": [
       "360"
      ]
     },
     "execution_count": 23,
     "metadata": {},
     "output_type": "execute_result"
    }
   ],
   "source": [
    "reduce(lambda x,y : x*y ,l)"
   ]
  },
  {
   "cell_type": "code",
   "execution_count": 24,
   "id": "b5c1cda4-e9c2-4297-9ebe-fe92b0215e36",
   "metadata": {},
   "outputs": [
    {
     "data": {
      "text/plain": [
       "[1, 2, 3, 3, 4, 5]"
      ]
     },
     "execution_count": 24,
     "metadata": {},
     "output_type": "execute_result"
    }
   ],
   "source": [
    "l"
   ]
  },
  {
   "cell_type": "code",
   "execution_count": 25,
   "id": "0c007606-203e-431a-a192-678dc26b56e6",
   "metadata": {},
   "outputs": [
    {
     "data": {
      "text/plain": [
       "5"
      ]
     },
     "execution_count": 25,
     "metadata": {},
     "output_type": "execute_result"
    }
   ],
   "source": [
    "#find the max number in l.\n",
    "#use the reduce because output is single data\n",
    "reduce(lambda x,y : x if x>y else y ,l)"
   ]
  },
  {
   "cell_type": "code",
   "execution_count": null,
   "id": "78596f09-0568-4187-8839-be7131baa034",
   "metadata": {},
   "outputs": [],
   "source": [
    "#map is mapper \n",
    "#reduce is collapse \n",
    "#filter is filter "
   ]
  },
  {
   "cell_type": "code",
   "execution_count": null,
   "id": "eb82539b-dab3-42ac-a3a4-3eed3db78bc0",
   "metadata": {},
   "outputs": [],
   "source": [
    "#filter function"
   ]
  },
  {
   "cell_type": "code",
   "execution_count": 26,
   "id": "0f1154e2-8f40-434c-a7af-2c08495638b2",
   "metadata": {},
   "outputs": [
    {
     "data": {
      "text/plain": [
       "[1, 2, 3, 3, 4, 5]"
      ]
     },
     "execution_count": 26,
     "metadata": {},
     "output_type": "execute_result"
    }
   ],
   "source": [
    "l"
   ]
  },
  {
   "cell_type": "code",
   "execution_count": 27,
   "id": "59e74649-12cb-46ba-8d84-1b0e4996f91f",
   "metadata": {},
   "outputs": [
    {
     "data": {
      "text/plain": [
       "[2, 4]"
      ]
     },
     "execution_count": 27,
     "metadata": {},
     "output_type": "execute_result"
    }
   ],
   "source": [
    "# find number divisible by 2 \n",
    "#then use filter function.\n",
    "list(filter(lambda x: x%2 == 0 ,l))"
   ]
  },
  {
   "cell_type": "code",
   "execution_count": 29,
   "id": "e4767436-a403-4776-93e8-6e75ba6c470b",
   "metadata": {},
   "outputs": [
    {
     "data": {
      "text/plain": [
       "[1, 3, 3, 5]"
      ]
     },
     "execution_count": 29,
     "metadata": {},
     "output_type": "execute_result"
    }
   ],
   "source": [
    "#find odd number \n",
    "list(filter(lambda x: x%2 !=0 ,l))"
   ]
  },
  {
   "cell_type": "code",
   "execution_count": 30,
   "id": "83f0320d-131a-473f-af4d-46af2d19babd",
   "metadata": {},
   "outputs": [],
   "source": [
    "l1 = [-3,4,5,6,-1,-5]"
   ]
  },
  {
   "cell_type": "code",
   "execution_count": 32,
   "id": "b69ec77f-170f-4e2c-a4e2-5c2ce356c5da",
   "metadata": {},
   "outputs": [
    {
     "data": {
      "text/plain": [
       "[-3, -1, -5]"
      ]
     },
     "execution_count": 32,
     "metadata": {},
     "output_type": "execute_result"
    }
   ],
   "source": [
    "#find the list of negative number \n",
    "list(filter(lambda x: x<0 ,l1))"
   ]
  },
  {
   "cell_type": "code",
   "execution_count": 33,
   "id": "587a8ac1-9e10-4f9b-ab2f-7aa5d2178954",
   "metadata": {},
   "outputs": [],
   "source": [
    "l2 = ['sudh' , 'pwskills' ,'kumar' ,'banglore' ,'krish']"
   ]
  },
  {
   "cell_type": "code",
   "execution_count": 35,
   "id": "1665ffef-afe4-4468-bead-d09247703c2f",
   "metadata": {},
   "outputs": [
    {
     "data": {
      "text/plain": [
       "['sudh', 'kumar', 'krish']"
      ]
     },
     "execution_count": 35,
     "metadata": {},
     "output_type": "execute_result"
    }
   ],
   "source": [
    "#find the length less than 6 \n",
    "list(filter(lambda x: len(x)<6 ,l2))"
   ]
  },
  {
   "cell_type": "code",
   "execution_count": null,
   "id": "f6251d0a-6112-493b-a7f0-fe65565d8df6",
   "metadata": {},
   "outputs": [],
   "source": [
    "#data collection then to filter some data ,use filter function"
   ]
  }
 ],
 "metadata": {
  "kernelspec": {
   "display_name": "Python 3 (ipykernel)",
   "language": "python",
   "name": "python3"
  },
  "language_info": {
   "codemirror_mode": {
    "name": "ipython",
    "version": 3
   },
   "file_extension": ".py",
   "mimetype": "text/x-python",
   "name": "python",
   "nbconvert_exporter": "python",
   "pygments_lexer": "ipython3",
   "version": "3.10.8"
  }
 },
 "nbformat": 4,
 "nbformat_minor": 5
}
