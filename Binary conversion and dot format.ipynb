{
 "cells": [
  {
   "cell_type": "code",
   "execution_count": 1,
   "id": "8042beec-1ede-41da-9c29-45c24555d82f",
   "metadata": {},
   "outputs": [
    {
     "data": {
      "text/plain": [
       "'0b1110'"
      ]
     },
     "execution_count": 1,
     "metadata": {},
     "output_type": "execute_result"
    }
   ],
   "source": [
    "bin(14)"
   ]
  },
  {
   "cell_type": "code",
   "execution_count": 2,
   "id": "7b0284aa-8bbb-4b9b-846d-4f96524e7c0d",
   "metadata": {},
   "outputs": [
    {
     "data": {
      "text/plain": [
       "'0b1010'"
      ]
     },
     "execution_count": 2,
     "metadata": {},
     "output_type": "execute_result"
    }
   ],
   "source": [
    "bin(10)"
   ]
  },
  {
   "cell_type": "code",
   "execution_count": 3,
   "id": "a74a1188-e327-475e-941c-d1a481ee6713",
   "metadata": {},
   "outputs": [
    {
     "data": {
      "text/plain": [
       "'0b100'"
      ]
     },
     "execution_count": 3,
     "metadata": {},
     "output_type": "execute_result"
    }
   ],
   "source": [
    "bin(4)"
   ]
  },
  {
   "cell_type": "raw",
   "id": "79782d68-151f-4b04-974e-957610dd1b97",
   "metadata": {
    "tags": []
   },
   "source": [
    "1010\n",
    "0100\n",
    "----\n",
    "1110"
   ]
  },
  {
   "cell_type": "code",
   "execution_count": 4,
   "id": "5d911096-95c3-4ff3-9845-b3c6f3c7f82f",
   "metadata": {
    "collapsed": true,
    "jupyter": {
     "outputs_hidden": true
    },
    "tags": []
   },
   "outputs": [
    {
     "data": {
      "text/plain": [
       "14"
      ]
     },
     "execution_count": 4,
     "metadata": {},
     "output_type": "execute_result"
    }
   ],
   "source": [
    "A=10 \n",
    "B=4\n",
    "A | B"
   ]
  },
  {
   "cell_type": "code",
   "execution_count": 5,
   "id": "9fd6507a-b108-4d2e-9fe1-c55464653aef",
   "metadata": {},
   "outputs": [],
   "source": [
    "a= 10"
   ]
  },
  {
   "cell_type": "code",
   "execution_count": 6,
   "id": "b68ea30a-8fc3-479a-9e42-7c014533e4a0",
   "metadata": {},
   "outputs": [],
   "source": [
    "b =4"
   ]
  },
  {
   "cell_type": "code",
   "execution_count": 7,
   "id": "6253b1a7-9c65-418d-9cbc-9f2e72bfaffb",
   "metadata": {},
   "outputs": [
    {
     "data": {
      "text/plain": [
       "14"
      ]
     },
     "execution_count": 7,
     "metadata": {},
     "output_type": "execute_result"
    }
   ],
   "source": [
    "a ^ b"
   ]
  },
  {
   "cell_type": "code",
   "execution_count": 8,
   "id": "2daf6220-4d8b-46c9-82d3-3de9dcdb209e",
   "metadata": {},
   "outputs": [
    {
     "data": {
      "text/plain": [
       "2"
      ]
     },
     "execution_count": 8,
     "metadata": {},
     "output_type": "execute_result"
    }
   ],
   "source": [
    "a%b"
   ]
  },
  {
   "cell_type": "code",
   "execution_count": 9,
   "id": "bc44329c-16b7-4519-bcc9-83b2fa42d38c",
   "metadata": {},
   "outputs": [
    {
     "data": {
      "text/plain": [
       "0"
      ]
     },
     "execution_count": 9,
     "metadata": {},
     "output_type": "execute_result"
    }
   ],
   "source": [
    "a& b"
   ]
  },
  {
   "cell_type": "code",
   "execution_count": 10,
   "id": "df32ee5e-68d5-4c85-a24e-dbe0a392c6c5",
   "metadata": {},
   "outputs": [],
   "source": [
    "a = 10"
   ]
  },
  {
   "cell_type": "code",
   "execution_count": 11,
   "id": "04417d8b-add6-45ae-98c5-78529626fe30",
   "metadata": {},
   "outputs": [
    {
     "data": {
      "text/plain": [
       "20"
      ]
     },
     "execution_count": 11,
     "metadata": {},
     "output_type": "execute_result"
    }
   ],
   "source": [
    "a<<1"
   ]
  },
  {
   "cell_type": "code",
   "execution_count": 12,
   "id": "45bc91d8-9847-42ac-ad34-1ea331a30265",
   "metadata": {},
   "outputs": [
    {
     "data": {
      "text/plain": [
       "40"
      ]
     },
     "execution_count": 12,
     "metadata": {},
     "output_type": "execute_result"
    }
   ],
   "source": [
    "a<<2"
   ]
  },
  {
   "cell_type": "code",
   "execution_count": 13,
   "id": "e082e36d-7cab-4c0b-9ac8-e6e13f9e3a46",
   "metadata": {},
   "outputs": [
    {
     "data": {
      "text/plain": [
       "80"
      ]
     },
     "execution_count": 13,
     "metadata": {},
     "output_type": "execute_result"
    }
   ],
   "source": [
    "a<<3"
   ]
  },
  {
   "cell_type": "code",
   "execution_count": 14,
   "id": "ab74bb0f-0316-40af-96a3-034a85e47619",
   "metadata": {},
   "outputs": [
    {
     "data": {
      "text/plain": [
       "'0b10100'"
      ]
     },
     "execution_count": 14,
     "metadata": {},
     "output_type": "execute_result"
    }
   ],
   "source": [
    "bin(20)"
   ]
  },
  {
   "cell_type": "markdown",
   "id": "6a6c1d7f-1e78-4a66-8cec-a0f4eb52adbb",
   "metadata": {},
   "source": [
    "1010\n",
    "00000\n",
    "------\n",
    "10100"
   ]
  },
  {
   "cell_type": "code",
   "execution_count": 21,
   "id": "63486bf5-ab4b-442c-9a92-812e69945a10",
   "metadata": {},
   "outputs": [
    {
     "data": {
      "text/plain": [
       "'0b101000'"
      ]
     },
     "execution_count": 21,
     "metadata": {},
     "output_type": "execute_result"
    }
   ],
   "source": [
    "bin(40)"
   ]
  },
  {
   "cell_type": "code",
   "execution_count": 22,
   "id": "29b9bdf7-0842-45a2-a077-7c122cea1dab",
   "metadata": {},
   "outputs": [
    {
     "data": {
      "text/plain": [
       "'0b1010000'"
      ]
     },
     "execution_count": 22,
     "metadata": {},
     "output_type": "execute_result"
    }
   ],
   "source": [
    "bin(80)"
   ]
  },
  {
   "cell_type": "markdown",
   "id": "73021fd7-8904-40fd-a635-890924d27775",
   "metadata": {},
   "source": [
    "left shift 0 add which pass though"
   ]
  },
  {
   "cell_type": "code",
   "execution_count": 23,
   "id": "02446528-479e-41d0-9c2a-fddb666f4d57",
   "metadata": {},
   "outputs": [],
   "source": [
    "a =10"
   ]
  },
  {
   "cell_type": "code",
   "execution_count": 24,
   "id": "3d1a879a-cb4f-43fe-8c6e-2d8367faa390",
   "metadata": {},
   "outputs": [
    {
     "data": {
      "text/plain": [
       "5"
      ]
     },
     "execution_count": 24,
     "metadata": {},
     "output_type": "execute_result"
    }
   ],
   "source": [
    "a>>1"
   ]
  },
  {
   "cell_type": "code",
   "execution_count": 25,
   "id": "682d8036-d027-4ed6-af42-8ce17af9707b",
   "metadata": {},
   "outputs": [
    {
     "data": {
      "text/plain": [
       "'0b101'"
      ]
     },
     "execution_count": 25,
     "metadata": {},
     "output_type": "execute_result"
    }
   ],
   "source": [
    "bin(5)"
   ]
  },
  {
   "cell_type": "raw",
   "id": "ac6a0228-6345-4967-9b52-1a86d1c21703",
   "metadata": {},
   "source": [
    "00001010\n",
    "0001010\n",
    "--------\n",
    "0000101"
   ]
  },
  {
   "cell_type": "code",
   "execution_count": 26,
   "id": "b292f834-892c-410e-9a59-cf0f48c6d7d8",
   "metadata": {},
   "outputs": [
    {
     "data": {
      "text/plain": [
       "2"
      ]
     },
     "execution_count": 26,
     "metadata": {},
     "output_type": "execute_result"
    }
   ],
   "source": [
    "a>>2"
   ]
  },
  {
   "cell_type": "code",
   "execution_count": 27,
   "id": "02b5b726-a553-4adf-af9a-e8684a247a42",
   "metadata": {},
   "outputs": [
    {
     "data": {
      "text/plain": [
       "'0b10'"
      ]
     },
     "execution_count": 27,
     "metadata": {},
     "output_type": "execute_result"
    }
   ],
   "source": [
    "bin(2)"
   ]
  },
  {
   "cell_type": "code",
   "execution_count": 28,
   "id": "05eaf2df-a993-44ab-981d-cf9442b69635",
   "metadata": {},
   "outputs": [
    {
     "data": {
      "text/plain": [
       "1"
      ]
     },
     "execution_count": 28,
     "metadata": {},
     "output_type": "execute_result"
    }
   ],
   "source": [
    "a>>3"
   ]
  },
  {
   "cell_type": "code",
   "execution_count": 29,
   "id": "a1f30f21-e33f-4964-af44-4c8e38446528",
   "metadata": {},
   "outputs": [
    {
     "data": {
      "text/plain": [
       "0"
      ]
     },
     "execution_count": 29,
     "metadata": {},
     "output_type": "execute_result"
    }
   ],
   "source": [
    "a>>4"
   ]
  },
  {
   "cell_type": "code",
   "execution_count": 15,
   "id": "8ddf609b-af75-4a98-9268-dfc3703556e5",
   "metadata": {},
   "outputs": [
    {
     "name": "stdout",
     "output_type": "stream",
     "text": [
      "age is  20\n"
     ]
    }
   ],
   "source": [
    "a =20\n",
    "print('age is ',a)"
   ]
  },
  {
   "cell_type": "code",
   "execution_count": 16,
   "id": "2d65ee46-d7ee-497d-9441-12324d113535",
   "metadata": {},
   "outputs": [
    {
     "ename": "TypeError",
     "evalue": "can only concatenate str (not \"int\") to str",
     "output_type": "error",
     "traceback": [
      "\u001b[0;31m---------------------------------------------------------------------------\u001b[0m",
      "\u001b[0;31mTypeError\u001b[0m                                 Traceback (most recent call last)",
      "Cell \u001b[0;32mIn[16], line 2\u001b[0m\n\u001b[1;32m      1\u001b[0m a\u001b[38;5;241m=\u001b[39m\u001b[38;5;241m25\u001b[39m\n\u001b[0;32m----> 2\u001b[0m \u001b[38;5;28mprint\u001b[39m(\u001b[38;5;124;43m'\u001b[39;49m\u001b[38;5;124;43mthe age is\u001b[39;49m\u001b[38;5;124;43m'\u001b[39;49m\u001b[38;5;241;43m+\u001b[39;49m\u001b[43m \u001b[49m\u001b[43ma\u001b[49m)\n",
      "\u001b[0;31mTypeError\u001b[0m: can only concatenate str (not \"int\") to str"
     ]
    }
   ],
   "source": [
    "a=25\n",
    "print('the age is'+ a)"
   ]
  },
  {
   "cell_type": "code",
   "execution_count": 17,
   "id": "e62f0c36-fbb4-46bb-b662-aba33249b46f",
   "metadata": {},
   "outputs": [
    {
     "name": "stdout",
     "output_type": "stream",
     "text": [
      "komalsingh\n"
     ]
    }
   ],
   "source": [
    "a = 'komal'\n",
    "print(a + \"singh\")"
   ]
  },
  {
   "cell_type": "code",
   "execution_count": 18,
   "id": "ae919d32-9738-448d-9bf3-ab7b74d3074f",
   "metadata": {},
   "outputs": [
    {
     "name": "stdout",
     "output_type": "stream",
     "text": [
      "pw and skills\n"
     ]
    }
   ],
   "source": [
    "a ='pw'\n",
    "b ='skills'\n",
    "print('{} and {}'.format(a,b))"
   ]
  },
  {
   "cell_type": "code",
   "execution_count": null,
   "id": "71536779-9161-4fe1-89be-3770ebefd074",
   "metadata": {},
   "outputs": [],
   "source": []
  },
  {
   "cell_type": "code",
   "execution_count": 19,
   "id": "8438137a-6d5e-418b-88af-cb459c6f0178",
   "metadata": {},
   "outputs": [
    {
     "name": "stdout",
     "output_type": "stream",
     "text": [
      "skills and pw\n"
     ]
    }
   ],
   "source": [
    "a ='pw'\n",
    "b ='skills'\n",
    "print('{1} and {0}'.format(a,b))"
   ]
  },
  {
   "cell_type": "code",
   "execution_count": 20,
   "id": "eae7f362-6b02-4808-a694-3406fcb0ef86",
   "metadata": {},
   "outputs": [
    {
     "name": "stdout",
     "output_type": "stream",
     "text": [
      "2 and 4\n"
     ]
    }
   ],
   "source": [
    "print('{} and {}'.format(2,4))"
   ]
  },
  {
   "cell_type": "code",
   "execution_count": 20,
   "id": "536b53ae-d9eb-4127-b45c-4be2e783ea8b",
   "metadata": {},
   "outputs": [
    {
     "name": "stdout",
     "output_type": "stream",
     "text": [
      "2 and 4\n"
     ]
    }
   ],
   "source": [
    "print('{} and {}'.format(2,4))"
   ]
  },
  {
   "cell_type": "code",
   "execution_count": null,
   "id": "5b5664e6-d06d-414a-aa70-37a82516c4b8",
   "metadata": {},
   "outputs": [],
   "source": []
  },
  {
   "cell_type": "code",
   "execution_count": 22,
   "id": "2646e0ad-3eca-4cfc-9d4a-8ad91bc471c5",
   "metadata": {},
   "outputs": [
    {
     "name": "stdout",
     "output_type": "stream",
     "text": [
      "pw and skills\n"
     ]
    }
   ],
   "source": [
    "print('{0} and {1}'.format(a,b))"
   ]
  },
  {
   "cell_type": "code",
   "execution_count": null,
   "id": "c482cbb2-54f0-4ed9-97b0-af66f08587cf",
   "metadata": {},
   "outputs": [],
   "source": []
  }
 ],
 "metadata": {
  "kernelspec": {
   "display_name": "Python 3 (ipykernel)",
   "language": "python",
   "name": "python3"
  },
  "language_info": {
   "codemirror_mode": {
    "name": "ipython",
    "version": 3
   },
   "file_extension": ".py",
   "mimetype": "text/x-python",
   "name": "python",
   "nbconvert_exporter": "python",
   "pygments_lexer": "ipython3",
   "version": "3.10.8"
  }
 },
 "nbformat": 4,
 "nbformat_minor": 5
}
