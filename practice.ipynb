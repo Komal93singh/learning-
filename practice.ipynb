{
 "cells": [
  {
   "cell_type": "code",
   "execution_count": null,
   "id": "791a04e0-ced5-4e3a-8df4-ab5abcdf9adf",
   "metadata": {},
   "outputs": [],
   "source": [
    "                                             ****PRACTICE****"
   ]
  },
  {
   "cell_type": "code",
   "execution_count": 1,
   "id": "1dc0cec1-61a1-47e7-9097-8a6ee909c57c",
   "metadata": {},
   "outputs": [
    {
     "name": "stdout",
     "output_type": "stream",
     "text": [
      "this is Github\n"
     ]
    }
   ],
   "source": [
    "print(\"this is Github\")"
   ]
  },
  {
   "cell_type": "code",
   "execution_count": 2,
   "id": "66b40122-322d-4dad-8516-5ee9e59a9d72",
   "metadata": {},
   "outputs": [],
   "source": [
    "a = 1000*3"
   ]
  },
  {
   "cell_type": "code",
   "execution_count": 3,
   "id": "6df0515f-2c0e-481c-9b82-c99ea2957eff",
   "metadata": {},
   "outputs": [
    {
     "data": {
      "text/plain": [
       "3000"
      ]
     },
     "execution_count": 3,
     "metadata": {},
     "output_type": "execute_result"
    }
   ],
   "source": [
    "a"
   ]
  },
  {
   "cell_type": "code",
   "execution_count": 4,
   "id": "c92609fc-83aa-4bd7-9aff-32f9be89bbbd",
   "metadata": {},
   "outputs": [],
   "source": [
    "st = \"Github\""
   ]
  },
  {
   "cell_type": "code",
   "execution_count": 5,
   "id": "71eaac8d-7bdc-4318-a507-76a1e2bd1dbb",
   "metadata": {},
   "outputs": [
    {
     "data": {
      "text/plain": [
       "<function str.capitalize()>"
      ]
     },
     "execution_count": 5,
     "metadata": {},
     "output_type": "execute_result"
    }
   ],
   "source": [
    "st.capitalize"
   ]
  },
  {
   "cell_type": "code",
   "execution_count": 6,
   "id": "dca7a6c4-ecbc-4816-81d3-f10ce762eb28",
   "metadata": {},
   "outputs": [
    {
     "data": {
      "text/plain": [
       "'Github'"
      ]
     },
     "execution_count": 6,
     "metadata": {},
     "output_type": "execute_result"
    }
   ],
   "source": [
    "st.capitalize()"
   ]
  },
  {
   "cell_type": "code",
   "execution_count": 7,
   "id": "452e3a79-e33c-42e7-af6b-8f3ad44a43e2",
   "metadata": {},
   "outputs": [
    {
     "data": {
      "text/plain": [
       "4"
      ]
     },
     "execution_count": 7,
     "metadata": {},
     "output_type": "execute_result"
    }
   ],
   "source": [
    "st.find('u')"
   ]
  },
  {
   "cell_type": "code",
   "execution_count": 8,
   "id": "8e85db37-98c7-4268-b747-b10ba2c76b9d",
   "metadata": {},
   "outputs": [
    {
     "data": {
      "text/plain": [
       "'Github'"
      ]
     },
     "execution_count": 8,
     "metadata": {},
     "output_type": "execute_result"
    }
   ],
   "source": [
    "st"
   ]
  },
  {
   "cell_type": "code",
   "execution_count": 9,
   "id": "0d65b8d6-9526-4990-a649-3256f3388570",
   "metadata": {},
   "outputs": [
    {
     "data": {
      "text/plain": [
       "'GITHUB'"
      ]
     },
     "execution_count": 9,
     "metadata": {},
     "output_type": "execute_result"
    }
   ],
   "source": [
    "st.upper()"
   ]
  },
  {
   "cell_type": "code",
   "execution_count": 10,
   "id": "07f602d5-6678-4d9e-acf0-b84a6877c42b",
   "metadata": {},
   "outputs": [
    {
     "data": {
      "text/plain": [
       "'github'"
      ]
     },
     "execution_count": 10,
     "metadata": {},
     "output_type": "execute_result"
    }
   ],
   "source": [
    "st.lower()"
   ]
  },
  {
   "cell_type": "code",
   "execution_count": 12,
   "id": "aca78c08-a5e0-46b7-b93b-98f1f435cc7e",
   "metadata": {},
   "outputs": [
    {
     "data": {
      "text/plain": [
       "'Gathub'"
      ]
     },
     "execution_count": 12,
     "metadata": {},
     "output_type": "execute_result"
    }
   ],
   "source": [
    "st.replace('i','a')"
   ]
  },
  {
   "cell_type": "code",
   "execution_count": 13,
   "id": "873157b1-e064-484c-87d1-d6a52e0fde4c",
   "metadata": {},
   "outputs": [],
   "source": [
    "s = 123"
   ]
  },
  {
   "cell_type": "code",
   "execution_count": 14,
   "id": "5ae2cb7c-a455-463b-b96e-babd5df8ff59",
   "metadata": {},
   "outputs": [
    {
     "data": {
      "text/plain": [
       "123"
      ]
     },
     "execution_count": 14,
     "metadata": {},
     "output_type": "execute_result"
    }
   ],
   "source": [
    "s"
   ]
  },
  {
   "cell_type": "code",
   "execution_count": 16,
   "id": "5063a2c6-f69c-4b71-9090-792ab379d9c3",
   "metadata": {},
   "outputs": [],
   "source": [
    "str = 'account'"
   ]
  },
  {
   "cell_type": "code",
   "execution_count": 17,
   "id": "f7afc5c8-f201-4f2f-8f6b-17e9257a86f1",
   "metadata": {},
   "outputs": [],
   "source": [
    "str1 ='github '"
   ]
  },
  {
   "cell_type": "code",
   "execution_count": 18,
   "id": "2cded4c6-a9f4-4afe-934d-cc9bdbefa006",
   "metadata": {},
   "outputs": [
    {
     "data": {
      "text/plain": [
       "'github account'"
      ]
     },
     "execution_count": 18,
     "metadata": {},
     "output_type": "execute_result"
    }
   ],
   "source": [
    "str1 + str"
   ]
  },
  {
   "cell_type": "code",
   "execution_count": 19,
   "id": "ff75af22-82d9-464d-887a-66b4a7cc3ed1",
   "metadata": {},
   "outputs": [
    {
     "data": {
      "text/plain": [
       "7"
      ]
     },
     "execution_count": 19,
     "metadata": {},
     "output_type": "execute_result"
    }
   ],
   "source": [
    "len(str)"
   ]
  },
  {
   "cell_type": "code",
   "execution_count": 27,
   "id": "c70f12f0-8315-4447-8547-e8dcee0481b4",
   "metadata": {},
   "outputs": [
    {
     "data": {
      "text/plain": [
       "123"
      ]
     },
     "execution_count": 27,
     "metadata": {},
     "output_type": "execute_result"
    }
   ],
   "source": [
    "s"
   ]
  },
  {
   "cell_type": "code",
   "execution_count": 28,
   "id": "b55e758f-032f-4ebf-b577-f1688fd952c4",
   "metadata": {},
   "outputs": [
    {
     "data": {
      "text/plain": [
       "'account'"
      ]
     },
     "execution_count": 28,
     "metadata": {},
     "output_type": "execute_result"
    }
   ],
   "source": [
    "str"
   ]
  },
  {
   "cell_type": "code",
   "execution_count": 29,
   "id": "31ed43f6-131a-439e-8ccf-909f65e2db8b",
   "metadata": {},
   "outputs": [
    {
     "data": {
      "text/plain": [
       "'github '"
      ]
     },
     "execution_count": 29,
     "metadata": {},
     "output_type": "execute_result"
    }
   ],
   "source": [
    "str1"
   ]
  },
  {
   "cell_type": "code",
   "execution_count": 30,
   "id": "1213460f-c2f6-4c10-8cde-634f7d4a9479",
   "metadata": {},
   "outputs": [
    {
     "data": {
      "text/plain": [
       "'github github github '"
      ]
     },
     "execution_count": 30,
     "metadata": {},
     "output_type": "execute_result"
    }
   ],
   "source": [
    "str1*3"
   ]
  },
  {
   "cell_type": "code",
   "execution_count": 31,
   "id": "f9b84117-d8db-412e-8287-3434ee4bdc35",
   "metadata": {},
   "outputs": [
    {
     "data": {
      "text/plain": [
       "'GITHUB '"
      ]
     },
     "execution_count": 31,
     "metadata": {},
     "output_type": "execute_result"
    }
   ],
   "source": [
    "str1.upper()"
   ]
  },
  {
   "cell_type": "code",
   "execution_count": 32,
   "id": "0298271f-1d58-42e9-82dc-c553c6f65e8e",
   "metadata": {},
   "outputs": [
    {
     "data": {
      "text/plain": [
       "'github '"
      ]
     },
     "execution_count": 32,
     "metadata": {},
     "output_type": "execute_result"
    }
   ],
   "source": [
    "str1.lower()"
   ]
  },
  {
   "cell_type": "code",
   "execution_count": 33,
   "id": "f2b01af7-122e-407a-a78c-b960c4a3627a",
   "metadata": {},
   "outputs": [
    {
     "data": {
      "text/plain": [
       "<function str.upper()>"
      ]
     },
     "execution_count": 33,
     "metadata": {},
     "output_type": "execute_result"
    }
   ],
   "source": [
    "str1.upper"
   ]
  },
  {
   "cell_type": "code",
   "execution_count": 34,
   "id": "f75792aa-61bb-40d2-93dc-aa56797420cc",
   "metadata": {},
   "outputs": [
    {
     "data": {
      "text/plain": [
       "<function str.lower()>"
      ]
     },
     "execution_count": 34,
     "metadata": {},
     "output_type": "execute_result"
    }
   ],
   "source": [
    "str1.lower"
   ]
  },
  {
   "cell_type": "code",
   "execution_count": 35,
   "id": "fd80c25a-d0a7-4dca-b476-1e089337aa4c",
   "metadata": {},
   "outputs": [
    {
     "data": {
      "text/plain": [
       "'Github '"
      ]
     },
     "execution_count": 35,
     "metadata": {},
     "output_type": "execute_result"
    }
   ],
   "source": [
    "str1.capitalize()"
   ]
  },
  {
   "cell_type": "code",
   "execution_count": 36,
   "id": "10f1bbc2-f423-4813-88d4-cd225cdb2456",
   "metadata": {},
   "outputs": [
    {
     "data": {
      "text/plain": [
       "<function str.capitalize()>"
      ]
     },
     "execution_count": 36,
     "metadata": {},
     "output_type": "execute_result"
    }
   ],
   "source": [
    "str1.capitalize"
   ]
  },
  {
   "cell_type": "code",
   "execution_count": 37,
   "id": "57aed578-b2b0-4f8a-be7f-50cc45861c0a",
   "metadata": {},
   "outputs": [],
   "source": [
    "p = \"this is nice work\""
   ]
  },
  {
   "cell_type": "code",
   "execution_count": 38,
   "id": "78d75709-19a6-426f-bd3b-0693e38cf41c",
   "metadata": {},
   "outputs": [
    {
     "data": {
      "text/plain": [
       "'this is nice work'"
      ]
     },
     "execution_count": 38,
     "metadata": {},
     "output_type": "execute_result"
    }
   ],
   "source": [
    "p"
   ]
  },
  {
   "cell_type": "code",
   "execution_count": 39,
   "id": "61baefad-be94-4edd-9d9a-cb2d072fd16b",
   "metadata": {},
   "outputs": [
    {
     "data": {
      "text/plain": [
       "'THIS IS NICE WORK'"
      ]
     },
     "execution_count": 39,
     "metadata": {},
     "output_type": "execute_result"
    }
   ],
   "source": [
    "p.upper()"
   ]
  },
  {
   "cell_type": "code",
   "execution_count": 40,
   "id": "7768bc04-4ca6-4b96-a039-ce5cc87536ad",
   "metadata": {},
   "outputs": [
    {
     "data": {
      "text/plain": [
       "'this is nice work'"
      ]
     },
     "execution_count": 40,
     "metadata": {},
     "output_type": "execute_result"
    }
   ],
   "source": [
    "p.lower()"
   ]
  },
  {
   "cell_type": "code",
   "execution_count": 41,
   "id": "06c857e9-104a-4541-8e51-64c6af74ce24",
   "metadata": {},
   "outputs": [
    {
     "data": {
      "text/plain": [
       "'This is nice work'"
      ]
     },
     "execution_count": 41,
     "metadata": {},
     "output_type": "execute_result"
    }
   ],
   "source": [
    "p.capitalize()"
   ]
  },
  {
   "cell_type": "code",
   "execution_count": 44,
   "id": "3a47cdd4-4a27-4fe2-b081-4c2265313d5e",
   "metadata": {},
   "outputs": [
    {
     "data": {
      "text/plain": [
       "False"
      ]
     },
     "execution_count": 44,
     "metadata": {},
     "output_type": "execute_result"
    }
   ],
   "source": [
    "p.isalnum()"
   ]
  },
  {
   "cell_type": "code",
   "execution_count": 45,
   "id": "8c4d2406-16c3-42ca-8330-43a96c601a56",
   "metadata": {},
   "outputs": [
    {
     "data": {
      "text/plain": [
       "<function str.isalnum()>"
      ]
     },
     "execution_count": 45,
     "metadata": {},
     "output_type": "execute_result"
    }
   ],
   "source": [
    "p.isalnum"
   ]
  },
  {
   "cell_type": "code",
   "execution_count": 46,
   "id": "7cdca3fd-8a50-4eee-b4fa-2f2512face0d",
   "metadata": {},
   "outputs": [
    {
     "data": {
      "text/plain": [
       "'this is nice work'"
      ]
     },
     "execution_count": 46,
     "metadata": {},
     "output_type": "execute_result"
    }
   ],
   "source": [
    "p"
   ]
  },
  {
   "cell_type": "code",
   "execution_count": 47,
   "id": "4b5d389e-ebd8-4474-80d4-96a7a96c4dbe",
   "metadata": {},
   "outputs": [
    {
     "data": {
      "text/plain": [
       "False"
      ]
     },
     "execution_count": 47,
     "metadata": {},
     "output_type": "execute_result"
    }
   ],
   "source": [
    "p.isalpha()"
   ]
  },
  {
   "cell_type": "code",
   "execution_count": 48,
   "id": "ba4155ec-e6b9-42f1-be26-d2d0071d2e08",
   "metadata": {},
   "outputs": [
    {
     "data": {
      "text/plain": [
       "False"
      ]
     },
     "execution_count": 48,
     "metadata": {},
     "output_type": "execute_result"
    }
   ],
   "source": [
    "p.isupper()"
   ]
  },
  {
   "cell_type": "code",
   "execution_count": 49,
   "id": "195d0712-f9b9-4676-8423-07cbb646e4d1",
   "metadata": {},
   "outputs": [
    {
     "data": {
      "text/plain": [
       "True"
      ]
     },
     "execution_count": 49,
     "metadata": {},
     "output_type": "execute_result"
    }
   ],
   "source": [
    "p.islower()"
   ]
  },
  {
   "cell_type": "code",
   "execution_count": 50,
   "id": "52ee0129-e042-40ca-a396-25af1064e3cb",
   "metadata": {},
   "outputs": [
    {
     "data": {
      "text/plain": [
       "'this is nice work'"
      ]
     },
     "execution_count": 50,
     "metadata": {},
     "output_type": "execute_result"
    }
   ],
   "source": [
    "p"
   ]
  },
  {
   "cell_type": "code",
   "execution_count": null,
   "id": "9ddfabbb-4971-484e-bfae-6d78c1c53b84",
   "metadata": {},
   "outputs": [],
   "source": []
  },
  {
   "cell_type": "code",
   "execution_count": 51,
   "id": "0f6e63c3-cb6b-494d-a40e-146a6cd2ecd0",
   "metadata": {},
   "outputs": [],
   "source": [
    "h = 123456"
   ]
  },
  {
   "cell_type": "code",
   "execution_count": 52,
   "id": "c2d757da-57f5-484a-9a42-dafdc207c395",
   "metadata": {},
   "outputs": [
    {
     "data": {
      "text/plain": [
       "int"
      ]
     },
     "execution_count": 52,
     "metadata": {},
     "output_type": "execute_result"
    }
   ],
   "source": [
    "type(h)"
   ]
  },
  {
   "cell_type": "code",
   "execution_count": 54,
   "id": "0369f78b-62da-430d-9e29-da622dcd8ac7",
   "metadata": {},
   "outputs": [
    {
     "data": {
      "text/plain": [
       "123456"
      ]
     },
     "execution_count": 54,
     "metadata": {},
     "output_type": "execute_result"
    }
   ],
   "source": [
    "h"
   ]
  },
  {
   "cell_type": "code",
   "execution_count": null,
   "id": "6afd54d4-6901-44ee-b1a1-3c59246a5583",
   "metadata": {},
   "outputs": [],
   "source": []
  },
  {
   "cell_type": "code",
   "execution_count": null,
   "id": "ccfd858b-1372-4795-a73b-17dba0ab2646",
   "metadata": {},
   "outputs": [],
   "source": [
    "*practice*"
   ]
  },
  {
   "cell_type": "code",
   "execution_count": 58,
   "id": "6cbc464c-b160-4cc0-85f9-8d79a139a181",
   "metadata": {},
   "outputs": [
    {
     "name": "stdin",
     "output_type": "stream",
     "text": [
      "3000 20\n"
     ]
    },
    {
     "name": "stdout",
     "output_type": "stream",
     "text": [
      "this greater than 40\n"
     ]
    }
   ],
   "source": [
    "input(a)\n",
    "if a>40:\n",
    "    print(\"this greater than 40\")\n",
    "elif a>100:\n",
    "    print(\"this is greater than 100\")\n",
    "else :\n",
    "    print(\"this is less than 20\")"
   ]
  },
  {
   "cell_type": "code",
   "execution_count": 61,
   "id": "bb9aa56f-227b-44c6-90c9-342d53f7b9a8",
   "metadata": {},
   "outputs": [],
   "source": [
    "k = 15"
   ]
  },
  {
   "cell_type": "code",
   "execution_count": 62,
   "id": "a6119d20-3156-41ed-90d2-b2efccd35976",
   "metadata": {},
   "outputs": [
    {
     "name": "stdin",
     "output_type": "stream",
     "text": [
      "15 15\n"
     ]
    },
    {
     "name": "stdout",
     "output_type": "stream",
     "text": [
      "this is less than 20\n"
     ]
    }
   ],
   "source": [
    "input(k)\n",
    "if k>40:\n",
    "    print(\"this greater than 40\")\n",
    "elif k>100:\n",
    "    print(\"this is greater than 100\")\n",
    "else :\n",
    "    print(\"this is less than 20\")"
   ]
  },
  {
   "cell_type": "code",
   "execution_count": null,
   "id": "1efff59a-eb8d-4acf-8bf4-efef142b7eae",
   "metadata": {},
   "outputs": [],
   "source": []
  }
 ],
 "metadata": {
  "kernelspec": {
   "display_name": "Python 3 (ipykernel)",
   "language": "python",
   "name": "python3"
  },
  "language_info": {
   "codemirror_mode": {
    "name": "ipython",
    "version": 3
   },
   "file_extension": ".py",
   "mimetype": "text/x-python",
   "name": "python",
   "nbconvert_exporter": "python",
   "pygments_lexer": "ipython3",
   "version": "3.10.8"
  }
 },
 "nbformat": 4,
 "nbformat_minor": 5
}
