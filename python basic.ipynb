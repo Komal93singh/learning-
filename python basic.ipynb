{
 "cells": [
  {
   "cell_type": "code",
   "execution_count": 1,
   "id": "c07c5460-efec-49be-9e69-cebaf84662c6",
   "metadata": {},
   "outputs": [
    {
     "data": {
      "text/plain": [
       "3"
      ]
     },
     "execution_count": 1,
     "metadata": {},
     "output_type": "execute_result"
    }
   ],
   "source": [
    "1+2"
   ]
  },
  {
   "cell_type": "code",
   "execution_count": 2,
   "id": "1038e35b-c674-486c-ac96-9ccc3ce8e3c3",
   "metadata": {},
   "outputs": [],
   "source": [
    "a = 10 "
   ]
  },
  {
   "cell_type": "code",
   "execution_count": 3,
   "id": "3d0f5db7-98b3-4f22-a5b1-600444f384ab",
   "metadata": {},
   "outputs": [
    {
     "data": {
      "text/plain": [
       "10"
      ]
     },
     "execution_count": 3,
     "metadata": {},
     "output_type": "execute_result"
    }
   ],
   "source": [
    "a"
   ]
  },
  {
   "cell_type": "code",
   "execution_count": 4,
   "id": "ffe31103-8979-485e-8625-b8a17912650d",
   "metadata": {},
   "outputs": [],
   "source": [
    "sudh = 23686"
   ]
  },
  {
   "cell_type": "code",
   "execution_count": 5,
   "id": "8a10381a-fee7-420e-8957-83276b8879f1",
   "metadata": {},
   "outputs": [
    {
     "data": {
      "text/plain": [
       "23686"
      ]
     },
     "execution_count": 5,
     "metadata": {},
     "output_type": "execute_result"
    }
   ],
   "source": [
    "sudh"
   ]
  },
  {
   "cell_type": "code",
   "execution_count": 6,
   "id": "a5c87f00-7f64-4d51-8d17-e2eba371540d",
   "metadata": {},
   "outputs": [
    {
     "data": {
      "text/plain": [
       "int"
      ]
     },
     "execution_count": 6,
     "metadata": {},
     "output_type": "execute_result"
    }
   ],
   "source": [
    "type(sudh)"
   ]
  },
  {
   "cell_type": "code",
   "execution_count": 7,
   "id": "e69f6b62-11d1-40af-9598-d25a2139dd21",
   "metadata": {},
   "outputs": [],
   "source": [
    "s = \"pwskills\""
   ]
  },
  {
   "cell_type": "code",
   "execution_count": 8,
   "id": "03ddd7b1-2369-453d-82c6-855883af5b39",
   "metadata": {},
   "outputs": [
    {
     "data": {
      "text/plain": [
       "'pwskills'"
      ]
     },
     "execution_count": 8,
     "metadata": {},
     "output_type": "execute_result"
    }
   ],
   "source": [
    "s"
   ]
  },
  {
   "cell_type": "code",
   "execution_count": 9,
   "id": "ab39260e-8953-4670-ba9a-6e701dfcc0ba",
   "metadata": {},
   "outputs": [
    {
     "data": {
      "text/plain": [
       "str"
      ]
     },
     "execution_count": 9,
     "metadata": {},
     "output_type": "execute_result"
    }
   ],
   "source": [
    "type(s)"
   ]
  },
  {
   "cell_type": "code",
   "execution_count": 10,
   "id": "2d9b72b4-119e-4c20-889c-36bfdee09234",
   "metadata": {},
   "outputs": [],
   "source": [
    "s1 = \"this is my python lecture\""
   ]
  },
  {
   "cell_type": "code",
   "execution_count": 11,
   "id": "fd2a0b20-7f5d-4c1c-8b41-d5f6d4af045f",
   "metadata": {},
   "outputs": [
    {
     "data": {
      "text/plain": [
       "'this is my python lecture'"
      ]
     },
     "execution_count": 11,
     "metadata": {},
     "output_type": "execute_result"
    }
   ],
   "source": [
    "s1"
   ]
  },
  {
   "cell_type": "code",
   "execution_count": 12,
   "id": "ae03324a-5f58-4fed-80b9-49cad970988f",
   "metadata": {},
   "outputs": [
    {
     "data": {
      "text/plain": [
       "str"
      ]
     },
     "execution_count": 12,
     "metadata": {},
     "output_type": "execute_result"
    }
   ],
   "source": [
    "type(s1)"
   ]
  },
  {
   "cell_type": "code",
   "execution_count": 13,
   "id": "b9556402-51a0-4bf4-859b-82323da1e2d9",
   "metadata": {},
   "outputs": [],
   "source": [
    "f = 4567.28788"
   ]
  },
  {
   "cell_type": "code",
   "execution_count": 14,
   "id": "8036f118-e412-476f-92e6-3dc9bc0bb390",
   "metadata": {},
   "outputs": [
    {
     "data": {
      "text/plain": [
       "float"
      ]
     },
     "execution_count": 14,
     "metadata": {},
     "output_type": "execute_result"
    }
   ],
   "source": [
    "type( f )"
   ]
  },
  {
   "cell_type": "code",
   "execution_count": 15,
   "id": "16d1a92c-9671-4bcf-aa7c-198378c0a728",
   "metadata": {},
   "outputs": [],
   "source": [
    "c = 7 + 8j"
   ]
  },
  {
   "cell_type": "code",
   "execution_count": 16,
   "id": "ac2b7e6d-28e6-4490-bea0-57d09630bc57",
   "metadata": {},
   "outputs": [
    {
     "data": {
      "text/plain": [
       "7.0"
      ]
     },
     "execution_count": 16,
     "metadata": {},
     "output_type": "execute_result"
    }
   ],
   "source": [
    "c.real"
   ]
  },
  {
   "cell_type": "code",
   "execution_count": 17,
   "id": "86220066-a92e-4548-8c90-bba3bf8cb2b2",
   "metadata": {},
   "outputs": [
    {
     "data": {
      "text/plain": [
       "8.0"
      ]
     },
     "execution_count": 17,
     "metadata": {},
     "output_type": "execute_result"
    }
   ],
   "source": [
    "c.imag"
   ]
  },
  {
   "cell_type": "code",
   "execution_count": 18,
   "id": "e1b0aa75-61c6-45e6-9c04-0e9bf2866e40",
   "metadata": {},
   "outputs": [
    {
     "data": {
      "text/plain": [
       "complex"
      ]
     },
     "execution_count": 18,
     "metadata": {},
     "output_type": "execute_result"
    }
   ],
   "source": [
    "type(c)"
   ]
  },
  {
   "cell_type": "code",
   "execution_count": 19,
   "id": "c82e5ab5-653c-4773-be0b-5e71ead412a1",
   "metadata": {},
   "outputs": [],
   "source": [
    "b = True"
   ]
  },
  {
   "cell_type": "code",
   "execution_count": 20,
   "id": "d4da365d-f6be-4da2-b84f-192ac8baf558",
   "metadata": {},
   "outputs": [
    {
     "data": {
      "text/plain": [
       "True"
      ]
     },
     "execution_count": 20,
     "metadata": {},
     "output_type": "execute_result"
    }
   ],
   "source": [
    "b"
   ]
  },
  {
   "cell_type": "code",
   "execution_count": 21,
   "id": "039a8228-7e06-4814-84c7-00a4d5af3bd7",
   "metadata": {},
   "outputs": [
    {
     "data": {
      "text/plain": [
       "bool"
      ]
     },
     "execution_count": 21,
     "metadata": {},
     "output_type": "execute_result"
    }
   ],
   "source": [
    "type( b )"
   ]
  },
  {
   "cell_type": "code",
   "execution_count": 22,
   "id": "2c1528b1-bb55-4ba2-bbc2-afa5e8dd7a4e",
   "metadata": {},
   "outputs": [],
   "source": [
    "b1 = False"
   ]
  },
  {
   "cell_type": "code",
   "execution_count": 23,
   "id": "a1019e85-9294-4b0e-92e7-84989bd65d89",
   "metadata": {},
   "outputs": [
    {
     "data": {
      "text/plain": [
       "False"
      ]
     },
     "execution_count": 23,
     "metadata": {},
     "output_type": "execute_result"
    }
   ],
   "source": [
    "b1"
   ]
  },
  {
   "cell_type": "code",
   "execution_count": 24,
   "id": "64e9dc79-ff2c-47ff-95bd-282e321ebb96",
   "metadata": {},
   "outputs": [
    {
     "data": {
      "text/plain": [
       "bool"
      ]
     },
     "execution_count": 24,
     "metadata": {},
     "output_type": "execute_result"
    }
   ],
   "source": [
    "type( b1 )"
   ]
  },
  {
   "cell_type": "code",
   "execution_count": 25,
   "id": "0dc7023e-1cd5-456c-bd47-98aca05f1d21",
   "metadata": {},
   "outputs": [],
   "source": [
    "a1 = 45\n",
    "a2 = 34"
   ]
  },
  {
   "cell_type": "code",
   "execution_count": 26,
   "id": "6df2cb10-7dc8-4e66-9c81-10e85c73942b",
   "metadata": {},
   "outputs": [
    {
     "data": {
      "text/plain": [
       "79"
      ]
     },
     "execution_count": 26,
     "metadata": {},
     "output_type": "execute_result"
    }
   ],
   "source": [
    "a1 + a2"
   ]
  },
  {
   "cell_type": "code",
   "execution_count": 27,
   "id": "04253273-3288-4fcb-84aa-479e3abaa2c4",
   "metadata": {},
   "outputs": [
    {
     "data": {
      "text/plain": [
       "11"
      ]
     },
     "execution_count": 27,
     "metadata": {},
     "output_type": "execute_result"
    }
   ],
   "source": [
    "a1-a2"
   ]
  },
  {
   "cell_type": "code",
   "execution_count": 28,
   "id": "9bcc3a30-4e99-4e34-9dc7-e823cc9d0b98",
   "metadata": {},
   "outputs": [
    {
     "data": {
      "text/plain": [
       "1530"
      ]
     },
     "execution_count": 28,
     "metadata": {},
     "output_type": "execute_result"
    }
   ],
   "source": [
    "a1*a2"
   ]
  },
  {
   "cell_type": "code",
   "execution_count": 29,
   "id": "3b22d9f6-9403-471b-8636-56378a612815",
   "metadata": {},
   "outputs": [
    {
     "data": {
      "text/plain": [
       "1.3235294117647058"
      ]
     },
     "execution_count": 29,
     "metadata": {},
     "output_type": "execute_result"
    }
   ],
   "source": [
    "a1/a2"
   ]
  },
  {
   "cell_type": "code",
   "execution_count": 30,
   "id": "0acdc538-d4f9-43ea-b311-16986abaf741",
   "metadata": {},
   "outputs": [
    {
     "data": {
      "text/plain": [
       "1.3235294117647058"
      ]
     },
     "execution_count": 30,
     "metadata": {},
     "output_type": "execute_result"
    }
   ],
   "source": [
    "45/34"
   ]
  },
  {
   "cell_type": "code",
   "execution_count": 31,
   "id": "1e83e673-7daa-4c50-b9c7-26d3cab8bc35",
   "metadata": {},
   "outputs": [],
   "source": [
    "a1 , a2 =34,56"
   ]
  },
  {
   "cell_type": "code",
   "execution_count": 32,
   "id": "1745ff07-c5c4-4156-97ed-7322734113e7",
   "metadata": {},
   "outputs": [
    {
     "data": {
      "text/plain": [
       "56"
      ]
     },
     "execution_count": 32,
     "metadata": {},
     "output_type": "execute_result"
    }
   ],
   "source": [
    "a2"
   ]
  },
  {
   "cell_type": "code",
   "execution_count": 33,
   "id": "f9eb51e4-8b13-4ff7-b542-59f1fb5781ca",
   "metadata": {},
   "outputs": [],
   "source": [
    "a , b , c , d=34,'sudh',6.89,True"
   ]
  },
  {
   "cell_type": "code",
   "execution_count": 34,
   "id": "04a8f625-dbeb-4590-9bb5-482b0842ef5e",
   "metadata": {},
   "outputs": [
    {
     "data": {
      "text/plain": [
       "'sudh'"
      ]
     },
     "execution_count": 34,
     "metadata": {},
     "output_type": "execute_result"
    }
   ],
   "source": [
    "b"
   ]
  },
  {
   "cell_type": "code",
   "execution_count": 35,
   "id": "eb31e00e-7076-47b8-9465-cfea8926aedf",
   "metadata": {},
   "outputs": [
    {
     "data": {
      "text/plain": [
       "True"
      ]
     },
     "execution_count": 35,
     "metadata": {},
     "output_type": "execute_result"
    }
   ],
   "source": [
    "d"
   ]
  },
  {
   "cell_type": "code",
   "execution_count": 36,
   "id": "88e0cfe1-912b-4d87-ae2f-0052f9b43663",
   "metadata": {},
   "outputs": [
    {
     "data": {
      "text/plain": [
       "'sudh'"
      ]
     },
     "execution_count": 36,
     "metadata": {},
     "output_type": "execute_result"
    }
   ],
   "source": [
    "b"
   ]
  },
  {
   "cell_type": "code",
   "execution_count": 37,
   "id": "101be64b-3224-47d9-9485-b6702afdd6dd",
   "metadata": {},
   "outputs": [
    {
     "data": {
      "text/plain": [
       "str"
      ]
     },
     "execution_count": 37,
     "metadata": {},
     "output_type": "execute_result"
    }
   ],
   "source": [
    "type(b)"
   ]
  },
  {
   "cell_type": "code",
   "execution_count": 38,
   "id": "9f50951a-8c2d-4592-a1d8-fa74ee51ada8",
   "metadata": {},
   "outputs": [
    {
     "data": {
      "text/plain": [
       "float"
      ]
     },
     "execution_count": 38,
     "metadata": {},
     "output_type": "execute_result"
    }
   ],
   "source": [
    "type(c)"
   ]
  },
  {
   "cell_type": "code",
   "execution_count": 39,
   "id": "6e52e7d8-023d-4e48-a669-946568a04c35",
   "metadata": {},
   "outputs": [
    {
     "name": "stderr",
     "output_type": "stream",
     "text": [
      "UsageError: Line magic function `%a` not found.\n"
     ]
    }
   ],
   "source": [
    "%a =234"
   ]
  },
  {
   "cell_type": "code",
   "execution_count": 7,
   "id": "d82272bd-c0dd-48bb-9c22-032825949922",
   "metadata": {},
   "outputs": [
    {
     "ename": "SyntaxError",
     "evalue": "invalid binary literal (79086745.py, line 1)",
     "output_type": "error",
     "traceback": [
      "\u001b[0;36m  Cell \u001b[0;32mIn[7], line 1\u001b[0;36m\u001b[0m\n\u001b[0;31m    0b = 5756\u001b[0m\n\u001b[0m     ^\u001b[0m\n\u001b[0;31mSyntaxError\u001b[0m\u001b[0;31m:\u001b[0m invalid binary literal\n"
     ]
    }
   ],
   "source": [
    "0b = 5756"
   ]
  },
  {
   "cell_type": "code",
   "execution_count": 11,
   "id": "d9d58936-46c9-4173-a541-ccd0d806a504",
   "metadata": {},
   "outputs": [],
   "source": [
    "b0 = 234"
   ]
  },
  {
   "cell_type": "code",
   "execution_count": 10,
   "id": "39afa770-c803-4dfa-b19f-e98d05ac5e7d",
   "metadata": {},
   "outputs": [
    {
     "ename": "SyntaxError",
     "evalue": "invalid syntax. Maybe you meant '==' or ':=' instead of '='? (1509206148.py, line 1)",
     "output_type": "error",
     "traceback": [
      "\u001b[0;36m  Cell \u001b[0;32mIn[10], line 1\u001b[0;36m\u001b[0m\n\u001b[0;31m    @h =567\u001b[0m\n\u001b[0m     ^\u001b[0m\n\u001b[0;31mSyntaxError\u001b[0m\u001b[0;31m:\u001b[0m invalid syntax. Maybe you meant '==' or ':=' instead of '='?\n"
     ]
    }
   ],
   "source": [
    "@h =567"
   ]
  },
  {
   "cell_type": "code",
   "execution_count": 12,
   "id": "f4281d7c-f2af-482c-99cb-19d0b30de615",
   "metadata": {},
   "outputs": [],
   "source": [
    "_a = 67"
   ]
  },
  {
   "cell_type": "code",
   "execution_count": 13,
   "id": "718107e4-6b03-4f5c-ad66-319dbc953596",
   "metadata": {},
   "outputs": [
    {
     "ename": "SyntaxError",
     "evalue": "cannot assign to expression here. Maybe you meant '==' instead of '='? (1694425758.py, line 1)",
     "output_type": "error",
     "traceback": [
      "\u001b[0;36m  Cell \u001b[0;32mIn[13], line 1\u001b[0;36m\u001b[0m\n\u001b[0;31m    -b = 234\u001b[0m\n\u001b[0m    ^\u001b[0m\n\u001b[0;31mSyntaxError\u001b[0m\u001b[0;31m:\u001b[0m cannot assign to expression here. Maybe you meant '==' instead of '='?\n"
     ]
    }
   ],
   "source": [
    "-b = 234"
   ]
  },
  {
   "cell_type": "code",
   "execution_count": 14,
   "id": "a41087b9-631c-4e24-8c14-acb2e7bfaf9a",
   "metadata": {},
   "outputs": [
    {
     "ename": "SyntaxError",
     "evalue": "cannot assign to True (3093263138.py, line 1)",
     "output_type": "error",
     "traceback": [
      "\u001b[0;36m  Cell \u001b[0;32mIn[14], line 1\u001b[0;36m\u001b[0m\n\u001b[0;31m    True = 45\u001b[0m\n\u001b[0m    ^\u001b[0m\n\u001b[0;31mSyntaxError\u001b[0m\u001b[0;31m:\u001b[0m cannot assign to True\n"
     ]
    }
   ],
   "source": [
    "True = 45"
   ]
  },
  {
   "cell_type": "code",
   "execution_count": 15,
   "id": "ff25a195-af6c-44aa-afc7-5f7f04694bb4",
   "metadata": {},
   "outputs": [],
   "source": [
    "int = 345"
   ]
  },
  {
   "cell_type": "code",
   "execution_count": 16,
   "id": "814ffeaa-ae1d-4b52-9dbb-46063947a096",
   "metadata": {},
   "outputs": [
    {
     "data": {
      "text/plain": [
       "345"
      ]
     },
     "execution_count": 16,
     "metadata": {},
     "output_type": "execute_result"
    }
   ],
   "source": [
    "int"
   ]
  },
  {
   "cell_type": "code",
   "execution_count": 17,
   "id": "dcf1e8e6-d42c-4f3e-8897-acd04c7d369d",
   "metadata": {},
   "outputs": [],
   "source": [
    "float =78.8"
   ]
  },
  {
   "cell_type": "code",
   "execution_count": 18,
   "id": "22c64a5d-9a38-445a-af25-5afd917efc07",
   "metadata": {},
   "outputs": [
    {
     "data": {
      "text/plain": [
       "78.8"
      ]
     },
     "execution_count": 18,
     "metadata": {},
     "output_type": "execute_result"
    }
   ],
   "source": [
    "float"
   ]
  },
  {
   "cell_type": "code",
   "execution_count": 19,
   "id": "4230517c-5272-4f0a-b9c6-b74803a2e572",
   "metadata": {},
   "outputs": [],
   "source": [
    "b1 = True"
   ]
  },
  {
   "cell_type": "code",
   "execution_count": 20,
   "id": "720b1c48-15fb-4ede-bcdd-7ab6f96df071",
   "metadata": {},
   "outputs": [],
   "source": [
    "b2 = False"
   ]
  },
  {
   "cell_type": "code",
   "execution_count": 21,
   "id": "7949b270-908a-4a0e-b8b4-3df513f72542",
   "metadata": {},
   "outputs": [
    {
     "data": {
      "text/plain": [
       "1"
      ]
     },
     "execution_count": 21,
     "metadata": {},
     "output_type": "execute_result"
    }
   ],
   "source": [
    "b1 - b2"
   ]
  },
  {
   "cell_type": "code",
   "execution_count": 22,
   "id": "731184d1-b8bb-4fb8-941b-f2b40fd73a37",
   "metadata": {},
   "outputs": [
    {
     "data": {
      "text/plain": [
       "0"
      ]
     },
     "execution_count": 22,
     "metadata": {},
     "output_type": "execute_result"
    }
   ],
   "source": [
    "b1*b2"
   ]
  },
  {
   "cell_type": "code",
   "execution_count": 23,
   "id": "0c35bbe1-eee2-415c-b160-fe1e16577c19",
   "metadata": {},
   "outputs": [
    {
     "data": {
      "text/plain": [
       "1"
      ]
     },
     "execution_count": 23,
     "metadata": {},
     "output_type": "execute_result"
    }
   ],
   "source": [
    "b1*b1"
   ]
  },
  {
   "cell_type": "code",
   "execution_count": 24,
   "id": "dbee8073-7a22-47af-bc06-916e33a5b47f",
   "metadata": {},
   "outputs": [
    {
     "ename": "ZeroDivisionError",
     "evalue": "division by zero",
     "output_type": "error",
     "traceback": [
      "\u001b[0;31m---------------------------------------------------------------------------\u001b[0m",
      "\u001b[0;31mZeroDivisionError\u001b[0m                         Traceback (most recent call last)",
      "Cell \u001b[0;32mIn[24], line 1\u001b[0m\n\u001b[0;32m----> 1\u001b[0m \u001b[43mb1\u001b[49m\u001b[38;5;241;43m/\u001b[39;49m\u001b[43mb2\u001b[49m\n",
      "\u001b[0;31mZeroDivisionError\u001b[0m: division by zero"
     ]
    }
   ],
   "source": [
    "b1/b2"
   ]
  },
  {
   "cell_type": "code",
   "execution_count": 25,
   "id": "d1191459-b8f0-4404-901c-2cc0fefcb060",
   "metadata": {},
   "outputs": [],
   "source": [
    "s1 = 'my name is komal'"
   ]
  },
  {
   "cell_type": "code",
   "execution_count": 26,
   "id": "9ffeaa11-ed93-4818-b0b7-f99d15b5315d",
   "metadata": {},
   "outputs": [
    {
     "data": {
      "text/plain": [
       "'my name is komal'"
      ]
     },
     "execution_count": 26,
     "metadata": {},
     "output_type": "execute_result"
    }
   ],
   "source": [
    "s1"
   ]
  },
  {
   "cell_type": "code",
   "execution_count": 27,
   "id": "a3f26e36-32fb-4ada-860c-67a64f9310c5",
   "metadata": {},
   "outputs": [
    {
     "data": {
      "text/plain": [
       "str"
      ]
     },
     "execution_count": 27,
     "metadata": {},
     "output_type": "execute_result"
    }
   ],
   "source": [
    "type(s1)"
   ]
  },
  {
   "cell_type": "code",
   "execution_count": 28,
   "id": "45656413-bc93-4b0b-9161-c7ce162527de",
   "metadata": {},
   "outputs": [],
   "source": [
    "s2 = \"this is my first python class for data science master's\""
   ]
  },
  {
   "cell_type": "code",
   "execution_count": 29,
   "id": "cd4c7d99-f36e-4a5e-8207-476e4bbc557d",
   "metadata": {},
   "outputs": [
    {
     "data": {
      "text/plain": [
       "\"this is my first python class for data science master's\""
      ]
     },
     "execution_count": 29,
     "metadata": {},
     "output_type": "execute_result"
    }
   ],
   "source": [
    "s2"
   ]
  },
  {
   "cell_type": "code",
   "execution_count": 30,
   "id": "3cffb9a4-dc1a-4a61-b6ae-ec87c17610d5",
   "metadata": {},
   "outputs": [
    {
     "ename": "SyntaxError",
     "evalue": "unterminated string literal (detected at line 1) (1646039540.py, line 1)",
     "output_type": "error",
     "traceback": [
      "\u001b[0;36m  Cell \u001b[0;32mIn[30], line 1\u001b[0;36m\u001b[0m\n\u001b[0;31m    s3 =\" this is my first python class for data science master\"s'\u001b[0m\n\u001b[0m                                                                 ^\u001b[0m\n\u001b[0;31mSyntaxError\u001b[0m\u001b[0;31m:\u001b[0m unterminated string literal (detected at line 1)\n"
     ]
    }
   ],
   "source": [
    "s3 =\" this is my first python class for data science master\"s'"
   ]
  },
  {
   "cell_type": "code",
   "execution_count": 31,
   "id": "d3fc334b-03f0-48b7-8492-2362f3457bc8",
   "metadata": {},
   "outputs": [],
   "source": [
    "#this is my code to create a string variable with quotes\n",
    "\n",
    "s3 ='this is my first python class for data science master\"s'"
   ]
  },
  {
   "cell_type": "code",
   "execution_count": 32,
   "id": "d137a99d-30b7-420d-b7d0-70a52ff62458",
   "metadata": {},
   "outputs": [
    {
     "ename": "SyntaxError",
     "evalue": "invalid syntax (491385977.py, line 1)",
     "output_type": "error",
     "traceback": [
      "\u001b[0;36m  Cell \u001b[0;32mIn[32], line 1\u001b[0;36m\u001b[0m\n\u001b[0;31m    this is my first python class\u001b[0m\n\u001b[0m               ^\u001b[0m\n\u001b[0;31mSyntaxError\u001b[0m\u001b[0;31m:\u001b[0m invalid syntax\n"
     ]
    }
   ],
   "source": [
    "this is my first python class\n",
    "i am trying to learn variable declaration\n",
    "so far i have learnt int, boolean , string , complex number , float variable declaration\n"
   ]
  },
  {
   "cell_type": "code",
   "execution_count": 33,
   "id": "f11b097f-0f27-49a9-a98a-4f430b3b079f",
   "metadata": {},
   "outputs": [
    {
     "ename": "SyntaxError",
     "evalue": "invalid syntax (38594842.py, line 1)",
     "output_type": "error",
     "traceback": [
      "\u001b[0;36m  Cell \u001b[0;32mIn[33], line 1\u001b[0;36m\u001b[0m\n\u001b[0;31m    this is my first python class\u001b[0m\n\u001b[0m               ^\u001b[0m\n\u001b[0;31mSyntaxError\u001b[0m\u001b[0;31m:\u001b[0m invalid syntax\n"
     ]
    }
   ],
   "source": [
    "this is my first python class\n",
    "i am trying to learn variable declaration\n",
    "so far i have learnt int, boolean , string , complex number , float variable declaration\n",
    " a= 10"
   ]
  },
  {
   "cell_type": "code",
   "execution_count": 34,
   "id": "2a2b5611-1e02-44c3-b366-5b8b19f50f5b",
   "metadata": {},
   "outputs": [],
   "source": [
    "#this is my first python class\n",
    "#i am trying to learn variable declaration\n",
    "#so far i have learnt int, boolean , string , complex number , float variable declaration"
   ]
  },
  {
   "cell_type": "code",
   "execution_count": 35,
   "id": "0f3eed96-024a-42c9-8922-58e3ea7459a7",
   "metadata": {},
   "outputs": [
    {
     "data": {
      "text/plain": [
       "'this is my first python class\\ni am trying to learn variable declaration\\nso far i have learnt int, boolean , string , complex number , float variable declaration'"
      ]
     },
     "execution_count": 35,
     "metadata": {},
     "output_type": "execute_result"
    }
   ],
   "source": [
    "'''this is my first python class\n",
    "i am trying to learn variable declaration\n",
    "so far i have learnt int, boolean , string , complex number , float variable declaration'''"
   ]
  },
  {
   "cell_type": "code",
   "execution_count": 36,
   "id": "24c0d150-c189-427e-b3bd-0cc168fd8d72",
   "metadata": {},
   "outputs": [],
   "source": [
    "'''this is my first python class\n",
    "i am trying to learn variable declaration\n",
    "so far i have learnt int, boolean , string , complex number , float variable declaration'''\n",
    "a=10"
   ]
  },
  {
   "cell_type": "code",
   "execution_count": 37,
   "id": "7601916a-37b2-437b-8021-c81f4345ddc4",
   "metadata": {},
   "outputs": [],
   "source": [
    "s1 = \"sudh\""
   ]
  },
  {
   "cell_type": "code",
   "execution_count": 38,
   "id": "2e92d0ca-cdf4-433b-a34d-72cddc5fb02a",
   "metadata": {},
   "outputs": [],
   "source": [
    "a=10"
   ]
  },
  {
   "cell_type": "code",
   "execution_count": 39,
   "id": "87a3329c-293b-496d-83ae-cfa0f77d20ad",
   "metadata": {},
   "outputs": [
    {
     "ename": "TypeError",
     "evalue": "can only concatenate str (not \"int\") to str",
     "output_type": "error",
     "traceback": [
      "\u001b[0;31m---------------------------------------------------------------------------\u001b[0m",
      "\u001b[0;31mTypeError\u001b[0m                                 Traceback (most recent call last)",
      "Cell \u001b[0;32mIn[39], line 1\u001b[0m\n\u001b[0;32m----> 1\u001b[0m \u001b[43ms1\u001b[49m\u001b[43m \u001b[49m\u001b[38;5;241;43m+\u001b[39;49m\u001b[43m \u001b[49m\u001b[43ma\u001b[49m\n",
      "\u001b[0;31mTypeError\u001b[0m: can only concatenate str (not \"int\") to str"
     ]
    }
   ],
   "source": [
    "s1 + a"
   ]
  },
  {
   "cell_type": "code",
   "execution_count": 40,
   "id": "8ec2e812-cfa4-4fc0-ad51-ea1f250efbaa",
   "metadata": {},
   "outputs": [
    {
     "data": {
      "text/plain": [
       "'sudhkumar'"
      ]
     },
     "execution_count": 40,
     "metadata": {},
     "output_type": "execute_result"
    }
   ],
   "source": [
    "'sudh' + 'kumar'"
   ]
  },
  {
   "cell_type": "code",
   "execution_count": 41,
   "id": "f0ccf8ac-82d9-41a4-ae3b-feb3c717f486",
   "metadata": {},
   "outputs": [
    {
     "data": {
      "text/plain": [
       "10"
      ]
     },
     "execution_count": 41,
     "metadata": {},
     "output_type": "execute_result"
    }
   ],
   "source": [
    "a"
   ]
  },
  {
   "cell_type": "code",
   "execution_count": 42,
   "id": "1da2f4d2-edd7-4c4b-a2f9-dc7d5688c888",
   "metadata": {},
   "outputs": [
    {
     "data": {
      "text/plain": [
       "int"
      ]
     },
     "execution_count": 42,
     "metadata": {},
     "output_type": "execute_result"
    }
   ],
   "source": [
    "type(a)"
   ]
  },
  {
   "cell_type": "code",
   "execution_count": 43,
   "id": "b38a65bd-a100-4074-9951-93921a7d52f1",
   "metadata": {},
   "outputs": [
    {
     "data": {
      "text/plain": [
       "'10'"
      ]
     },
     "execution_count": 43,
     "metadata": {},
     "output_type": "execute_result"
    }
   ],
   "source": [
    "str(a)"
   ]
  },
  {
   "cell_type": "code",
   "execution_count": 44,
   "id": "c9b0064e-28c7-4128-b959-ddee2ba5def4",
   "metadata": {},
   "outputs": [
    {
     "data": {
      "text/plain": [
       "'10'"
      ]
     },
     "execution_count": 44,
     "metadata": {},
     "output_type": "execute_result"
    }
   ],
   "source": [
    "'10'"
   ]
  },
  {
   "cell_type": "code",
   "execution_count": 45,
   "id": "e7c48337-8b39-41a4-89e4-089bac56d652",
   "metadata": {},
   "outputs": [],
   "source": [
    "s1 = 'sugh'\n",
    "s2 =10"
   ]
  },
  {
   "cell_type": "code",
   "execution_count": 46,
   "id": "14d933af-bbd2-4e73-a5f6-b1049c022117",
   "metadata": {},
   "outputs": [
    {
     "data": {
      "text/plain": [
       "'sugh10'"
      ]
     },
     "execution_count": 46,
     "metadata": {},
     "output_type": "execute_result"
    }
   ],
   "source": [
    "s1 + str(s2)"
   ]
  },
  {
   "cell_type": "code",
   "execution_count": 47,
   "id": "1349643f-ded4-409c-9094-f605f7be6a63",
   "metadata": {},
   "outputs": [
    {
     "data": {
      "text/plain": [
       "'sugh 10'"
      ]
     },
     "execution_count": 47,
     "metadata": {},
     "output_type": "execute_result"
    }
   ],
   "source": [
    "s1 + \" \" + str(s2)"
   ]
  },
  {
   "cell_type": "code",
   "execution_count": 48,
   "id": "79b9a827-794e-487d-be35-49364d8a0299",
   "metadata": {},
   "outputs": [
    {
     "data": {
      "text/plain": [
       "10"
      ]
     },
     "execution_count": 48,
     "metadata": {},
     "output_type": "execute_result"
    }
   ],
   "source": [
    "a"
   ]
  },
  {
   "cell_type": "code",
   "execution_count": 49,
   "id": "9d9e5958-465b-46b3-9091-fe955e19ca83",
   "metadata": {},
   "outputs": [],
   "source": [
    "b=str(a)"
   ]
  },
  {
   "cell_type": "code",
   "execution_count": 50,
   "id": "256cb29d-cda7-4fb4-b0b9-e423c9733abd",
   "metadata": {},
   "outputs": [
    {
     "data": {
      "text/plain": [
       "'10'"
      ]
     },
     "execution_count": 50,
     "metadata": {},
     "output_type": "execute_result"
    }
   ],
   "source": [
    "b"
   ]
  },
  {
   "cell_type": "code",
   "execution_count": 51,
   "id": "bac514ce-4560-4839-8f42-238ddd5b3a84",
   "metadata": {},
   "outputs": [
    {
     "ename": "TypeError",
     "evalue": "'int' object is not callable",
     "output_type": "error",
     "traceback": [
      "\u001b[0;31m---------------------------------------------------------------------------\u001b[0m",
      "\u001b[0;31mTypeError\u001b[0m                                 Traceback (most recent call last)",
      "Cell \u001b[0;32mIn[51], line 1\u001b[0m\n\u001b[0;32m----> 1\u001b[0m \u001b[38;5;28;43mint\u001b[39;49m\u001b[43m(\u001b[49m\u001b[43mb\u001b[49m\u001b[43m)\u001b[49m\n",
      "\u001b[0;31mTypeError\u001b[0m: 'int' object is not callable"
     ]
    }
   ],
   "source": [
    "int(b)"
   ]
  },
  {
   "cell_type": "code",
   "execution_count": 52,
   "id": "d78b824f-cadb-4da2-9c0f-205cafe092e1",
   "metadata": {},
   "outputs": [],
   "source": [
    "s = \"sudh\""
   ]
  },
  {
   "cell_type": "code",
   "execution_count": 53,
   "id": "3fcd4ca7-a8fc-449e-9b4c-3bd6e2d9129e",
   "metadata": {},
   "outputs": [
    {
     "ename": "TypeError",
     "evalue": "'int' object is not callable",
     "output_type": "error",
     "traceback": [
      "\u001b[0;31m---------------------------------------------------------------------------\u001b[0m",
      "\u001b[0;31mTypeError\u001b[0m                                 Traceback (most recent call last)",
      "Cell \u001b[0;32mIn[53], line 1\u001b[0m\n\u001b[0;32m----> 1\u001b[0m \u001b[38;5;28;43mint\u001b[39;49m\u001b[43m(\u001b[49m\u001b[43ms\u001b[49m\u001b[43m)\u001b[49m\n",
      "\u001b[0;31mTypeError\u001b[0m: 'int' object is not callable"
     ]
    }
   ],
   "source": [
    "int(s)"
   ]
  },
  {
   "cell_type": "code",
   "execution_count": 54,
   "id": "094cea41-430e-48da-a295-c633176866de",
   "metadata": {},
   "outputs": [],
   "source": [
    "a = 45135"
   ]
  },
  {
   "cell_type": "code",
   "execution_count": 57,
   "id": "1f7737ad-7082-4ab3-88b2-2872d729a0ad",
   "metadata": {},
   "outputs": [
    {
     "name": "stdin",
     "output_type": "stream",
     "text": [
      " 234\n"
     ]
    }
   ],
   "source": [
    "b = input()"
   ]
  },
  {
   "cell_type": "code",
   "execution_count": 58,
   "id": "010a022c-cd9d-4acb-b6ca-f55e461def9c",
   "metadata": {},
   "outputs": [
    {
     "ename": "TypeError",
     "evalue": "'int' object is not callable",
     "output_type": "error",
     "traceback": [
      "\u001b[0;31m---------------------------------------------------------------------------\u001b[0m",
      "\u001b[0;31mTypeError\u001b[0m                                 Traceback (most recent call last)",
      "Cell \u001b[0;32mIn[58], line 1\u001b[0m\n\u001b[0;32m----> 1\u001b[0m \u001b[38;5;28mtype\u001b[39m(\u001b[38;5;28;43mint\u001b[39;49m\u001b[43m(\u001b[49m\u001b[43mb\u001b[49m\u001b[43m)\u001b[49m)\n",
      "\u001b[0;31mTypeError\u001b[0m: 'int' object is not callable"
     ]
    }
   ],
   "source": [
    "type(int(b))"
   ]
  },
  {
   "cell_type": "code",
   "execution_count": 60,
   "id": "98904aeb-6404-46ca-83b3-319950cb5be7",
   "metadata": {},
   "outputs": [
    {
     "name": "stdin",
     "output_type": "stream",
     "text": [
      " True\n"
     ]
    }
   ],
   "source": [
    "b = bool(input())"
   ]
  },
  {
   "cell_type": "code",
   "execution_count": 61,
   "id": "b925b123-2399-42b6-bfe5-200195b607f1",
   "metadata": {},
   "outputs": [
    {
     "data": {
      "text/plain": [
       "True"
      ]
     },
     "execution_count": 61,
     "metadata": {},
     "output_type": "execute_result"
    }
   ],
   "source": [
    "b"
   ]
  },
  {
   "cell_type": "code",
   "execution_count": 62,
   "id": "6aeb7a4b-51df-467d-a06d-3c41282860df",
   "metadata": {},
   "outputs": [
    {
     "data": {
      "text/plain": [
       "bool"
      ]
     },
     "execution_count": 62,
     "metadata": {},
     "output_type": "execute_result"
    }
   ],
   "source": [
    "type(b)"
   ]
  },
  {
   "cell_type": "code",
   "execution_count": 63,
   "id": "a59e232d-fc16-42ea-80ca-1ea14010315a",
   "metadata": {},
   "outputs": [
    {
     "name": "stdin",
     "output_type": "stream",
     "text": [
      " 5667\n"
     ]
    },
    {
     "ename": "TypeError",
     "evalue": "'int' object is not callable",
     "output_type": "error",
     "traceback": [
      "\u001b[0;31m---------------------------------------------------------------------------\u001b[0m",
      "\u001b[0;31mTypeError\u001b[0m                                 Traceback (most recent call last)",
      "Cell \u001b[0;32mIn[63], line 1\u001b[0m\n\u001b[0;32m----> 1\u001b[0m d \u001b[38;5;241m=\u001b[39m \u001b[38;5;28;43mint\u001b[39;49m\u001b[43m(\u001b[49m\u001b[38;5;28;43minput\u001b[39;49m\u001b[43m(\u001b[49m\u001b[43m)\u001b[49m\u001b[43m)\u001b[49m\n",
      "\u001b[0;31mTypeError\u001b[0m: 'int' object is not callable"
     ]
    }
   ],
   "source": [
    "d = int(input())"
   ]
  },
  {
   "cell_type": "code",
   "execution_count": 64,
   "id": "36577606-5e79-489b-8e25-13f9c3c861cc",
   "metadata": {},
   "outputs": [
    {
     "ename": "NameError",
     "evalue": "name 'd' is not defined",
     "output_type": "error",
     "traceback": [
      "\u001b[0;31m---------------------------------------------------------------------------\u001b[0m",
      "\u001b[0;31mNameError\u001b[0m                                 Traceback (most recent call last)",
      "Cell \u001b[0;32mIn[64], line 1\u001b[0m\n\u001b[0;32m----> 1\u001b[0m \u001b[43md\u001b[49m\n",
      "\u001b[0;31mNameError\u001b[0m: name 'd' is not defined"
     ]
    }
   ],
   "source": [
    "d"
   ]
  },
  {
   "cell_type": "code",
   "execution_count": 65,
   "id": "a40393d7-c935-4eb2-93c6-be82913e1551",
   "metadata": {},
   "outputs": [
    {
     "ename": "NameError",
     "evalue": "name 'd' is not defined",
     "output_type": "error",
     "traceback": [
      "\u001b[0;31m---------------------------------------------------------------------------\u001b[0m",
      "\u001b[0;31mNameError\u001b[0m                                 Traceback (most recent call last)",
      "Cell \u001b[0;32mIn[65], line 1\u001b[0m\n\u001b[0;32m----> 1\u001b[0m \u001b[38;5;28mtype\u001b[39m(\u001b[43md\u001b[49m)\n",
      "\u001b[0;31mNameError\u001b[0m: name 'd' is not defined"
     ]
    }
   ],
   "source": [
    "type(d)"
   ]
  },
  {
   "cell_type": "code",
   "execution_count": 1,
   "id": "cdf84329-0e7d-43e9-916e-b8dbfddc478f",
   "metadata": {},
   "outputs": [
    {
     "name": "stdin",
     "output_type": "stream",
     "text": [
      " 67.898\n"
     ]
    }
   ],
   "source": [
    "e = float(input())"
   ]
  },
  {
   "cell_type": "code",
   "execution_count": 2,
   "id": "50e8e9ff-774f-4acb-b199-9c8d358ce7cf",
   "metadata": {},
   "outputs": [
    {
     "data": {
      "text/plain": [
       "67.898"
      ]
     },
     "execution_count": 2,
     "metadata": {},
     "output_type": "execute_result"
    }
   ],
   "source": [
    "e"
   ]
  },
  {
   "cell_type": "code",
   "execution_count": 3,
   "id": "1a3aec6f-28f0-46d9-81a5-0b35c77e7e94",
   "metadata": {},
   "outputs": [
    {
     "data": {
      "text/plain": [
       "float"
      ]
     },
     "execution_count": 3,
     "metadata": {},
     "output_type": "execute_result"
    }
   ],
   "source": [
    "type(e)"
   ]
  },
  {
   "cell_type": "code",
   "execution_count": 5,
   "id": "2bcfbe90-1c5f-42d8-8494-bd48642c6a83",
   "metadata": {},
   "outputs": [],
   "source": [
    "s = \"sudh\""
   ]
  },
  {
   "cell_type": "code",
   "execution_count": 6,
   "id": "843b1154-7aa9-4a6d-ab9a-899a9c85c514",
   "metadata": {},
   "outputs": [
    {
     "data": {
      "text/plain": [
       "'u'"
      ]
     },
     "execution_count": 6,
     "metadata": {},
     "output_type": "execute_result"
    }
   ],
   "source": [
    "s[1]"
   ]
  },
  {
   "cell_type": "code",
   "execution_count": 7,
   "id": "cccec1a3-56e1-4422-a5c0-f8a6a3cf5c24",
   "metadata": {},
   "outputs": [
    {
     "data": {
      "text/plain": [
       "'h'"
      ]
     },
     "execution_count": 7,
     "metadata": {},
     "output_type": "execute_result"
    }
   ],
   "source": [
    "s[3]"
   ]
  },
  {
   "cell_type": "code",
   "execution_count": 8,
   "id": "33ad0ca9-a291-4fa3-921b-f2f4f996ca04",
   "metadata": {},
   "outputs": [
    {
     "ename": "IndexError",
     "evalue": "string index out of range",
     "output_type": "error",
     "traceback": [
      "\u001b[0;31m---------------------------------------------------------------------------\u001b[0m",
      "\u001b[0;31mIndexError\u001b[0m                                Traceback (most recent call last)",
      "Cell \u001b[0;32mIn[8], line 1\u001b[0m\n\u001b[0;32m----> 1\u001b[0m \u001b[43ms\u001b[49m\u001b[43m[\u001b[49m\u001b[38;5;241;43m100\u001b[39;49m\u001b[43m]\u001b[49m\n",
      "\u001b[0;31mIndexError\u001b[0m: string index out of range"
     ]
    }
   ],
   "source": [
    "s[100]"
   ]
  },
  {
   "cell_type": "code",
   "execution_count": 10,
   "id": "3802c94c-7f7f-4252-a5d6-b0baf9882292",
   "metadata": {},
   "outputs": [
    {
     "data": {
      "text/plain": [
       "'h'"
      ]
     },
     "execution_count": 10,
     "metadata": {},
     "output_type": "execute_result"
    }
   ],
   "source": [
    "s[-1]"
   ]
  },
  {
   "cell_type": "code",
   "execution_count": 11,
   "id": "0fcf0add-fceb-4c32-a63c-3c7f9a3ad7eb",
   "metadata": {},
   "outputs": [
    {
     "data": {
      "text/plain": [
       "'s'"
      ]
     },
     "execution_count": 11,
     "metadata": {},
     "output_type": "execute_result"
    }
   ],
   "source": [
    "s[-4]"
   ]
  },
  {
   "cell_type": "code",
   "execution_count": 12,
   "id": "c8a986d3-83be-465c-9c5e-d3d9aa9d43b3",
   "metadata": {},
   "outputs": [
    {
     "ename": "IndexError",
     "evalue": "string index out of range",
     "output_type": "error",
     "traceback": [
      "\u001b[0;31m---------------------------------------------------------------------------\u001b[0m",
      "\u001b[0;31mIndexError\u001b[0m                                Traceback (most recent call last)",
      "Cell \u001b[0;32mIn[12], line 1\u001b[0m\n\u001b[0;32m----> 1\u001b[0m \u001b[43ms\u001b[49m\u001b[43m[\u001b[49m\u001b[38;5;241;43m-\u001b[39;49m\u001b[38;5;241;43m345\u001b[39;49m\u001b[43m]\u001b[49m\n",
      "\u001b[0;31mIndexError\u001b[0m: string index out of range"
     ]
    }
   ],
   "source": [
    "s[-345]"
   ]
  },
  {
   "cell_type": "code",
   "execution_count": 13,
   "id": "8430c13e-9726-485a-bd23-d640ecb26e45",
   "metadata": {},
   "outputs": [],
   "source": [
    "s1 = \"pwskills\""
   ]
  },
  {
   "cell_type": "code",
   "execution_count": 14,
   "id": "4239b180-b66d-44a0-bc17-f84b8053dabb",
   "metadata": {},
   "outputs": [
    {
     "data": {
      "text/plain": [
       "'pw'"
      ]
     },
     "execution_count": 14,
     "metadata": {},
     "output_type": "execute_result"
    }
   ],
   "source": [
    "s1[0:2]"
   ]
  },
  {
   "cell_type": "code",
   "execution_count": 15,
   "id": "e41a4e6e-aac0-4fd6-9576-9402b9f97638",
   "metadata": {},
   "outputs": [
    {
     "data": {
      "text/plain": [
       "'skill'"
      ]
     },
     "execution_count": 15,
     "metadata": {},
     "output_type": "execute_result"
    }
   ],
   "source": [
    "s1[2:7]"
   ]
  },
  {
   "cell_type": "code",
   "execution_count": 16,
   "id": "04894265-0fd0-496b-9186-e5b1549d2605",
   "metadata": {},
   "outputs": [
    {
     "data": {
      "text/plain": [
       "'skills'"
      ]
     },
     "execution_count": 16,
     "metadata": {},
     "output_type": "execute_result"
    }
   ],
   "source": [
    "s1[2:8]"
   ]
  },
  {
   "cell_type": "code",
   "execution_count": 17,
   "id": "5af56857-daa8-4a72-8711-234730aecc7e",
   "metadata": {},
   "outputs": [
    {
     "data": {
      "text/plain": [
       "'skills'"
      ]
     },
     "execution_count": 17,
     "metadata": {},
     "output_type": "execute_result"
    }
   ],
   "source": [
    "s1[2:800]"
   ]
  },
  {
   "cell_type": "code",
   "execution_count": 18,
   "id": "0047c5e7-89fb-495a-ae18-7fd9d0aa7135",
   "metadata": {},
   "outputs": [
    {
     "data": {
      "text/plain": [
       "'skills'"
      ]
     },
     "execution_count": 18,
     "metadata": {},
     "output_type": "execute_result"
    }
   ],
   "source": [
    "s1[2:]"
   ]
  },
  {
   "cell_type": "code",
   "execution_count": 19,
   "id": "d97b192d-1c0d-451d-a9f8-4fde8959e4f4",
   "metadata": {},
   "outputs": [
    {
     "data": {
      "text/plain": [
       "'pwskill'"
      ]
     },
     "execution_count": 19,
     "metadata": {},
     "output_type": "execute_result"
    }
   ],
   "source": [
    "s1[0:7]"
   ]
  },
  {
   "cell_type": "code",
   "execution_count": 20,
   "id": "af1db7a4-7db4-4b2d-b802-3edc1fdcc014",
   "metadata": {},
   "outputs": [
    {
     "data": {
      "text/plain": [
       "'pwskill'"
      ]
     },
     "execution_count": 20,
     "metadata": {},
     "output_type": "execute_result"
    }
   ],
   "source": [
    "s1[0:7:1]"
   ]
  },
  {
   "cell_type": "code",
   "execution_count": 21,
   "id": "15043ea5-b8e1-4ed6-a191-6346c78a7dc3",
   "metadata": {},
   "outputs": [
    {
     "data": {
      "text/plain": [
       "'psil'"
      ]
     },
     "execution_count": 21,
     "metadata": {},
     "output_type": "execute_result"
    }
   ],
   "source": [
    "s1[0:7:2]"
   ]
  },
  {
   "cell_type": "code",
   "execution_count": 22,
   "id": "38323b4d-35f5-41e0-83e3-859861cbf610",
   "metadata": {},
   "outputs": [
    {
     "data": {
      "text/plain": [
       "'pwskills'"
      ]
     },
     "execution_count": 22,
     "metadata": {},
     "output_type": "execute_result"
    }
   ],
   "source": [
    "s1"
   ]
  },
  {
   "cell_type": "code",
   "execution_count": 23,
   "id": "7e0fe637-66a8-4cd0-986b-48fe03341203",
   "metadata": {},
   "outputs": [
    {
     "data": {
      "text/plain": [
       "''"
      ]
     },
     "execution_count": 23,
     "metadata": {},
     "output_type": "execute_result"
    }
   ],
   "source": [
    "s1[7:3]"
   ]
  },
  {
   "cell_type": "code",
   "execution_count": 24,
   "id": "608a178f-00e3-40fe-b8ed-26f2e3221e4d",
   "metadata": {},
   "outputs": [
    {
     "data": {
      "text/plain": [
       "'slli'"
      ]
     },
     "execution_count": 24,
     "metadata": {},
     "output_type": "execute_result"
    }
   ],
   "source": [
    "s1[7:3:-1]"
   ]
  },
  {
   "cell_type": "code",
   "execution_count": 25,
   "id": "928c7ea7-5ea1-413d-bec8-9413ad5cb219",
   "metadata": {},
   "outputs": [
    {
     "data": {
      "text/plain": [
       "''"
      ]
     },
     "execution_count": 25,
     "metadata": {},
     "output_type": "execute_result"
    }
   ],
   "source": [
    "s1[-1:-5]"
   ]
  },
  {
   "cell_type": "code",
   "execution_count": 26,
   "id": "396d6bba-2eaa-4f37-ac92-277585f2493d",
   "metadata": {},
   "outputs": [
    {
     "data": {
      "text/plain": [
       "'slli'"
      ]
     },
     "execution_count": 26,
     "metadata": {},
     "output_type": "execute_result"
    }
   ],
   "source": [
    "s1[-1:-5:-1]"
   ]
  },
  {
   "cell_type": "code",
   "execution_count": 27,
   "id": "71a707a0-c632-46bd-94cc-fcfe67863531",
   "metadata": {},
   "outputs": [
    {
     "data": {
      "text/plain": [
       "''"
      ]
     },
     "execution_count": 27,
     "metadata": {},
     "output_type": "execute_result"
    }
   ],
   "source": [
    "s1[7:0]"
   ]
  },
  {
   "cell_type": "code",
   "execution_count": 28,
   "id": "35160cd1-ef9b-47de-8de0-2d3e4c0f1228",
   "metadata": {},
   "outputs": [
    {
     "data": {
      "text/plain": [
       "'slliksw'"
      ]
     },
     "execution_count": 28,
     "metadata": {},
     "output_type": "execute_result"
    }
   ],
   "source": [
    "s1[7:0:-1]"
   ]
  },
  {
   "cell_type": "code",
   "execution_count": 29,
   "id": "f0118cae-7b5e-44d5-a3d8-d695a34df0d0",
   "metadata": {},
   "outputs": [
    {
     "data": {
      "text/plain": [
       "'pwskills'"
      ]
     },
     "execution_count": 29,
     "metadata": {},
     "output_type": "execute_result"
    }
   ],
   "source": [
    "s1"
   ]
  },
  {
   "cell_type": "code",
   "execution_count": 30,
   "id": "225c91e9-0af9-4fe6-be36-f6e1217c8a1f",
   "metadata": {},
   "outputs": [
    {
     "data": {
      "text/plain": [
       "'sllikswp'"
      ]
     },
     "execution_count": 30,
     "metadata": {},
     "output_type": "execute_result"
    }
   ],
   "source": [
    "s1[7:-9:-1]"
   ]
  },
  {
   "cell_type": "code",
   "execution_count": 31,
   "id": "19477d4c-fd0f-41d1-909f-9106235ac5c3",
   "metadata": {},
   "outputs": [
    {
     "data": {
      "text/plain": [
       "'sllikswp'"
      ]
     },
     "execution_count": 31,
     "metadata": {},
     "output_type": "execute_result"
    }
   ],
   "source": [
    "s1[7:-900:-1]"
   ]
  },
  {
   "cell_type": "code",
   "execution_count": 32,
   "id": "1db8857d-999d-41af-a493-f806456fd5d5",
   "metadata": {},
   "outputs": [
    {
     "data": {
      "text/plain": [
       "'sllikswp'"
      ]
     },
     "execution_count": 32,
     "metadata": {},
     "output_type": "execute_result"
    }
   ],
   "source": [
    "s1[7::-1]"
   ]
  },
  {
   "cell_type": "code",
   "execution_count": 33,
   "id": "35faae25-b31b-45db-a2e4-0a143c76fd12",
   "metadata": {},
   "outputs": [
    {
     "data": {
      "text/plain": [
       "'sllikswp'"
      ]
     },
     "execution_count": 33,
     "metadata": {},
     "output_type": "execute_result"
    }
   ],
   "source": [
    "s1[::-1]"
   ]
  },
  {
   "cell_type": "code",
   "execution_count": 34,
   "id": "18dae799-2b20-46ae-92bc-29223b249ac7",
   "metadata": {},
   "outputs": [
    {
     "data": {
      "text/plain": [
       "'pwskills'"
      ]
     },
     "execution_count": 34,
     "metadata": {},
     "output_type": "execute_result"
    }
   ],
   "source": [
    "s1"
   ]
  },
  {
   "cell_type": "code",
   "execution_count": 35,
   "id": "bf4dd436-13ca-4479-96f1-d8a9ce410500",
   "metadata": {},
   "outputs": [
    {
     "data": {
      "text/plain": [
       "'p'"
      ]
     },
     "execution_count": 35,
     "metadata": {},
     "output_type": "execute_result"
    }
   ],
   "source": [
    "s1[0]"
   ]
  },
  {
   "cell_type": "code",
   "execution_count": 36,
   "id": "b2d14c74-a6de-4721-9fe9-6002a535fa79",
   "metadata": {},
   "outputs": [],
   "source": [
    "a =10"
   ]
  },
  {
   "cell_type": "code",
   "execution_count": 37,
   "id": "f84cbb02-f440-4c44-9b03-fe7ece53ce41",
   "metadata": {},
   "outputs": [],
   "source": [
    "a = 20"
   ]
  },
  {
   "cell_type": "code",
   "execution_count": 38,
   "id": "0cb4c9a9-4ddf-487b-8dde-8e83c05d23fa",
   "metadata": {},
   "outputs": [
    {
     "data": {
      "text/plain": [
       "20"
      ]
     },
     "execution_count": 38,
     "metadata": {},
     "output_type": "execute_result"
    }
   ],
   "source": [
    "a"
   ]
  },
  {
   "cell_type": "code",
   "execution_count": 39,
   "id": "b9b0cc66-a3a8-47ef-8d5e-f22ecfa62032",
   "metadata": {},
   "outputs": [
    {
     "ename": "TypeError",
     "evalue": "'str' object does not support item assignment",
     "output_type": "error",
     "traceback": [
      "\u001b[0;31m---------------------------------------------------------------------------\u001b[0m",
      "\u001b[0;31mTypeError\u001b[0m                                 Traceback (most recent call last)",
      "Cell \u001b[0;32mIn[39], line 1\u001b[0m\n\u001b[0;32m----> 1\u001b[0m \u001b[43ms1\u001b[49m\u001b[43m[\u001b[49m\u001b[38;5;241;43m0\u001b[39;49m\u001b[43m]\u001b[49m \u001b[38;5;241m=\u001b[39m \u001b[38;5;124m'\u001b[39m\u001b[38;5;124ms\u001b[39m\u001b[38;5;124m'\u001b[39m\n",
      "\u001b[0;31mTypeError\u001b[0m: 'str' object does not support item assignment"
     ]
    }
   ],
   "source": [
    "s1[0] = 's'"
   ]
  },
  {
   "cell_type": "code",
   "execution_count": 40,
   "id": "d7d0b752-bbcd-4195-b3a6-9b54e3042073",
   "metadata": {},
   "outputs": [],
   "source": [
    "s1 = 'swskills'"
   ]
  },
  {
   "cell_type": "code",
   "execution_count": 41,
   "id": "a90d2b84-79ec-4df7-bb7b-037d0ce08bf6",
   "metadata": {},
   "outputs": [
    {
     "data": {
      "text/plain": [
       "'swskills'"
      ]
     },
     "execution_count": 41,
     "metadata": {},
     "output_type": "execute_result"
    }
   ],
   "source": [
    "s1"
   ]
  },
  {
   "cell_type": "code",
   "execution_count": 42,
   "id": "fc700cb6-04f5-4ac2-9fe5-c7de07563c00",
   "metadata": {},
   "outputs": [
    {
     "ename": "TypeError",
     "evalue": "'str' object does not support item assignment",
     "output_type": "error",
     "traceback": [
      "\u001b[0;31m---------------------------------------------------------------------------\u001b[0m",
      "\u001b[0;31mTypeError\u001b[0m                                 Traceback (most recent call last)",
      "Cell \u001b[0;32mIn[42], line 1\u001b[0m\n\u001b[0;32m----> 1\u001b[0m \u001b[43ms1\u001b[49m\u001b[43m[\u001b[49m\u001b[38;5;241;43m0\u001b[39;49m\u001b[43m]\u001b[49m \u001b[38;5;241m=\u001b[39m \u001b[38;5;124m'\u001b[39m\u001b[38;5;124mp\u001b[39m\u001b[38;5;124m'\u001b[39m\n",
      "\u001b[0;31mTypeError\u001b[0m: 'str' object does not support item assignment"
     ]
    }
   ],
   "source": [
    "s1[0] = 'p'"
   ]
  },
  {
   "cell_type": "code",
   "execution_count": 43,
   "id": "5e6acda7-ae67-42a1-8ae3-2258f55a464f",
   "metadata": {},
   "outputs": [
    {
     "name": "stdin",
     "output_type": "stream",
     "text": [
      " \n"
     ]
    }
   ],
   "source": [
    "d = bool(input())"
   ]
  },
  {
   "cell_type": "code",
   "execution_count": 44,
   "id": "8991e9b9-11df-4593-a163-76e3d206201e",
   "metadata": {},
   "outputs": [
    {
     "data": {
      "text/plain": [
       "False"
      ]
     },
     "execution_count": 44,
     "metadata": {},
     "output_type": "execute_result"
    }
   ],
   "source": [
    "d"
   ]
  },
  {
   "cell_type": "code",
   "execution_count": 45,
   "id": "e0886639-eab9-4a91-971d-e50da918e364",
   "metadata": {},
   "outputs": [
    {
     "data": {
      "text/plain": [
       "bool"
      ]
     },
     "execution_count": 45,
     "metadata": {},
     "output_type": "execute_result"
    }
   ],
   "source": [
    "type(d)"
   ]
  },
  {
   "cell_type": "code",
   "execution_count": 46,
   "id": "e7cfdea0-05ab-4e6f-b6b1-d42685430ab8",
   "metadata": {},
   "outputs": [
    {
     "data": {
      "text/plain": [
       "False"
      ]
     },
     "execution_count": 46,
     "metadata": {},
     "output_type": "execute_result"
    }
   ],
   "source": [
    "d"
   ]
  },
  {
   "cell_type": "code",
   "execution_count": 47,
   "id": "5fa2812f-88aa-4ebb-93ea-5690ac73ddff",
   "metadata": {},
   "outputs": [],
   "source": [
    "a = 10 "
   ]
  },
  {
   "cell_type": "code",
   "execution_count": 48,
   "id": "1b9b0e51-2720-47de-b5ef-1dd4872d4854",
   "metadata": {},
   "outputs": [],
   "source": [
    "int = 3456"
   ]
  },
  {
   "cell_type": "code",
   "execution_count": 49,
   "id": "03270570-f454-4a58-ae0d-306bdfd6d52c",
   "metadata": {},
   "outputs": [
    {
     "data": {
      "text/plain": [
       "3456"
      ]
     },
     "execution_count": 49,
     "metadata": {},
     "output_type": "execute_result"
    }
   ],
   "source": [
    "int"
   ]
  },
  {
   "cell_type": "code",
   "execution_count": 50,
   "id": "a9c4d32e-427f-4585-a5bc-a5e5b899cc39",
   "metadata": {},
   "outputs": [
    {
     "name": "stdin",
     "output_type": "stream",
     "text": [
      " 4566\n"
     ]
    }
   ],
   "source": [
    "a = bool(input())"
   ]
  },
  {
   "cell_type": "code",
   "execution_count": 51,
   "id": "a3dd1507-af70-447f-9050-dae7f5285d45",
   "metadata": {},
   "outputs": [
    {
     "data": {
      "text/plain": [
       "True"
      ]
     },
     "execution_count": 51,
     "metadata": {},
     "output_type": "execute_result"
    }
   ],
   "source": [
    "a"
   ]
  },
  {
   "cell_type": "code",
   "execution_count": 52,
   "id": "406559b0-accc-47ce-b92f-5fecce13fcbc",
   "metadata": {},
   "outputs": [
    {
     "name": "stdin",
     "output_type": "stream",
     "text": [
      " 578.899\n"
     ]
    }
   ],
   "source": [
    "a = bool(input())"
   ]
  },
  {
   "cell_type": "code",
   "execution_count": 53,
   "id": "bf5bd6a1-fcf2-4b39-bbf0-9f1a677446bd",
   "metadata": {},
   "outputs": [
    {
     "data": {
      "text/plain": [
       "True"
      ]
     },
     "execution_count": 53,
     "metadata": {},
     "output_type": "execute_result"
    }
   ],
   "source": [
    "a"
   ]
  },
  {
   "cell_type": "code",
   "execution_count": 54,
   "id": "69414326-5d68-48a3-ad83-49457be9f610",
   "metadata": {},
   "outputs": [
    {
     "name": "stdin",
     "output_type": "stream",
     "text": [
      " jgkgj\n"
     ]
    }
   ],
   "source": [
    "a = bool(input())"
   ]
  },
  {
   "cell_type": "code",
   "execution_count": 55,
   "id": "b105e8ce-c9f3-4a75-bdab-afc2d240d7fb",
   "metadata": {},
   "outputs": [
    {
     "data": {
      "text/plain": [
       "True"
      ]
     },
     "execution_count": 55,
     "metadata": {},
     "output_type": "execute_result"
    }
   ],
   "source": [
    "a"
   ]
  },
  {
   "cell_type": "code",
   "execution_count": 1,
   "id": "0bddcc35-9302-42eb-b4cd-fed4f27211cb",
   "metadata": {},
   "outputs": [
    {
     "name": "stdin",
     "output_type": "stream",
     "text": [
      " True\n"
     ]
    }
   ],
   "source": [
    "a = bool(input())"
   ]
  },
  {
   "cell_type": "code",
   "execution_count": 2,
   "id": "5a53d37b-05ec-45fd-add2-de282d7b43a6",
   "metadata": {},
   "outputs": [
    {
     "data": {
      "text/plain": [
       "True"
      ]
     },
     "execution_count": 2,
     "metadata": {},
     "output_type": "execute_result"
    }
   ],
   "source": [
    "a"
   ]
  },
  {
   "cell_type": "code",
   "execution_count": 3,
   "id": "dec65a3c-3b0a-49c7-a313-ffe7b4b10bbc",
   "metadata": {},
   "outputs": [
    {
     "name": "stdin",
     "output_type": "stream",
     "text": [
      " False\n"
     ]
    }
   ],
   "source": [
    "a = bool(input())"
   ]
  },
  {
   "cell_type": "code",
   "execution_count": 4,
   "id": "29a4c99b-631c-4c48-9a52-9f8d4e40e1cc",
   "metadata": {},
   "outputs": [
    {
     "data": {
      "text/plain": [
       "True"
      ]
     },
     "execution_count": 4,
     "metadata": {},
     "output_type": "execute_result"
    }
   ],
   "source": [
    "a"
   ]
  },
  {
   "cell_type": "code",
   "execution_count": 5,
   "id": "fda1ac63-70ec-4e6e-b074-a897126611f3",
   "metadata": {},
   "outputs": [],
   "source": [
    "s = \"placement\""
   ]
  },
  {
   "cell_type": "code",
   "execution_count": 6,
   "id": "37f18071-8261-4db7-8207-5d89da7b67aa",
   "metadata": {},
   "outputs": [],
   "source": [
    "b = \"67889\""
   ]
  },
  {
   "cell_type": "code",
   "execution_count": 8,
   "id": "f956bb08-e10d-4914-a9cc-9a4369ca6bbd",
   "metadata": {},
   "outputs": [
    {
     "ename": "ValueError",
     "evalue": "invalid literal for int() with base 10: 'placement'",
     "output_type": "error",
     "traceback": [
      "\u001b[0;31m---------------------------------------------------------------------------\u001b[0m",
      "\u001b[0;31mValueError\u001b[0m                                Traceback (most recent call last)",
      "Cell \u001b[0;32mIn[8], line 1\u001b[0m\n\u001b[0;32m----> 1\u001b[0m \u001b[38;5;28;43mint\u001b[39;49m\u001b[43m(\u001b[49m\u001b[43ms\u001b[49m\u001b[43m)\u001b[49m\n",
      "\u001b[0;31mValueError\u001b[0m: invalid literal for int() with base 10: 'placement'"
     ]
    }
   ],
   "source": [
    "int(s)"
   ]
  },
  {
   "cell_type": "code",
   "execution_count": 9,
   "id": "55897037-3e44-4750-9d71-044fedfd4901",
   "metadata": {},
   "outputs": [
    {
     "data": {
      "text/plain": [
       "67889"
      ]
     },
     "execution_count": 9,
     "metadata": {},
     "output_type": "execute_result"
    }
   ],
   "source": [
    "int(b)"
   ]
  },
  {
   "cell_type": "code",
   "execution_count": 1,
   "id": "be783691-0094-4045-b20e-f63ca1354931",
   "metadata": {},
   "outputs": [],
   "source": [
    "f = 454.6787"
   ]
  },
  {
   "cell_type": "code",
   "execution_count": 2,
   "id": "a1817b9d-c0dd-4a93-8f6a-efe4a815fc5b",
   "metadata": {},
   "outputs": [
    {
     "data": {
      "text/plain": [
       "float"
      ]
     },
     "execution_count": 2,
     "metadata": {},
     "output_type": "execute_result"
    }
   ],
   "source": [
    "type(f)"
   ]
  },
  {
   "cell_type": "code",
   "execution_count": 3,
   "id": "a574115c-4982-43b0-8ce2-2f512af2d806",
   "metadata": {},
   "outputs": [
    {
     "data": {
      "text/plain": [
       "tuple"
      ]
     },
     "execution_count": 3,
     "metadata": {},
     "output_type": "execute_result"
    }
   ],
   "source": [
    "t = (1,2,3,4,5)\n",
    "type(t)"
   ]
  },
  {
   "cell_type": "code",
   "execution_count": 4,
   "id": "b133f692-daa0-4544-9fe3-e4a345a657d5",
   "metadata": {},
   "outputs": [],
   "source": [
    "y = {'name' : 'komal'}"
   ]
  },
  {
   "cell_type": "code",
   "execution_count": 5,
   "id": "7cc9a7c6-c1fa-4f75-aeb5-36269b781837",
   "metadata": {},
   "outputs": [
    {
     "data": {
      "text/plain": [
       "dict"
      ]
     },
     "execution_count": 5,
     "metadata": {},
     "output_type": "execute_result"
    }
   ],
   "source": [
    "type(y)"
   ]
  },
  {
   "cell_type": "code",
   "execution_count": 6,
   "id": "95655483-e06d-49b0-afe8-95a56109dbf7",
   "metadata": {},
   "outputs": [
    {
     "data": {
      "text/plain": [
       "set"
      ]
     },
     "execution_count": 6,
     "metadata": {},
     "output_type": "execute_result"
    }
   ],
   "source": [
    "z = {2,3,4}\n",
    "type(z)"
   ]
  },
  {
   "cell_type": "code",
   "execution_count": 7,
   "id": "8baf6f50-3fe5-4d0b-95d9-db4ce263f812",
   "metadata": {},
   "outputs": [
    {
     "name": "stdout",
     "output_type": "stream",
     "text": [
      "good work\n"
     ]
    }
   ],
   "source": [
    "print(\"good work\")"
   ]
  },
  {
   "cell_type": "code",
   "execution_count": 8,
   "id": "a28eefb3-e37f-4080-8013-7f606a509890",
   "metadata": {},
   "outputs": [
    {
     "name": "stdout",
     "output_type": "stream",
     "text": [
      "200\n"
     ]
    }
   ],
   "source": [
    "a = 10\n",
    "b = 20\n",
    "print(a*b)"
   ]
  },
  {
   "cell_type": "code",
   "execution_count": 9,
   "id": "5ff2352f-ffcb-4e73-af19-0ad31ed80b04",
   "metadata": {},
   "outputs": [
    {
     "name": "stdout",
     "output_type": "stream",
     "text": [
      "skills and pw\n"
     ]
    }
   ],
   "source": [
    "a ='pw'\n",
    "b ='skills'\n",
    "print('{1} and {0}'.format(a,b))"
   ]
  },
  {
   "cell_type": "code",
   "execution_count": 10,
   "id": "534fed53-b2e6-4867-962d-6adc1af7fc0f",
   "metadata": {},
   "outputs": [
    {
     "name": "stdout",
     "output_type": "stream",
     "text": [
      "2 and 4\n"
     ]
    }
   ],
   "source": [
    "print('{} and {}'.format(2,4))"
   ]
  },
  {
   "cell_type": "code",
   "execution_count": 11,
   "id": "375cc151-390c-4d89-ad0b-ad2a6219ddb1",
   "metadata": {},
   "outputs": [
    {
     "name": "stdout",
     "output_type": "stream",
     "text": [
      "pw and skills\n"
     ]
    }
   ],
   "source": [
    "print('{0} and {1}'.format(a,b))"
   ]
  },
  {
   "cell_type": "code",
   "execution_count": null,
   "id": "701cfe22-073d-443b-8a66-15e46ba31353",
   "metadata": {},
   "outputs": [],
   "source": []
  }
 ],
 "metadata": {
  "kernelspec": {
   "display_name": "Python 3 (ipykernel)",
   "language": "python",
   "name": "python3"
  },
  "language_info": {
   "codemirror_mode": {
    "name": "ipython",
    "version": 3
   },
   "file_extension": ".py",
   "mimetype": "text/x-python",
   "name": "python",
   "nbconvert_exporter": "python",
   "pygments_lexer": "ipython3",
   "version": "3.10.8"
  }
 },
 "nbformat": 4,
 "nbformat_minor": 5
}
