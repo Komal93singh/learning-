{
 "cells": [
  {
   "cell_type": "code",
   "execution_count": 1,
   "id": "a8e7e260-4390-46c9-87cf-ebf0f1d6881e",
   "metadata": {},
   "outputs": [
    {
     "name": "stdout",
     "output_type": "stream",
     "text": [
      "1\n",
      "2\n",
      "3\n",
      "4\n",
      "5\n",
      "6\n",
      "7\n",
      "8\n",
      "9\n",
      "10\n"
     ]
    }
   ],
   "source": [
    "a = 1\n",
    "while a<=10:\n",
    "    print(a)\n",
    "    a = a+1"
   ]
  },
  {
   "cell_type": "code",
   "execution_count": 1,
   "id": "62802cb6-c7e0-4b64-8f8a-05cf10a7ea0e",
   "metadata": {},
   "outputs": [
    {
     "name": "stdin",
     "output_type": "stream",
     "text": [
      "enter your limit = 5\n"
     ]
    },
    {
     "data": {
      "text/plain": [
       "15"
      ]
     },
     "execution_count": 1,
     "metadata": {},
     "output_type": "execute_result"
    }
   ],
   "source": [
    "n = int(input('enter your limit ='))\n",
    "starting_point =0\n",
    "counter=1\n",
    "\n",
    "while counter<=n :\n",
    "    starting_point= starting_point + counter\n",
    "    counter = counter + 1\n",
    "starting_point"
   ]
  },
  {
   "cell_type": "code",
   "execution_count": 2,
   "id": "a5c7f5fb-8ffa-4a73-b95d-276ba01bae3b",
   "metadata": {},
   "outputs": [
    {
     "data": {
      "text/plain": [
       "1"
      ]
     },
     "execution_count": 2,
     "metadata": {},
     "output_type": "execute_result"
    }
   ],
   "source": [
    "1"
   ]
  },
  {
   "cell_type": "code",
   "execution_count": 3,
   "id": "6ffc46a6-31f5-42bd-aa64-a3be4003d1af",
   "metadata": {},
   "outputs": [
    {
     "name": "stdin",
     "output_type": "stream",
     "text": [
      "enter your number 10\n"
     ]
    },
    {
     "data": {
      "text/plain": [
       "3628800"
      ]
     },
     "execution_count": 3,
     "metadata": {},
     "output_type": "execute_result"
    }
   ],
   "source": [
    "number = int(input('enter your number'))\n",
    "factorial = 1\n",
    "while number>0 :\n",
    "    factorial =factorial * number\n",
    "    number = number -1\n",
    "    \n",
    "factorial\n"
   ]
  },
  {
   "cell_type": "markdown",
   "id": "84101853-057c-412e-b4c0-7ca3f2e346ea",
   "metadata": {},
   "source": [
    "#finonacci series"
   ]
  },
  {
   "cell_type": "code",
   "execution_count": 4,
   "id": "cc66d2f5-d118-412b-9b47-0fe844fa81fd",
   "metadata": {},
   "outputs": [
    {
     "name": "stdin",
     "output_type": "stream",
     "text": [
      "enter the number of element you are looking for 5\n"
     ]
    },
    {
     "name": "stdout",
     "output_type": "stream",
     "text": [
      "0\n",
      "1\n",
      "1\n",
      "2\n",
      "3\n"
     ]
    }
   ],
   "source": [
    "number = int(input('enter the number of element you are looking for'))\n",
    "a,b=0,1\n",
    "counter = 0\n",
    "while counter < number : \n",
    "    print(a)\n",
    "    c = a + b\n",
    "    a = b\n",
    "    b = c\n",
    "    counter = counter +1"
   ]
  },
  {
   "cell_type": "code",
   "execution_count": 5,
   "id": "8f6d1bf6-e47d-4a2d-bf04-56ff868ce6c9",
   "metadata": {},
   "outputs": [
    {
     "name": "stdout",
     "output_type": "stream",
     "text": [
      "0\n",
      "1\n",
      "1\n",
      "2\n",
      "3\n",
      "5\n",
      "8\n",
      "13\n",
      "21\n",
      "34\n"
     ]
    }
   ],
   "source": [
    "a,b =0,1\n",
    "\n",
    "for i in range(10):\n",
    "    print(a)\n",
    "    c = a + b\n",
    "    a = b\n",
    "    b = c "
   ]
  },
  {
   "cell_type": "code",
   "execution_count": null,
   "id": "e7889fad-f917-4de4-b369-21fbca09c247",
   "metadata": {},
   "outputs": [],
   "source": []
  }
 ],
 "metadata": {
  "kernelspec": {
   "display_name": "Python 3 (ipykernel)",
   "language": "python",
   "name": "python3"
  },
  "language_info": {
   "codemirror_mode": {
    "name": "ipython",
    "version": 3
   },
   "file_extension": ".py",
   "mimetype": "text/x-python",
   "name": "python",
   "nbconvert_exporter": "python",
   "pygments_lexer": "ipython3",
   "version": "3.10.8"
  }
 },
 "nbformat": 4,
 "nbformat_minor": 5
}
