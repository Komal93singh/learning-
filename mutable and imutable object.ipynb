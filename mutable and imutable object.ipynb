{
 "cells": [
  {
   "cell_type": "code",
   "execution_count": 1,
   "id": "b8ceab58-4697-405f-ae4b-203d9115bf2b",
   "metadata": {},
   "outputs": [],
   "source": [
    "s = \"sudh\""
   ]
  },
  {
   "cell_type": "code",
   "execution_count": 2,
   "id": "7598e744-3d01-4b7d-8094-da85c580cd04",
   "metadata": {},
   "outputs": [],
   "source": [
    "s1 = 'sudhanshu'"
   ]
  },
  {
   "cell_type": "code",
   "execution_count": 3,
   "id": "f024bf59-05ab-4ba5-a514-55808c6e0cd1",
   "metadata": {},
   "outputs": [
    {
     "data": {
      "text/plain": [
       "str"
      ]
     },
     "execution_count": 3,
     "metadata": {},
     "output_type": "execute_result"
    }
   ],
   "source": [
    "type(s)"
   ]
  },
  {
   "cell_type": "code",
   "execution_count": 4,
   "id": "1fb440bb-07eb-44ca-9443-def8f892c489",
   "metadata": {},
   "outputs": [
    {
     "data": {
      "text/plain": [
       "str"
      ]
     },
     "execution_count": 4,
     "metadata": {},
     "output_type": "execute_result"
    }
   ],
   "source": [
    "type(s1)"
   ]
  },
  {
   "cell_type": "code",
   "execution_count": 6,
   "id": "d90cdfa9-d714-4330-8265-51ee24804dbd",
   "metadata": {},
   "outputs": [],
   "source": [
    "l = [2,3,4,5,\"sudh\", 3+5j , True , 34.455]"
   ]
  },
  {
   "cell_type": "code",
   "execution_count": 7,
   "id": "156a30ce-37ff-4c90-89ac-ea450521dad6",
   "metadata": {},
   "outputs": [
    {
     "data": {
      "text/plain": [
       "list"
      ]
     },
     "execution_count": 7,
     "metadata": {},
     "output_type": "execute_result"
    }
   ],
   "source": [
    "type(l)"
   ]
  },
  {
   "cell_type": "code",
   "execution_count": 8,
   "id": "2ab52737-153e-43e1-9168-f894e7a8b018",
   "metadata": {},
   "outputs": [
    {
     "data": {
      "text/plain": [
       "'sudh'"
      ]
     },
     "execution_count": 8,
     "metadata": {},
     "output_type": "execute_result"
    }
   ],
   "source": [
    "s"
   ]
  },
  {
   "cell_type": "code",
   "execution_count": 9,
   "id": "14ef180b-e97b-4ae8-af02-6520cd7cb434",
   "metadata": {},
   "outputs": [
    {
     "data": {
      "text/plain": [
       "'d'"
      ]
     },
     "execution_count": 9,
     "metadata": {},
     "output_type": "execute_result"
    }
   ],
   "source": [
    "s[2]"
   ]
  },
  {
   "cell_type": "code",
   "execution_count": 11,
   "id": "470ba08b-6407-4172-9721-e239ce217e8b",
   "metadata": {},
   "outputs": [
    {
     "data": {
      "text/plain": [
       "'h'"
      ]
     },
     "execution_count": 11,
     "metadata": {},
     "output_type": "execute_result"
    }
   ],
   "source": [
    "s[-1]"
   ]
  },
  {
   "cell_type": "code",
   "execution_count": 12,
   "id": "d3493ee3-ae30-4b04-8967-d336665ff091",
   "metadata": {},
   "outputs": [
    {
     "data": {
      "text/plain": [
       "'u'"
      ]
     },
     "execution_count": 12,
     "metadata": {},
     "output_type": "execute_result"
    }
   ],
   "source": [
    "s[-3]"
   ]
  },
  {
   "cell_type": "code",
   "execution_count": 13,
   "id": "6dde9d63-c45f-4a94-a1ce-e18825d0f94a",
   "metadata": {},
   "outputs": [
    {
     "data": {
      "text/plain": [
       "[2, 3, 4, 5, 'sudh', (3+5j), True, 34.455]"
      ]
     },
     "execution_count": 13,
     "metadata": {},
     "output_type": "execute_result"
    }
   ],
   "source": [
    "l"
   ]
  },
  {
   "cell_type": "code",
   "execution_count": 14,
   "id": "bb99502d-79e6-4b31-8f49-301d5cc02d74",
   "metadata": {},
   "outputs": [
    {
     "data": {
      "text/plain": [
       "True"
      ]
     },
     "execution_count": 14,
     "metadata": {},
     "output_type": "execute_result"
    }
   ],
   "source": [
    "l[6]"
   ]
  },
  {
   "cell_type": "code",
   "execution_count": 15,
   "id": "3506c7ac-082f-4c85-8681-b6442f43bb30",
   "metadata": {},
   "outputs": [
    {
     "data": {
      "text/plain": [
       "(3+5j)"
      ]
     },
     "execution_count": 15,
     "metadata": {},
     "output_type": "execute_result"
    }
   ],
   "source": [
    "l[-3]"
   ]
  },
  {
   "cell_type": "code",
   "execution_count": 16,
   "id": "eb295b75-77af-48b3-b43e-09834fad46c7",
   "metadata": {},
   "outputs": [
    {
     "data": {
      "text/plain": [
       "[2, 3, 4, 5, 'sudh', (3+5j), True, 34.455]"
      ]
     },
     "execution_count": 16,
     "metadata": {},
     "output_type": "execute_result"
    }
   ],
   "source": [
    "l"
   ]
  },
  {
   "cell_type": "code",
   "execution_count": 18,
   "id": "4e60fe39-cbbe-4808-afad-8598788cd0c9",
   "metadata": {},
   "outputs": [],
   "source": [
    "l[1] = 300"
   ]
  },
  {
   "cell_type": "code",
   "execution_count": 19,
   "id": "c3c972e2-87dd-42aa-b271-d4e010d3dbb6",
   "metadata": {},
   "outputs": [
    {
     "data": {
      "text/plain": [
       "[2, 300, 4, 5, 'sudh', (3+5j), True, 34.455]"
      ]
     },
     "execution_count": 19,
     "metadata": {},
     "output_type": "execute_result"
    }
   ],
   "source": [
    "l"
   ]
  },
  {
   "cell_type": "code",
   "execution_count": 20,
   "id": "56d0943b-a008-45a3-9272-713d8f119508",
   "metadata": {},
   "outputs": [],
   "source": [
    "l[2] = 'pwskills'"
   ]
  },
  {
   "cell_type": "code",
   "execution_count": 21,
   "id": "7332a94d-789b-4f25-b8b7-f499f2f085ff",
   "metadata": {},
   "outputs": [
    {
     "data": {
      "text/plain": [
       "[2, 300, 'pwskills', 5, 'sudh', (3+5j), True, 34.455]"
      ]
     },
     "execution_count": 21,
     "metadata": {},
     "output_type": "execute_result"
    }
   ],
   "source": [
    "l"
   ]
  },
  {
   "cell_type": "code",
   "execution_count": 22,
   "id": "ebe2e151-9bb9-4eb8-85b6-111787f3bce1",
   "metadata": {},
   "outputs": [
    {
     "data": {
      "text/plain": [
       "'sudh'"
      ]
     },
     "execution_count": 22,
     "metadata": {},
     "output_type": "execute_result"
    }
   ],
   "source": [
    "s"
   ]
  },
  {
   "cell_type": "code",
   "execution_count": 23,
   "id": "a5a32c46-b103-4b98-a84a-80cea60bc173",
   "metadata": {},
   "outputs": [
    {
     "ename": "TypeError",
     "evalue": "'str' object does not support item assignment",
     "output_type": "error",
     "traceback": [
      "\u001b[0;31m---------------------------------------------------------------------------\u001b[0m",
      "\u001b[0;31mTypeError\u001b[0m                                 Traceback (most recent call last)",
      "Cell \u001b[0;32mIn[23], line 1\u001b[0m\n\u001b[0;32m----> 1\u001b[0m \u001b[43ms\u001b[49m\u001b[43m[\u001b[49m\u001b[38;5;241;43m1\u001b[39;49m\u001b[43m]\u001b[49m\u001b[38;5;241m=\u001b[39m\u001b[38;5;124m\"\u001b[39m\u001b[38;5;124ma\u001b[39m\u001b[38;5;124m\"\u001b[39m\n",
      "\u001b[0;31mTypeError\u001b[0m: 'str' object does not support item assignment"
     ]
    }
   ],
   "source": [
    "s[1]=\"a\""
   ]
  },
  {
   "cell_type": "code",
   "execution_count": 25,
   "id": "dee92dea-0f17-4438-8bde-1357b9de7133",
   "metadata": {},
   "outputs": [],
   "source": [
    "s = 'sadh'"
   ]
  },
  {
   "cell_type": "code",
   "execution_count": 26,
   "id": "1efe2f5a-051c-4ef8-ba2c-b9f69313806e",
   "metadata": {},
   "outputs": [
    {
     "data": {
      "text/plain": [
       "'sadh'"
      ]
     },
     "execution_count": 26,
     "metadata": {},
     "output_type": "execute_result"
    }
   ],
   "source": [
    "s"
   ]
  },
  {
   "cell_type": "code",
   "execution_count": 28,
   "id": "1c2a8f94-a990-4514-ad28-de2b2c3622c6",
   "metadata": {},
   "outputs": [],
   "source": [
    "# str is imutable(no value change)  and list is mutable object( value change)"
   ]
  },
  {
   "cell_type": "code",
   "execution_count": null,
   "id": "52c16dba-59a9-4470-b0a4-069fd6556d50",
   "metadata": {},
   "outputs": [],
   "source": []
  }
 ],
 "metadata": {
  "kernelspec": {
   "display_name": "Python 3 (ipykernel)",
   "language": "python",
   "name": "python3"
  },
  "language_info": {
   "codemirror_mode": {
    "name": "ipython",
    "version": 3
   },
   "file_extension": ".py",
   "mimetype": "text/x-python",
   "name": "python",
   "nbconvert_exporter": "python",
   "pygments_lexer": "ipython3",
   "version": "3.10.8"
  }
 },
 "nbformat": 4,
 "nbformat_minor": 5
}
