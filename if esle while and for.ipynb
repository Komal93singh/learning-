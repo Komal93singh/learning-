{
 "cells": [
  {
   "cell_type": "code",
   "execution_count": 1,
   "id": "b9fdb2c5-0192-444f-b4f9-873e308dd12a",
   "metadata": {},
   "outputs": [],
   "source": [
    "a=10\n",
    "if a>10 :\n",
    "    print (\"yes a is greater than 10\")"
   ]
  },
  {
   "cell_type": "code",
   "execution_count": 2,
   "id": "0c59ae4d-c32f-468d-ac10-0e2bdeb35b34",
   "metadata": {},
   "outputs": [
    {
     "data": {
      "text/plain": [
       "False"
      ]
     },
     "execution_count": 2,
     "metadata": {},
     "output_type": "execute_result"
    }
   ],
   "source": [
    "a>10"
   ]
  },
  {
   "cell_type": "code",
   "execution_count": 4,
   "id": "2934f3b1-0bd1-431a-bfa5-c6bc5f096db6",
   "metadata": {},
   "outputs": [
    {
     "ename": "IndentationError",
     "evalue": "expected an indented block after 'if' statement on line 2 (1190523771.py, line 3)",
     "output_type": "error",
     "traceback": [
      "\u001b[0;36m  Cell \u001b[0;32mIn[4], line 3\u001b[0;36m\u001b[0m\n\u001b[0;31m    print (\"yes a is greater than 10\")\u001b[0m\n\u001b[0m    ^\u001b[0m\n\u001b[0;31mIndentationError\u001b[0m\u001b[0;31m:\u001b[0m expected an indented block after 'if' statement on line 2\n"
     ]
    }
   ],
   "source": [
    "a=10\n",
    "if a>10 :\n",
    "print (\"yes a is greater than 10\")"
   ]
  },
  {
   "cell_type": "code",
   "execution_count": 5,
   "id": "232b9337-a036-40fe-b282-05a36b5be835",
   "metadata": {},
   "outputs": [
    {
     "name": "stdout",
     "output_type": "stream",
     "text": [
      "yes a is greater than 10\n"
     ]
    }
   ],
   "source": [
    "a=10\n",
    "if a>=10 :\n",
    "    print (\"yes a is greater than 10\")"
   ]
  },
  {
   "cell_type": "code",
   "execution_count": 6,
   "id": "d172ea61-bb7f-412f-bdee-454572f07188",
   "metadata": {},
   "outputs": [
    {
     "data": {
      "text/plain": [
       "True"
      ]
     },
     "execution_count": 6,
     "metadata": {},
     "output_type": "execute_result"
    }
   ],
   "source": [
    "a>=10"
   ]
  },
  {
   "cell_type": "code",
   "execution_count": 9,
   "id": "53c0599e-84f7-46bb-8167-179601048c32",
   "metadata": {},
   "outputs": [
    {
     "name": "stdout",
     "output_type": "stream",
     "text": [
      "yes b is lesser than 30\n"
     ]
    }
   ],
   "source": [
    "b=20\n",
    "if b>40 :\n",
    "    print(\"yes b is greater than 40\")\n",
    "elif b<30 :\n",
    "        print(\"yes b is lesser than 30\")\n",
    "else :\n",
    "    print (\"this is default\") "
   ]
  },
  {
   "cell_type": "code",
   "execution_count": 10,
   "id": "2ae00df0-140d-4024-a471-87a52386986c",
   "metadata": {},
   "outputs": [
    {
     "data": {
      "text/plain": [
       "True"
      ]
     },
     "execution_count": 10,
     "metadata": {},
     "output_type": "execute_result"
    }
   ],
   "source": [
    "b<30"
   ]
  },
  {
   "cell_type": "code",
   "execution_count": 11,
   "id": "72043573-ee24-42df-a47a-f84b466ccc91",
   "metadata": {},
   "outputs": [
    {
     "name": "stdout",
     "output_type": "stream",
     "text": [
      "yes b is greater than 40\n"
     ]
    }
   ],
   "source": [
    "b=100\n",
    "if b>40 :\n",
    "    print(\"yes b is greater than 40\")\n",
    "elif b<30 :\n",
    "        print(\"yes b is lesser than 30\")\n",
    "else :\n",
    "    print (\"this is default\") "
   ]
  },
  {
   "cell_type": "code",
   "execution_count": 12,
   "id": "019cfb9b-ce7d-47af-9a31-6a9fadac7e58",
   "metadata": {},
   "outputs": [
    {
     "name": "stdout",
     "output_type": "stream",
     "text": [
      "this is default\n"
     ]
    }
   ],
   "source": [
    "b=20\n",
    "if b>40 :\n",
    "    print(\"yes b is greater than 40\")\n",
    "elif b>30 :\n",
    "        print(\"yes b is lesser than 30\")\n",
    "else :\n",
    "    print (\"this is default\") "
   ]
  },
  {
   "cell_type": "code",
   "execution_count": 13,
   "id": "503468be-ff60-41fa-919e-990e29f31f3b",
   "metadata": {},
   "outputs": [
    {
     "data": {
      "text/plain": [
       "False"
      ]
     },
     "execution_count": 13,
     "metadata": {},
     "output_type": "execute_result"
    }
   ],
   "source": [
    "b>40"
   ]
  },
  {
   "cell_type": "code",
   "execution_count": 14,
   "id": "4d1b38d9-9d7e-4116-974c-27a5c63ca1c7",
   "metadata": {},
   "outputs": [
    {
     "data": {
      "text/plain": [
       "True"
      ]
     },
     "execution_count": 14,
     "metadata": {},
     "output_type": "execute_result"
    }
   ],
   "source": [
    "b<30"
   ]
  },
  {
   "cell_type": "code",
   "execution_count": 15,
   "id": "15edc8ea-1483-4889-97f5-107dd50f7d41",
   "metadata": {},
   "outputs": [
    {
     "data": {
      "text/plain": [
       "False"
      ]
     },
     "execution_count": 15,
     "metadata": {},
     "output_type": "execute_result"
    }
   ],
   "source": [
    "b>30"
   ]
  },
  {
   "cell_type": "code",
   "execution_count": 16,
   "id": "c123c7aa-77ff-4564-b437-b26da42ad208",
   "metadata": {},
   "outputs": [
    {
     "name": "stdout",
     "output_type": "stream",
     "text": [
      "this is default\n"
     ]
    }
   ],
   "source": [
    "b=20\n",
    "if b>40 :\n",
    "    print(\"yes b is greater than 40\")\n",
    "elif b>30 :\n",
    "     print(\"yes b is lesser than 30\")\n",
    "elif b>100 :\n",
    "    print (\"yes b is greater than 100\")\n",
    "else :\n",
    "    print (\"this is default\") "
   ]
  },
  {
   "cell_type": "code",
   "execution_count": 17,
   "id": "2ff2bb53-37a9-4ff1-b93e-b014cba37693",
   "metadata": {},
   "outputs": [
    {
     "data": {
      "text/plain": [
       "False"
      ]
     },
     "execution_count": 17,
     "metadata": {},
     "output_type": "execute_result"
    }
   ],
   "source": [
    "20>40"
   ]
  },
  {
   "cell_type": "code",
   "execution_count": 18,
   "id": "ed2caba7-9c7e-4bcc-96cc-75375d33b9bf",
   "metadata": {},
   "outputs": [
    {
     "data": {
      "text/plain": [
       "False"
      ]
     },
     "execution_count": 18,
     "metadata": {},
     "output_type": "execute_result"
    }
   ],
   "source": [
    "20>30"
   ]
  },
  {
   "cell_type": "code",
   "execution_count": 19,
   "id": "e4ab5d77-2e0f-4e16-a4a1-10ef9e1a6678",
   "metadata": {},
   "outputs": [
    {
     "data": {
      "text/plain": [
       "False"
      ]
     },
     "execution_count": 19,
     "metadata": {},
     "output_type": "execute_result"
    }
   ],
   "source": [
    "20>100"
   ]
  },
  {
   "cell_type": "code",
   "execution_count": 20,
   "id": "3e3668e7-bf17-4be0-a4b1-b895b753ab76",
   "metadata": {},
   "outputs": [
    {
     "name": "stdin",
     "output_type": "stream",
     "text": [
      " 324\n"
     ]
    },
    {
     "data": {
      "text/plain": [
       "'324'"
      ]
     },
     "execution_count": 20,
     "metadata": {},
     "output_type": "execute_result"
    }
   ],
   "source": [
    "input()"
   ]
  },
  {
   "cell_type": "code",
   "execution_count": 21,
   "id": "700e4d30-6c0b-49f6-803b-157993b2d0af",
   "metadata": {},
   "outputs": [
    {
     "name": "stdin",
     "output_type": "stream",
     "text": [
      " 34\n"
     ]
    },
    {
     "data": {
      "text/plain": [
       "34"
      ]
     },
     "execution_count": 21,
     "metadata": {},
     "output_type": "execute_result"
    }
   ],
   "source": [
    "int(input())"
   ]
  },
  {
   "cell_type": "code",
   "execution_count": 22,
   "id": "b509ea35-b02d-458b-ae47-3d7c2a27a92f",
   "metadata": {},
   "outputs": [
    {
     "data": {
      "text/plain": [
       "34"
      ]
     },
     "execution_count": 22,
     "metadata": {},
     "output_type": "execute_result"
    }
   ],
   "source": [
    "int('34')"
   ]
  },
  {
   "cell_type": "code",
   "execution_count": 24,
   "id": "227fc5ea-5a47-4073-ab40-cdd2f599b9ae",
   "metadata": {},
   "outputs": [
    {
     "name": "stdin",
     "output_type": "stream",
     "text": [
      " 45\n"
     ]
    }
   ],
   "source": [
    "b=int(input())"
   ]
  },
  {
   "cell_type": "code",
   "execution_count": 25,
   "id": "9a96e4d4-97dd-495d-a415-2b404b3d62ca",
   "metadata": {},
   "outputs": [
    {
     "data": {
      "text/plain": [
       "45"
      ]
     },
     "execution_count": 25,
     "metadata": {},
     "output_type": "execute_result"
    }
   ],
   "source": [
    "b"
   ]
  },
  {
   "cell_type": "code",
   "execution_count": 26,
   "id": "b3b63a75-64f8-462a-8e91-0ee9995d34a7",
   "metadata": {},
   "outputs": [
    {
     "data": {
      "text/plain": [
       "int"
      ]
     },
     "execution_count": 26,
     "metadata": {},
     "output_type": "execute_result"
    }
   ],
   "source": [
    "type(b)"
   ]
  },
  {
   "cell_type": "code",
   "execution_count": 29,
   "id": "4c623669-e341-4d12-a830-9ea05f8209bd",
   "metadata": {},
   "outputs": [
    {
     "name": "stdin",
     "output_type": "stream",
     "text": [
      " 10\n"
     ]
    },
    {
     "name": "stdout",
     "output_type": "stream",
     "text": [
      "this is default\n"
     ]
    }
   ],
   "source": [
    "b=int(input())\n",
    "if b>40 :\n",
    "    print(\"yes b is greater than 40\")\n",
    "elif b>30 :\n",
    "     print(\"yes b is lesser than 30\")\n",
    "elif b>100 :\n",
    "    print (\"yes b is greater than 100\")\n",
    "else :\n",
    "    print (\"this is default\") "
   ]
  },
  {
   "cell_type": "code",
   "execution_count": 30,
   "id": "7e77ef50-6985-49f5-862c-db10e9948fd3",
   "metadata": {},
   "outputs": [
    {
     "name": "stdout",
     "output_type": "stream",
     "text": [
      "1\n",
      "2\n",
      "3\n"
     ]
    }
   ],
   "source": [
    "n=4\n",
    "i=1\n",
    "while i<n :\n",
    "    print(i)\n",
    "    i=i+1"
   ]
  },
  {
   "cell_type": "code",
   "execution_count": 31,
   "id": "a2003965-a631-4f24-bae4-7db3bfac6422",
   "metadata": {},
   "outputs": [
    {
     "name": "stdout",
     "output_type": "stream",
     "text": [
      "1\n",
      "2\n",
      "3\n",
      "this is my else\n"
     ]
    }
   ],
   "source": [
    "n=4\n",
    "i=1\n",
    "while i<n :\n",
    "    print(i)\n",
    "    i=i+1\n",
    "\n",
    "else :\n",
    "    print(\"this is my else\")\n",
    "    "
   ]
  },
  {
   "cell_type": "code",
   "execution_count": 32,
   "id": "0ddec736-d55f-4108-bc5c-976537994d40",
   "metadata": {},
   "outputs": [
    {
     "name": "stdout",
     "output_type": "stream",
     "text": [
      "1\n",
      "2\n"
     ]
    }
   ],
   "source": [
    "n=4\n",
    "i=1\n",
    "while i<n :\n",
    "    print(i)\n",
    "    i=i+1\n",
    "    if i==3 :\n",
    "        break\n",
    "else :\n",
    "    print(\"this is my else\")"
   ]
  },
  {
   "cell_type": "code",
   "execution_count": 34,
   "id": "3a46577c-8154-449a-8685-6e94d6aaf120",
   "metadata": {},
   "outputs": [
    {
     "name": "stdout",
     "output_type": "stream",
     "text": [
      "s\n",
      "u\n",
      "d\n",
      "h\n"
     ]
    }
   ],
   "source": [
    "s='sudh'\n",
    "for i in s :\n",
    "    print(i)"
   ]
  },
  {
   "cell_type": "code",
   "execution_count": 35,
   "id": "c1dfd6a3-25b6-44b4-96b5-d8bf10bd44f4",
   "metadata": {},
   "outputs": [],
   "source": [
    "l=[2,3,4,5,\"pwskills\",'sudh',34.565,True]"
   ]
  },
  {
   "cell_type": "code",
   "execution_count": 38,
   "id": "617c0255-0e6b-4c26-9be6-7b7e2c9eb16b",
   "metadata": {},
   "outputs": [
    {
     "name": "stdout",
     "output_type": "stream",
     "text": [
      "<class 'int'>\n",
      "<class 'int'>\n",
      "<class 'int'>\n",
      "<class 'int'>\n",
      "<class 'str'>\n",
      "<class 'str'>\n",
      "<class 'float'>\n",
      "<class 'bool'>\n"
     ]
    }
   ],
   "source": [
    "for m in l :\n",
    "    print(type(m))"
   ]
  },
  {
   "cell_type": "code",
   "execution_count": 39,
   "id": "820ea86a-27b7-4af2-9a6e-28231c7cae0a",
   "metadata": {},
   "outputs": [
    {
     "name": "stdout",
     "output_type": "stream",
     "text": [
      "<class 'int'>\n",
      "<class 'int'>\n",
      "<class 'int'>\n",
      "<class 'int'>\n",
      "<class 'str'>\n",
      "<class 'str'>\n",
      "<class 'float'>\n",
      "<class 'bool'>\n",
      "this is executed once in loop will compelete  itself successfully\n"
     ]
    }
   ],
   "source": [
    "for m in l :\n",
    "    print(type(m))\n",
    "else :\n",
    "    print(\"this is executed once in loop will compelete  itself successfully\")"
   ]
  },
  {
   "cell_type": "code",
   "execution_count": 46,
   "id": "42d6bb76-781e-428e-a024-1cfe58aede60",
   "metadata": {},
   "outputs": [
    {
     "name": "stdout",
     "output_type": "stream",
     "text": [
      "<class 'int'>\n",
      "<class 'int'>\n",
      "<class 'int'>\n",
      "<class 'int'>\n"
     ]
    }
   ],
   "source": [
    "for m in l :\n",
    "    print(type(m))\n",
    "    if m == 5:\n",
    "        break\n",
    "else :\n",
    "    print(\"this is executed once in loop will compelete  itself successfully\")"
   ]
  },
  {
   "cell_type": "code",
   "execution_count": 47,
   "id": "f6f6cecf-90c5-4d4c-b100-7c4aaad5e71f",
   "metadata": {},
   "outputs": [
    {
     "name": "stdout",
     "output_type": "stream",
     "text": [
      "<class 'int'>\n",
      "<class 'int'>\n",
      "<class 'int'>\n",
      "<class 'int'>\n",
      "<class 'str'>\n",
      "<class 'str'>\n",
      "<class 'float'>\n",
      "<class 'bool'>\n",
      "this is executed once in loop will compelete  itself successfully\n"
     ]
    }
   ],
   "source": [
    "for m in l :\n",
    "    print(type(m))\n",
    "    if m == 5:\n",
    "        continue\n",
    "else :\n",
    "    print(\"this is executed once in loop will compelete  itself successfully\")"
   ]
  },
  {
   "cell_type": "code",
   "execution_count": 48,
   "id": "99a71163-d49b-461c-8780-1c8fea4622c1",
   "metadata": {},
   "outputs": [
    {
     "data": {
      "text/plain": [
       "[2, 3, 4, 5, 'pwskills', 'sudh', 34.565, True]"
      ]
     },
     "execution_count": 48,
     "metadata": {},
     "output_type": "execute_result"
    }
   ],
   "source": [
    "l"
   ]
  },
  {
   "cell_type": "code",
   "execution_count": 53,
   "id": "9e23381b-f0de-4fa8-9573-e7a7d60166b8",
   "metadata": {},
   "outputs": [
    {
     "name": "stdout",
     "output_type": "stream",
     "text": [
      "<class 'int'>\n",
      "2\n",
      "<class 'int'>\n",
      "3\n",
      "<class 'int'>\n",
      "4\n",
      "<class 'int'>\n",
      "<class 'str'>\n",
      "pwskills\n",
      "<class 'str'>\n",
      "sudh\n",
      "<class 'float'>\n",
      "34.565\n",
      "<class 'bool'>\n",
      "True\n",
      "this is executed once in loop will compelete  itself successfully\n"
     ]
    }
   ],
   "source": [
    "for m in l :\n",
    "    print(type(m))\n",
    "    if m == 5:\n",
    "        continue\n",
    "    print(m)  \n",
    "else :\n",
    "    print(\"this is executed once in loop will compelete  itself successfully\")"
   ]
  },
  {
   "cell_type": "code",
   "execution_count": 54,
   "id": "27b77e36-e76d-42d8-b59d-eb7c63452eba",
   "metadata": {},
   "outputs": [
    {
     "data": {
      "text/plain": [
       "range(0, 10)"
      ]
     },
     "execution_count": 54,
     "metadata": {},
     "output_type": "execute_result"
    }
   ],
   "source": [
    "range(10)"
   ]
  },
  {
   "cell_type": "code",
   "execution_count": 55,
   "id": "1b72576f-624e-41d0-a172-4d4b4b4b0d0f",
   "metadata": {},
   "outputs": [
    {
     "data": {
      "text/plain": [
       "[0, 1, 2, 3, 4, 5, 6, 7, 8, 9]"
      ]
     },
     "execution_count": 55,
     "metadata": {},
     "output_type": "execute_result"
    }
   ],
   "source": [
    "list(range(10))"
   ]
  },
  {
   "cell_type": "code",
   "execution_count": null,
   "id": "ffd4c1d5-f4b4-4fda-acfd-88a2e6587199",
   "metadata": {},
   "outputs": [],
   "source": []
  }
 ],
 "metadata": {
  "kernelspec": {
   "display_name": "Python 3 (ipykernel)",
   "language": "python",
   "name": "python3"
  },
  "language_info": {
   "codemirror_mode": {
    "name": "ipython",
    "version": 3
   },
   "file_extension": ".py",
   "mimetype": "text/x-python",
   "name": "python",
   "nbconvert_exporter": "python",
   "pygments_lexer": "ipython3",
   "version": "3.10.8"
  }
 },
 "nbformat": 4,
 "nbformat_minor": 5
}
