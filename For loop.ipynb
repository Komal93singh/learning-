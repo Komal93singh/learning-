{
 "cells": [
  {
   "cell_type": "code",
   "execution_count": 2,
   "id": "23d66ce0-78b1-4d40-8482-a0cc232e0298",
   "metadata": {},
   "outputs": [],
   "source": [
    "l= [1,2, 3,4,5,\"pwskills\",\"komal\",\"namaste\" ,23.457,8,90,\"done\"]"
   ]
  },
  {
   "cell_type": "code",
   "execution_count": 12,
   "id": "63049975-1ee1-4d91-9e70-8e9dae75274f",
   "metadata": {
    "collapsed": true,
    "jupyter": {
     "outputs_hidden": true
    },
    "tags": []
   },
   "outputs": [
    {
     "data": {
      "text/plain": [
       "['pwskills', 'komal', 'namaste', 'done']"
      ]
     },
     "execution_count": 12,
     "metadata": {},
     "output_type": "execute_result"
    }
   ],
   "source": [
    "l_num=[]\n",
    "l_str=[]\n",
    "for i in l:\n",
    "    if type(i)==int or type(i)==float:\n",
    "        l_num.append(i)\n",
    "        \n",
    "    else :\n",
    "        l_str.append(i)\n",
    "        \n",
    "l_num\n",
    "l_str"
   ]
  },
  {
   "cell_type": "code",
   "execution_count": 8,
   "id": "0e081008-f780-4b2c-99a9-dceb1a944928",
   "metadata": {},
   "outputs": [
    {
     "data": {
      "text/plain": [
       "[1, 2, 3, 4, 5, 23.457, 8, 90]"
      ]
     },
     "execution_count": 8,
     "metadata": {},
     "output_type": "execute_result"
    }
   ],
   "source": [
    "l_num "
   ]
  },
  {
   "cell_type": "code",
   "execution_count": 6,
   "id": "d6d2fa60-3d69-4baf-8c65-4a1f56cfc1d6",
   "metadata": {},
   "outputs": [
    {
     "data": {
      "text/plain": [
       "[1, 2, 3, 4, 5, 'pwskills', 'komal', 'namaste', 23.457, 8, 90, 'done']"
      ]
     },
     "execution_count": 6,
     "metadata": {},
     "output_type": "execute_result"
    }
   ],
   "source": [
    "l_str "
   ]
  },
  {
   "cell_type": "code",
   "execution_count": 13,
   "id": "c071735d-661f-40ea-8f42-7f5bd2ebe9c1",
   "metadata": {},
   "outputs": [
    {
     "name": "stdout",
     "output_type": "stream",
     "text": [
      "1\n",
      "2\n",
      "3\n",
      "4\n",
      "5\n",
      "6\n",
      "7\n",
      "8\n"
     ]
    }
   ],
   "source": [
    "l1=[1,2,3,4,5,6,7,8]\n",
    "for i in l1:\n",
    "    print(i)"
   ]
  },
  {
   "cell_type": "code",
   "execution_count": 14,
   "id": "0f8dac1a-c4f2-404d-8e9d-416e8fa60b89",
   "metadata": {},
   "outputs": [
    {
     "name": "stdout",
     "output_type": "stream",
     "text": [
      "[1, 2, 3, 4, 5, 6, 7, 8]\n",
      "[1, 2, 3, 4, 5, 6, 7, 8]\n",
      "[1, 2, 3, 4, 5, 6, 7, 8]\n",
      "[1, 2, 3, 4, 5, 6, 7, 8]\n",
      "[1, 2, 3, 4, 5, 6, 7, 8]\n",
      "[1, 2, 3, 4, 5, 6, 7, 8]\n",
      "[1, 2, 3, 4, 5, 6, 7, 8]\n",
      "[1, 2, 3, 4, 5, 6, 7, 8]\n"
     ]
    }
   ],
   "source": [
    "l2= [1,2,3,4,5,6,7,8]\n",
    "for I in l2:\n",
    "    print(l2)"
   ]
  },
  {
   "cell_type": "code",
   "execution_count": 15,
   "id": "4f779667-e214-46a3-b0f3-a917151cb6d1",
   "metadata": {},
   "outputs": [
    {
     "name": "stdout",
     "output_type": "stream",
     "text": [
      "2\n",
      "3\n",
      "4\n",
      "5\n",
      "6\n",
      "8\n",
      "9\n",
      "10\n"
     ]
    },
    {
     "data": {
      "text/plain": [
       "[2, 3, 4, 5, 6, 8, 9, 10]"
      ]
     },
     "execution_count": 15,
     "metadata": {},
     "output_type": "execute_result"
    }
   ],
   "source": [
    "l3=[1,2,3,4,5,7,8,9]\n",
    "l4=[]\n",
    "for i in l3:\n",
    "    print(i+1)\n",
    "    l4.append(i+1)\n",
    "l4"
   ]
  },
  {
   "cell_type": "code",
   "execution_count": 16,
   "id": "67f1a9f0-1508-4527-bdee-9ef956a4c30d",
   "metadata": {},
   "outputs": [
    {
     "data": {
      "text/plain": [
       "[1, 2, 3, 4, 5, 7, 8, 9]"
      ]
     },
     "execution_count": 16,
     "metadata": {},
     "output_type": "execute_result"
    }
   ],
   "source": [
    "l3"
   ]
  },
  {
   "cell_type": "code",
   "execution_count": 19,
   "id": "44ce3e1e-1611-447e-b15c-1f31eb7c2626",
   "metadata": {},
   "outputs": [
    {
     "name": "stdout",
     "output_type": "stream",
     "text": [
      "komal\n",
      "pwskills\n",
      "sudh\n",
      "kumar\n",
      "course\n"
     ]
    },
    {
     "data": {
      "text/plain": [
       "['KOMAL', 'PWSKILLS', 'SUDH', 'KUMAR', 'COURSE']"
      ]
     },
     "execution_count": 19,
     "metadata": {},
     "output_type": "execute_result"
    }
   ],
   "source": [
    "l=['komal','pwskills','sudh','kumar','course']\n",
    "l1=[]\n",
    "for i in l:\n",
    "    print(i)\n",
    "    l1.append(i.upper())\n",
    "l1"
   ]
  },
  {
   "cell_type": "code",
   "execution_count": null,
   "id": "44a9bdb8-3d4e-4474-98dd-42a385156c37",
   "metadata": {},
   "outputs": [],
   "source": []
  }
 ],
 "metadata": {
  "kernelspec": {
   "display_name": "Python 3 (ipykernel)",
   "language": "python",
   "name": "python3"
  },
  "language_info": {
   "codemirror_mode": {
    "name": "ipython",
    "version": 3
   },
   "file_extension": ".py",
   "mimetype": "text/x-python",
   "name": "python",
   "nbconvert_exporter": "python",
   "pygments_lexer": "ipython3",
   "version": "3.10.8"
  }
 },
 "nbformat": 4,
 "nbformat_minor": 5
}
