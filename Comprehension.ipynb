{
 "cells": [
  {
   "cell_type": "code",
   "execution_count": 3,
   "id": "bb755952-cb43-4481-bb03-1f8ef914a065",
   "metadata": {
    "collapsed": true,
    "jupyter": {
     "outputs_hidden": true
    },
    "tags": []
   },
   "outputs": [
    {
     "data": {
      "text/plain": [
       "[1, 4, 9, 16, 25, 36, 49, 64, 81]"
      ]
     },
     "execution_count": 3,
     "metadata": {},
     "output_type": "execute_result"
    }
   ],
   "source": [
    "l = [1,2,3,4,5,6,7,8,9]\n",
    "l1 = []\n",
    "for i in l:\n",
    "    l1.append(i**2)\n",
    "l1"
   ]
  },
  {
   "cell_type": "code",
   "execution_count": null,
   "id": "7de0cfbd-0621-43cd-b2a9-8f9f9fd23bb9",
   "metadata": {},
   "outputs": [],
   "source": [
    "l1"
   ]
  },
  {
   "cell_type": "markdown",
   "id": "c00429da-0525-4119-9eb9-c0ec87ea33a2",
   "metadata": {},
   "source": [
    "#write above for loop in one line code is called comprehension"
   ]
  },
  {
   "cell_type": "code",
   "execution_count": 4,
   "id": "65f22f44-06a7-4180-bbd1-eb4b9adfbb76",
   "metadata": {},
   "outputs": [
    {
     "data": {
      "text/plain": [
       "[1, 4, 9, 16, 25, 36, 49, 64, 81]"
      ]
     },
     "execution_count": 4,
     "metadata": {},
     "output_type": "execute_result"
    }
   ],
   "source": [
    "[i**2 for i in l]"
   ]
  },
  {
   "cell_type": "code",
   "execution_count": 5,
   "id": "d16a1351-d88e-4a99-8bd9-66f43f399d56",
   "metadata": {},
   "outputs": [
    {
     "data": {
      "text/plain": [
       "[1, 2, 3, 4, 5, 6, 7, 8, 9]"
      ]
     },
     "execution_count": 5,
     "metadata": {},
     "output_type": "execute_result"
    }
   ],
   "source": [
    "l"
   ]
  },
  {
   "cell_type": "code",
   "execution_count": 6,
   "id": "499f9e44-20ef-404b-b963-1c19decd3004",
   "metadata": {},
   "outputs": [
    {
     "data": {
      "text/plain": [
       "[2, 4, 6, 8]"
      ]
     },
     "execution_count": 6,
     "metadata": {},
     "output_type": "execute_result"
    }
   ],
   "source": [
    "[i for i in l if i%2==0]"
   ]
  },
  {
   "cell_type": "code",
   "execution_count": 7,
   "id": "2fe40be4-17ba-4b77-9ef4-87a3d213491c",
   "metadata": {},
   "outputs": [],
   "source": [
    "l1= ['sudh','komal','pwskills','data science']\n"
   ]
  },
  {
   "cell_type": "code",
   "execution_count": 8,
   "id": "be15e8a9-dbf7-417c-84a9-0f7955eb499f",
   "metadata": {},
   "outputs": [
    {
     "data": {
      "text/plain": [
       "['SUDH', 'KOMAL', 'PWSKILLS', 'DATA SCIENCE']"
      ]
     },
     "execution_count": 8,
     "metadata": {},
     "output_type": "execute_result"
    }
   ],
   "source": [
    "[i.upper() for i in l1]"
   ]
  },
  {
   "cell_type": "code",
   "execution_count": 9,
   "id": "71e415f5-9f77-4217-9aae-b7a561619acd",
   "metadata": {},
   "outputs": [
    {
     "data": {
      "text/plain": [
       "[1, 2, 3, 4, 5, 6, 7, 8, 9]"
      ]
     },
     "execution_count": 9,
     "metadata": {},
     "output_type": "execute_result"
    }
   ],
   "source": [
    "l"
   ]
  },
  {
   "cell_type": "code",
   "execution_count": 10,
   "id": "ac93971f-1b01-4d63-a905-e2032d070fbc",
   "metadata": {},
   "outputs": [
    {
     "data": {
      "text/plain": [
       "<generator object <genexpr> at 0x7f7daf015930>"
      ]
     },
     "execution_count": 10,
     "metadata": {},
     "output_type": "execute_result"
    }
   ],
   "source": [
    "(i**2 for i in l)"
   ]
  },
  {
   "cell_type": "code",
   "execution_count": 11,
   "id": "2f76a2df-3329-482d-8cad-1be98a1abe99",
   "metadata": {},
   "outputs": [
    {
     "data": {
      "text/plain": [
       "[1, 4, 9, 16, 25, 36, 49, 64, 81]"
      ]
     },
     "execution_count": 11,
     "metadata": {},
     "output_type": "execute_result"
    }
   ],
   "source": [
    "list(i**2 for i in l) "
   ]
  },
  {
   "cell_type": "code",
   "execution_count": 12,
   "id": "b1f615ad-2eee-4c63-b7f1-244a915fce1b",
   "metadata": {},
   "outputs": [],
   "source": [
    "d ={ \"keys1\":1, \"keys2\":2 ,\"keys3\" :3 ,\"keys4\" :4}"
   ]
  },
  {
   "cell_type": "code",
   "execution_count": 13,
   "id": "3404d1fb-f276-4809-a064-0532cc79697b",
   "metadata": {},
   "outputs": [
    {
     "data": {
      "text/plain": [
       "dict_items([('keys1', 1), ('keys2', 2), ('keys3', 3), ('keys4', 4)])"
      ]
     },
     "execution_count": 13,
     "metadata": {},
     "output_type": "execute_result"
    }
   ],
   "source": [
    "d.items()"
   ]
  },
  {
   "cell_type": "code",
   "execution_count": 14,
   "id": "d2e673f2-d51a-4f4e-8234-e3afa9f09d48",
   "metadata": {},
   "outputs": [
    {
     "data": {
      "text/plain": [
       "{'keys1': 1, 'keys2': 4, 'keys3': 9, 'keys4': 16}"
      ]
     },
     "execution_count": 14,
     "metadata": {},
     "output_type": "execute_result"
    }
   ],
   "source": [
    "{k:v**2 for k,v in d.items()}"
   ]
  },
  {
   "cell_type": "markdown",
   "id": "d51a87e2-95e7-4fd2-8cab-4d27712c245e",
   "metadata": {},
   "source": [
    "#write the code for value>1 for above dict "
   ]
  },
  {
   "cell_type": "markdown",
   "id": "bccf70df-392e-461e-b86d-3f411b82893b",
   "metadata": {},
   "source": [
    "{output for loop condition}"
   ]
  },
  {
   "cell_type": "code",
   "execution_count": 15,
   "id": "2b1e7ad1-3bcc-4544-b73b-861c131d897c",
   "metadata": {},
   "outputs": [
    {
     "data": {
      "text/plain": [
       "{'keys1': 1, 'keys2': 2, 'keys3': 3, 'keys4': 4}"
      ]
     },
     "execution_count": 15,
     "metadata": {},
     "output_type": "execute_result"
    }
   ],
   "source": [
    "d"
   ]
  },
  {
   "cell_type": "code",
   "execution_count": 16,
   "id": "be5cf2da-ef4a-46ac-a16a-da7a08bf64e9",
   "metadata": {},
   "outputs": [
    {
     "data": {
      "text/plain": [
       "{'keys2': 2, 'keys3': 3, 'keys4': 4}"
      ]
     },
     "execution_count": 16,
     "metadata": {},
     "output_type": "execute_result"
    }
   ],
   "source": [
    "{k:v for k,v in d.items() if v>1}"
   ]
  },
  {
   "cell_type": "code",
   "execution_count": null,
   "id": "4e7a5520-8893-4329-9504-0200150b6d57",
   "metadata": {},
   "outputs": [],
   "source": []
  }
 ],
 "metadata": {
  "kernelspec": {
   "display_name": "Python 3 (ipykernel)",
   "language": "python",
   "name": "python3"
  },
  "language_info": {
   "codemirror_mode": {
    "name": "ipython",
    "version": 3
   },
   "file_extension": ".py",
   "mimetype": "text/x-python",
   "name": "python",
   "nbconvert_exporter": "python",
   "pygments_lexer": "ipython3",
   "version": "3.10.8"
  }
 },
 "nbformat": 4,
 "nbformat_minor": 5
}
