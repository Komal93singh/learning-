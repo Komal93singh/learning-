{
 "cells": [
  {
   "cell_type": "code",
   "execution_count": 1,
   "id": "cb2fdda7-66db-47a5-a50c-43ae42e9f92a",
   "metadata": {},
   "outputs": [],
   "source": [
    "n = 3\n",
    "p= 2"
   ]
  },
  {
   "cell_type": "code",
   "execution_count": 2,
   "id": "c44a98ad-dfe2-45d9-8e19-671dc2331d71",
   "metadata": {},
   "outputs": [],
   "source": [
    "def test(n,p):\n",
    "    return n**p"
   ]
  },
  {
   "cell_type": "code",
   "execution_count": null,
   "id": "ede47ff2-03fc-4f7d-af24-98b8ec2eed66",
   "metadata": {},
   "outputs": [],
   "source": [
    "#fullfalized function"
   ]
  },
  {
   "cell_type": "code",
   "execution_count": 3,
   "id": "fd443bc4-1e0e-4583-94be-f47fc06ee9ce",
   "metadata": {},
   "outputs": [
    {
     "data": {
      "text/plain": [
       "9"
      ]
     },
     "execution_count": 3,
     "metadata": {},
     "output_type": "execute_result"
    }
   ],
   "source": [
    "test(3,2)"
   ]
  },
  {
   "cell_type": "code",
   "execution_count": 5,
   "id": "ba12ce64-44ed-4e42-b9e5-00ab7d165bb9",
   "metadata": {
    "tags": []
   },
   "outputs": [
    {
     "data": {
      "text/plain": [
       "<function __main__.<lambda>(n, p)>"
      ]
     },
     "execution_count": 5,
     "metadata": {},
     "output_type": "execute_result"
    }
   ],
   "source": [
    "lambda n,p: n**p"
   ]
  },
  {
   "cell_type": "code",
   "execution_count": 6,
   "id": "87b20f24-a8f1-42d6-93b5-e9c9c72e0f90",
   "metadata": {},
   "outputs": [],
   "source": [
    "a = lambda n,p : n**p \n",
    "# a stores the value of lambda function "
   ]
  },
  {
   "cell_type": "code",
   "execution_count": 7,
   "id": "b2c1e2fc-2105-4677-a1f7-fcbcea8ef7ac",
   "metadata": {},
   "outputs": [
    {
     "data": {
      "text/plain": [
       "9"
      ]
     },
     "execution_count": 7,
     "metadata": {},
     "output_type": "execute_result"
    }
   ],
   "source": [
    "a(3,2)"
   ]
  },
  {
   "cell_type": "code",
   "execution_count": 12,
   "id": "d2ec217f-a664-4f74-8cd4-a71805e8ea28",
   "metadata": {},
   "outputs": [],
   "source": [
    "add= lambda x,y : x+y"
   ]
  },
  {
   "cell_type": "code",
   "execution_count": 13,
   "id": "6f491e01-0ba8-4bc1-bee0-78ee945da7bd",
   "metadata": {},
   "outputs": [
    {
     "data": {
      "text/plain": [
       "9"
      ]
     },
     "execution_count": 13,
     "metadata": {},
     "output_type": "execute_result"
    }
   ],
   "source": [
    "add(4,5)"
   ]
  },
  {
   "cell_type": "code",
   "execution_count": 10,
   "id": "4ca46150-4a53-4b59-82cd-6c310558f394",
   "metadata": {},
   "outputs": [],
   "source": [
    "c_to_f= lambda c: (9/5)*c +32"
   ]
  },
  {
   "cell_type": "code",
   "execution_count": 11,
   "id": "e446a3a2-21d5-49a4-83eb-2ee306a596e4",
   "metadata": {},
   "outputs": [
    {
     "data": {
      "text/plain": [
       "113.0"
      ]
     },
     "execution_count": 11,
     "metadata": {},
     "output_type": "execute_result"
    }
   ],
   "source": [
    "c_to_f(45)"
   ]
  },
  {
   "cell_type": "code",
   "execution_count": null,
   "id": "7b0678e6-cc83-453d-8dbf-b6a558e63913",
   "metadata": {},
   "outputs": [],
   "source": [
    "#c_to_f=lambda input:output"
   ]
  },
  {
   "cell_type": "code",
   "execution_count": 15,
   "id": "f89cc277-1670-4c9a-a1d6-7f42f443ad5b",
   "metadata": {},
   "outputs": [],
   "source": [
    "finding_max= lambda x,y : x if x>y else y"
   ]
  },
  {
   "cell_type": "raw",
   "id": "1d024412-ae60-4925-8813-e49afb3d6649",
   "metadata": {},
   "source": [
    "#finding_max=lambda input :True condition false "
   ]
  },
  {
   "cell_type": "code",
   "execution_count": 16,
   "id": "e9dadcf3-ed07-43c2-9be1-c24fd8092e1e",
   "metadata": {},
   "outputs": [
    {
     "data": {
      "text/plain": [
       "34"
      ]
     },
     "execution_count": 16,
     "metadata": {},
     "output_type": "execute_result"
    }
   ],
   "source": [
    "finding_max(34,23)"
   ]
  },
  {
   "cell_type": "code",
   "execution_count": 17,
   "id": "35498686-aefb-4177-a891-f0070e9222bd",
   "metadata": {},
   "outputs": [],
   "source": [
    "s = 'pwskills'"
   ]
  },
  {
   "cell_type": "code",
   "execution_count": 18,
   "id": "aa0d7bd8-7b8e-41f2-b4b7-64936a4edbab",
   "metadata": {},
   "outputs": [],
   "source": [
    "finding_len = lambda s : len(s)"
   ]
  },
  {
   "cell_type": "code",
   "execution_count": 19,
   "id": "eff945d1-b477-4381-898b-3d6ed68fbc4e",
   "metadata": {},
   "outputs": [
    {
     "data": {
      "text/plain": [
       "8"
      ]
     },
     "execution_count": 19,
     "metadata": {},
     "output_type": "execute_result"
    }
   ],
   "source": [
    "finding_len(s)"
   ]
  },
  {
   "cell_type": "code",
   "execution_count": null,
   "id": "c2b75d55-556d-4e8e-9b64-c165e74f36fe",
   "metadata": {},
   "outputs": [],
   "source": [
    "#lambda function is one liner function \n",
    "#lambda function is anonymous function because we are not defining function but declare the function and write the operation ,input ,return "
   ]
  }
 ],
 "metadata": {
  "kernelspec": {
   "display_name": "Python 3 (ipykernel)",
   "language": "python",
   "name": "python3"
  },
  "language_info": {
   "codemirror_mode": {
    "name": "ipython",
    "version": 3
   },
   "file_extension": ".py",
   "mimetype": "text/x-python",
   "name": "python",
   "nbconvert_exporter": "python",
   "pygments_lexer": "ipython3",
   "version": "3.10.8"
  }
 },
 "nbformat": 4,
 "nbformat_minor": 5
}
