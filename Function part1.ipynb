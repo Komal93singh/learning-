{
 "cells": [
  {
   "cell_type": "code",
   "execution_count": 1,
   "id": "7c67e49a-af2c-4ae3-a604-3c8804740854",
   "metadata": {},
   "outputs": [
    {
     "name": "stdout",
     "output_type": "stream",
     "text": [
      "this is my print\n"
     ]
    }
   ],
   "source": [
    "print(\"this is my print\")"
   ]
  },
  {
   "cell_type": "code",
   "execution_count": 2,
   "id": "6267a4e0-2420-4f03-94ad-19ed650cd541",
   "metadata": {},
   "outputs": [],
   "source": [
    "l= [324,45,45,45]"
   ]
  },
  {
   "cell_type": "code",
   "execution_count": 3,
   "id": "a79aa60e-a75c-451d-b180-c43662b4e793",
   "metadata": {},
   "outputs": [
    {
     "data": {
      "text/plain": [
       "4"
      ]
     },
     "execution_count": 3,
     "metadata": {},
     "output_type": "execute_result"
    }
   ],
   "source": [
    "len(l)"
   ]
  },
  {
   "cell_type": "code",
   "execution_count": 4,
   "id": "d72f5b6a-b645-45f6-bbd3-63df3c26d8ee",
   "metadata": {},
   "outputs": [
    {
     "data": {
      "text/plain": [
       "list"
      ]
     },
     "execution_count": 4,
     "metadata": {},
     "output_type": "execute_result"
    }
   ],
   "source": [
    "type(l)"
   ]
  },
  {
   "cell_type": "code",
   "execution_count": 6,
   "id": "28603eca-c04e-4bad-aaf6-17fb56cd21e6",
   "metadata": {},
   "outputs": [],
   "source": [
    "def test():\n",
    "    pass"
   ]
  },
  {
   "cell_type": "code",
   "execution_count": 7,
   "id": "0872ea8c-2592-497f-86d7-0c323eb58989",
   "metadata": {},
   "outputs": [],
   "source": [
    "def test1():\n",
    "    print(\"this is my very very first function\")"
   ]
  },
  {
   "cell_type": "markdown",
   "id": "6b4125fd-a5db-46df-8a68-0c9a8b85e4c8",
   "metadata": {},
   "source": [
    "# no output is found then call test1()"
   ]
  },
  {
   "cell_type": "code",
   "execution_count": 8,
   "id": "a5f34b78-cf87-4e8d-bcae-33fc93c913d5",
   "metadata": {},
   "outputs": [
    {
     "name": "stdout",
     "output_type": "stream",
     "text": [
      "this is my very very first function\n"
     ]
    }
   ],
   "source": [
    "test1()"
   ]
  },
  {
   "cell_type": "code",
   "execution_count": 9,
   "id": "f38f1c24-e32b-486f-97fc-4abbdd11535f",
   "metadata": {},
   "outputs": [
    {
     "name": "stdout",
     "output_type": "stream",
     "text": [
      "this is my very very first function\n"
     ]
    },
    {
     "ename": "TypeError",
     "evalue": "unsupported operand type(s) for +: 'NoneType' and 'str'",
     "output_type": "error",
     "traceback": [
      "\u001b[0;31m---------------------------------------------------------------------------\u001b[0m",
      "\u001b[0;31mTypeError\u001b[0m                                 Traceback (most recent call last)",
      "Cell \u001b[0;32mIn[9], line 1\u001b[0m\n\u001b[0;32m----> 1\u001b[0m \u001b[43mtest1\u001b[49m\u001b[43m(\u001b[49m\u001b[43m)\u001b[49m\u001b[43m \u001b[49m\u001b[38;5;241;43m+\u001b[39;49m\u001b[43m \u001b[49m\u001b[38;5;124;43m'\u001b[39;49m\u001b[38;5;124;43msudh\u001b[39;49m\u001b[38;5;124;43m'\u001b[39;49m \u001b[38;5;66;03m#print give nonetype \u001b[39;00m\n",
      "\u001b[0;31mTypeError\u001b[0m: unsupported operand type(s) for +: 'NoneType' and 'str'"
     ]
    }
   ],
   "source": [
    "test1() + 'sudh' #print give nonetype "
   ]
  },
  {
   "cell_type": "markdown",
   "id": "62bc3fb0-5149-43a4-ae34-15444b36fb65",
   "metadata": {},
   "source": [
    "# test1() does not give string that's why str is not concatenate "
   ]
  },
  {
   "cell_type": "code",
   "execution_count": 10,
   "id": "05626018-e55b-43d2-a971-bec2bdc2e05f",
   "metadata": {},
   "outputs": [],
   "source": [
    "def test2():\n",
    "    return \"this is my very first return\""
   ]
  },
  {
   "cell_type": "code",
   "execution_count": 11,
   "id": "1f4c4c14-5ef2-4b63-b0ab-65d52a4acae3",
   "metadata": {},
   "outputs": [
    {
     "data": {
      "text/plain": [
       "'this is my very first return'"
      ]
     },
     "execution_count": 11,
     "metadata": {},
     "output_type": "execute_result"
    }
   ],
   "source": [
    "test2() #test2() gives string because of return "
   ]
  },
  {
   "cell_type": "code",
   "execution_count": 13,
   "id": "8c4bc767-5728-4e3f-8db6-350067875b0a",
   "metadata": {},
   "outputs": [
    {
     "data": {
      "text/plain": [
       "'this is my very first return sudh'"
      ]
     },
     "execution_count": 13,
     "metadata": {},
     "output_type": "execute_result"
    }
   ],
   "source": [
    "test2() + ' sudh'"
   ]
  },
  {
   "cell_type": "code",
   "execution_count": 14,
   "id": "c0f01d17-089b-4145-8898-a6b8dd4e3e30",
   "metadata": {},
   "outputs": [],
   "source": [
    "def test3():\n",
    "    return \"sudh\",\"kumar\",23, 45.67, [1,2,3]"
   ]
  },
  {
   "cell_type": "code",
   "execution_count": 15,
   "id": "9c6d56cf-35e1-47fc-90c9-483a8f20c3df",
   "metadata": {},
   "outputs": [
    {
     "data": {
      "text/plain": [
       "('sudh', 'kumar', 23, 45.67, [1, 2, 3])"
      ]
     },
     "execution_count": 15,
     "metadata": {},
     "output_type": "execute_result"
    }
   ],
   "source": [
    "test3() #return in tuples"
   ]
  },
  {
   "cell_type": "code",
   "execution_count": 16,
   "id": "b397b74c-40fb-4950-b071-7f81ea25d1b5",
   "metadata": {},
   "outputs": [],
   "source": [
    "a,b,c,d,e = test3()"
   ]
  },
  {
   "cell_type": "code",
   "execution_count": 17,
   "id": "70bb9b1c-a0dc-4d51-a401-030ab3491722",
   "metadata": {},
   "outputs": [
    {
     "data": {
      "text/plain": [
       "'sudh'"
      ]
     },
     "execution_count": 17,
     "metadata": {},
     "output_type": "execute_result"
    }
   ],
   "source": [
    "a"
   ]
  },
  {
   "cell_type": "code",
   "execution_count": 18,
   "id": "78bcd879-40da-4d77-be4f-9e90004ca78d",
   "metadata": {},
   "outputs": [
    {
     "data": {
      "text/plain": [
       "45.67"
      ]
     },
     "execution_count": 18,
     "metadata": {},
     "output_type": "execute_result"
    }
   ],
   "source": [
    "d"
   ]
  },
  {
   "cell_type": "code",
   "execution_count": 19,
   "id": "f5dcc69e-8b3b-4254-b3b2-244bbc00e64b",
   "metadata": {},
   "outputs": [
    {
     "data": {
      "text/plain": [
       "[1, 2, 3]"
      ]
     },
     "execution_count": 19,
     "metadata": {},
     "output_type": "execute_result"
    }
   ],
   "source": [
    "e"
   ]
  },
  {
   "cell_type": "code",
   "execution_count": 20,
   "id": "f3fdab7c-971b-4588-b241-0ba59afd8c43",
   "metadata": {},
   "outputs": [],
   "source": [
    "a = 1\n",
    "b = 4"
   ]
  },
  {
   "cell_type": "code",
   "execution_count": 21,
   "id": "839e5723-9c8a-4af8-bc3f-0a6fbe2b8d47",
   "metadata": {},
   "outputs": [],
   "source": [
    "a,b= 1,4 # this is also write "
   ]
  },
  {
   "cell_type": "code",
   "execution_count": 22,
   "id": "19fbc788-ac8d-4789-8f3d-c3a92dc8d206",
   "metadata": {},
   "outputs": [],
   "source": [
    "def test4():\n",
    "    a = 5+6/7\n",
    "    return a"
   ]
  },
  {
   "cell_type": "code",
   "execution_count": 23,
   "id": "64562721-f952-4da7-9e65-ada8111f37bf",
   "metadata": {},
   "outputs": [
    {
     "data": {
      "text/plain": [
       "5.857142857142857"
      ]
     },
     "execution_count": 23,
     "metadata": {},
     "output_type": "execute_result"
    }
   ],
   "source": [
    "test4()"
   ]
  },
  {
   "cell_type": "code",
   "execution_count": 24,
   "id": "8aa3055e-e854-41dd-a73f-224a89c85058",
   "metadata": {},
   "outputs": [],
   "source": [
    "def test5(a,b,c):\n",
    "    d = a+b/c\n",
    "    return d"
   ]
  },
  {
   "cell_type": "code",
   "execution_count": 25,
   "id": "e91d43ea-b213-4edd-889c-b15859b23db5",
   "metadata": {},
   "outputs": [
    {
     "ename": "TypeError",
     "evalue": "test5() missing 3 required positional arguments: 'a', 'b', and 'c'",
     "output_type": "error",
     "traceback": [
      "\u001b[0;31m---------------------------------------------------------------------------\u001b[0m",
      "\u001b[0;31mTypeError\u001b[0m                                 Traceback (most recent call last)",
      "Cell \u001b[0;32mIn[25], line 1\u001b[0m\n\u001b[0;32m----> 1\u001b[0m \u001b[43mtest5\u001b[49m\u001b[43m(\u001b[49m\u001b[43m)\u001b[49m \u001b[38;5;66;03m# values should be input by user \u001b[39;00m\n",
      "\u001b[0;31mTypeError\u001b[0m: test5() missing 3 required positional arguments: 'a', 'b', and 'c'"
     ]
    }
   ],
   "source": [
    "test5() # values should be input by user "
   ]
  },
  {
   "cell_type": "code",
   "execution_count": 26,
   "id": "86c28367-352b-42bb-956a-2af823788a3c",
   "metadata": {},
   "outputs": [
    {
     "data": {
      "text/plain": [
       "2.625"
      ]
     },
     "execution_count": 26,
     "metadata": {},
     "output_type": "execute_result"
    }
   ],
   "source": [
    "test5(2,5,8)"
   ]
  },
  {
   "cell_type": "code",
   "execution_count": 27,
   "id": "cb5027e3-0e45-4cc9-b3e7-b085b6bc3e97",
   "metadata": {},
   "outputs": [],
   "source": [
    "def test6(a,b):\n",
    "    return a+b"
   ]
  },
  {
   "cell_type": "code",
   "execution_count": 28,
   "id": "a3ac2421-27b2-4d98-8aba-040215748440",
   "metadata": {},
   "outputs": [
    {
     "data": {
      "text/plain": [
       "7"
      ]
     },
     "execution_count": 28,
     "metadata": {},
     "output_type": "execute_result"
    }
   ],
   "source": [
    "test6(3,4)"
   ]
  },
  {
   "cell_type": "code",
   "execution_count": 29,
   "id": "28cf7cb0-0f91-4f5f-8475-dcb4f4231cac",
   "metadata": {},
   "outputs": [
    {
     "data": {
      "text/plain": [
       "'sudhkumar'"
      ]
     },
     "execution_count": 29,
     "metadata": {},
     "output_type": "execute_result"
    }
   ],
   "source": [
    "test6(\"sudh\",\"kumar\")"
   ]
  },
  {
   "cell_type": "code",
   "execution_count": 30,
   "id": "54fd0be5-0542-44b0-808b-83e736c9a055",
   "metadata": {},
   "outputs": [
    {
     "data": {
      "text/plain": [
       "[1, 2, 3, 4, 4, 5, 6]"
      ]
     },
     "execution_count": 30,
     "metadata": {},
     "output_type": "execute_result"
    }
   ],
   "source": [
    "test6([1,2,3,4],[4,5,6])"
   ]
  },
  {
   "cell_type": "code",
   "execution_count": 31,
   "id": "29d73d6a-215b-4394-ae79-e395516c188e",
   "metadata": {},
   "outputs": [],
   "source": [
    "l = [1,2,3,4,\"sudh\",\"kumar\",[1,2,3,4,5,6]]"
   ]
  },
  {
   "cell_type": "markdown",
   "id": "32b02ac9-3402-48e9-b795-605580c558af",
   "metadata": {},
   "source": [
    "#write a code to extract int "
   ]
  },
  {
   "cell_type": "code",
   "execution_count": 32,
   "id": "eef167ff-5fe9-4ed1-a930-23aa30a5a11d",
   "metadata": {},
   "outputs": [
    {
     "data": {
      "text/plain": [
       "[1, 2, 3, 4]"
      ]
     },
     "execution_count": 32,
     "metadata": {},
     "output_type": "execute_result"
    }
   ],
   "source": [
    "l1=[]\n",
    "for i in l:\n",
    "    if type(i)==int or type(i)==float :\n",
    "        l1.append(i)\n",
    "\n",
    "l1"
   ]
  },
  {
   "cell_type": "markdown",
   "id": "07d89c28-e92b-421a-9113-95e9a94b94de",
   "metadata": {},
   "source": [
    "#write this program thorough function"
   ]
  },
  {
   "cell_type": "code",
   "execution_count": 33,
   "id": "3121408b-6f55-4e2a-a0f7-d2e6a558329e",
   "metadata": {},
   "outputs": [],
   "source": [
    "def test7():\n",
    "    l1 = []\n",
    "    for i in l:\n",
    "        if type(i)==int or type(i)==float :\n",
    "            l1.append(i)\n",
    "    return l1"
   ]
  },
  {
   "cell_type": "code",
   "execution_count": 34,
   "id": "8d01b438-494d-4864-a33d-29f3c7377803",
   "metadata": {},
   "outputs": [
    {
     "data": {
      "text/plain": [
       "[1, 2, 3, 4]"
      ]
     },
     "execution_count": 34,
     "metadata": {},
     "output_type": "execute_result"
    }
   ],
   "source": [
    "l1"
   ]
  },
  {
   "cell_type": "markdown",
   "id": "2f72b5cf-d66d-493d-b7e2-8e553e4af08b",
   "metadata": {},
   "source": [
    "#write the function to extract int float and list into list int float"
   ]
  },
  {
   "cell_type": "code",
   "execution_count": 35,
   "id": "d38a023b-658b-4f78-849d-40f107bffde3",
   "metadata": {},
   "outputs": [],
   "source": [
    "def test8(a):\n",
    "    l=[]\n",
    "    for i in a:\n",
    "        if type(i)==list:\n",
    "            for j in i:\n",
    "                l.append(j)\n",
    "        else :\n",
    "            if type(i)==int or type(i)==float :\n",
    "                l.append(i)\n",
    "                \n",
    "    return l\n",
    "            \n",
    "    "
   ]
  },
  {
   "cell_type": "code",
   "execution_count": 36,
   "id": "d28f0953-3a45-49f1-9c78-bd08fae9b421",
   "metadata": {},
   "outputs": [
    {
     "data": {
      "text/plain": [
       "[1, 2, 3, 4, 1, 2, 3, 4, 5, 6]"
      ]
     },
     "execution_count": 36,
     "metadata": {},
     "output_type": "execute_result"
    }
   ],
   "source": [
    "test8(l)"
   ]
  },
  {
   "cell_type": "code",
   "execution_count": 37,
   "id": "27a53fbf-d29e-4adf-a277-ff80ecc0a215",
   "metadata": {},
   "outputs": [
    {
     "data": {
      "text/plain": [
       "[1, 2, 3, 4, 'sudh', 'kumar', [1, 2, 3, 4, 5, 6]]"
      ]
     },
     "execution_count": 37,
     "metadata": {},
     "output_type": "execute_result"
    }
   ],
   "source": [
    "l"
   ]
  },
  {
   "cell_type": "code",
   "execution_count": 38,
   "id": "57865e04-3b18-4c04-b657-5c8cb14f0403",
   "metadata": {},
   "outputs": [],
   "source": [
    "def test9(a):\n",
    "    \"\"\"this is my function to extract num data from list\"\"\"\n",
    "    \n",
    "    l=[]\n",
    "    for i in a:\n",
    "        if type(i)==list:\n",
    "            for j in i:\n",
    "                l.append(j)\n",
    "                \n",
    "        else :\n",
    "            if type(i)==int or type(i)==float :\n",
    "                \n",
    "                l.append(i)\n",
    "                \n",
    "    return l\n",
    "\n",
    "\n"
   ]
  },
  {
   "cell_type": "code",
   "execution_count": null,
   "id": "9ae3202a-8286-44a9-a6b0-9295eb6a8ad4",
   "metadata": {},
   "outputs": [],
   "source": [
    "test9()  #create doc string  use shift +tab to see "
   ]
  },
  {
   "cell_type": "code",
   "execution_count": null,
   "id": "44e40e00-11bb-4239-9f73-444d062800ca",
   "metadata": {},
   "outputs": [],
   "source": []
  },
  {
   "cell_type": "code",
   "execution_count": 39,
   "id": "a19cac00-23a6-48b9-bf38-cbbb3c8557a9",
   "metadata": {},
   "outputs": [],
   "source": [
    "def test10(a,b):\n",
    "    return a+b"
   ]
  },
  {
   "cell_type": "code",
   "execution_count": 40,
   "id": "417118ad-b78e-47c4-a219-3e479165e300",
   "metadata": {},
   "outputs": [],
   "source": [
    "def test11(*args):\n",
    "    return args"
   ]
  },
  {
   "cell_type": "code",
   "execution_count": 41,
   "id": "52824a0f-2fc3-4720-9347-4a3daae799f9",
   "metadata": {},
   "outputs": [
    {
     "data": {
      "text/plain": [
       "()"
      ]
     },
     "execution_count": 41,
     "metadata": {},
     "output_type": "execute_result"
    }
   ],
   "source": [
    "test11()"
   ]
  },
  {
   "cell_type": "code",
   "execution_count": 42,
   "id": "9b3c463f-c4a4-4764-b084-3f4c7f8b7e87",
   "metadata": {},
   "outputs": [
    {
     "data": {
      "text/plain": [
       "tuple"
      ]
     },
     "execution_count": 42,
     "metadata": {},
     "output_type": "execute_result"
    }
   ],
   "source": [
    "type(test11())"
   ]
  },
  {
   "cell_type": "code",
   "execution_count": 43,
   "id": "63becbba-ebfe-437c-9b2f-2c47048c0b76",
   "metadata": {},
   "outputs": [
    {
     "data": {
      "text/plain": [
       "(2, 3, 4)"
      ]
     },
     "execution_count": 43,
     "metadata": {},
     "output_type": "execute_result"
    }
   ],
   "source": [
    "test11(2,3,4)"
   ]
  },
  {
   "cell_type": "code",
   "execution_count": 45,
   "id": "67d056cb-56b3-4659-951d-0efb894fde15",
   "metadata": {},
   "outputs": [
    {
     "data": {
      "text/plain": [
       "(1, 2, 3, 'sudh', 'kumar', [1, 2, 3, 4, 4, 5])"
      ]
     },
     "execution_count": 45,
     "metadata": {},
     "output_type": "execute_result"
    }
   ],
   "source": [
    "test11(1,2,3,\"sudh\",\"kumar\", [1,2,3,4,4,5])"
   ]
  },
  {
   "cell_type": "code",
   "execution_count": 46,
   "id": "6499d358-2d31-4332-ab59-d2f253ab3686",
   "metadata": {},
   "outputs": [],
   "source": [
    "def test12(*sudh):\n",
    "    return sudh  #arg is whatever int str list etc in this sudh but use by *arg= *sudh "
   ]
  },
  {
   "cell_type": "code",
   "execution_count": 47,
   "id": "1b72427a-1275-473e-96f7-6379429255ed",
   "metadata": {},
   "outputs": [
    {
     "data": {
      "text/plain": [
       "(1, 2, 4, 'sudh', 'pwskills', 12.345)"
      ]
     },
     "execution_count": 47,
     "metadata": {},
     "output_type": "execute_result"
    }
   ],
   "source": [
    "test12(1,2,4,\"sudh\",\"pwskills\",12.345) # return in triple "
   ]
  },
  {
   "cell_type": "code",
   "execution_count": 48,
   "id": "4f4ab939-4b14-481a-9c50-47576edab5ab",
   "metadata": {},
   "outputs": [],
   "source": [
    "def test13(*args , a):\n",
    "    return args, a"
   ]
  },
  {
   "cell_type": "code",
   "execution_count": 49,
   "id": "5b9523f0-393a-4ede-a96e-66b29532a2e7",
   "metadata": {},
   "outputs": [
    {
     "ename": "TypeError",
     "evalue": "test13() missing 1 required keyword-only argument: 'a'",
     "output_type": "error",
     "traceback": [
      "\u001b[0;31m---------------------------------------------------------------------------\u001b[0m",
      "\u001b[0;31mTypeError\u001b[0m                                 Traceback (most recent call last)",
      "Cell \u001b[0;32mIn[49], line 1\u001b[0m\n\u001b[0;32m----> 1\u001b[0m \u001b[43mtest13\u001b[49m\u001b[43m(\u001b[49m\u001b[38;5;241;43m1\u001b[39;49m\u001b[43m,\u001b[49m\u001b[38;5;241;43m2\u001b[39;49m\u001b[43m,\u001b[49m\u001b[38;5;241;43m3\u001b[39;49m\u001b[43m,\u001b[49m\u001b[38;5;241;43m4\u001b[39;49m\u001b[43m \u001b[49m\u001b[43m,\u001b[49m\u001b[43m \u001b[49m\u001b[38;5;241;43m23\u001b[39;49m\u001b[43m)\u001b[49m \u001b[38;5;66;03m# confuse what value is args and a then use variable name = value like a= 3\u001b[39;00m\n",
      "\u001b[0;31mTypeError\u001b[0m: test13() missing 1 required keyword-only argument: 'a'"
     ]
    }
   ],
   "source": [
    "test13(1,2,3,4 , 23) # confuse what value is args and a then use variable name = value like a= 3"
   ]
  },
  {
   "cell_type": "code",
   "execution_count": 50,
   "id": "94a75f2d-3fdc-4a1f-84c7-55fa46d74821",
   "metadata": {},
   "outputs": [
    {
     "data": {
      "text/plain": [
       "((1, 2, 3, 4), 23)"
      ]
     },
     "execution_count": 50,
     "metadata": {},
     "output_type": "execute_result"
    }
   ],
   "source": [
    "test13(1,2,3,4, a=23) #use this a= 23 "
   ]
  },
  {
   "cell_type": "code",
   "execution_count": 51,
   "id": "7881a7a5-4945-4a3f-8d65-a9e62ceb505f",
   "metadata": {},
   "outputs": [],
   "source": [
    "def test14(c,d,a=23,b=1):\n",
    "    return a,b,c,d"
   ]
  },
  {
   "cell_type": "code",
   "execution_count": 52,
   "id": "121b7c44-3ad0-4aa8-8d85-fc5158a71960",
   "metadata": {},
   "outputs": [
    {
     "ename": "TypeError",
     "evalue": "test14() missing 2 required positional arguments: 'c' and 'd'",
     "output_type": "error",
     "traceback": [
      "\u001b[0;31m---------------------------------------------------------------------------\u001b[0m",
      "\u001b[0;31mTypeError\u001b[0m                                 Traceback (most recent call last)",
      "Cell \u001b[0;32mIn[52], line 1\u001b[0m\n\u001b[0;32m----> 1\u001b[0m \u001b[43mtest14\u001b[49m\u001b[43m(\u001b[49m\u001b[43m)\u001b[49m \u001b[38;5;66;03m#input c and d then executed otherwise error\u001b[39;00m\n",
      "\u001b[0;31mTypeError\u001b[0m: test14() missing 2 required positional arguments: 'c' and 'd'"
     ]
    }
   ],
   "source": [
    "test14() #input c and d then executed otherwise error"
   ]
  },
  {
   "cell_type": "code",
   "execution_count": 53,
   "id": "09b0d303-1e9a-46a5-8664-8217504ab738",
   "metadata": {},
   "outputs": [
    {
     "data": {
      "text/plain": [
       "(23, 1, 3, 4)"
      ]
     },
     "execution_count": 53,
     "metadata": {},
     "output_type": "execute_result"
    }
   ],
   "source": [
    "test14(3,4)"
   ]
  },
  {
   "cell_type": "code",
   "execution_count": null,
   "id": "36c6453e-2d4b-41e7-8b46-d4b6cb54e1c5",
   "metadata": {},
   "outputs": [],
   "source": [
    "#a,b,c,d"
   ]
  },
  {
   "cell_type": "code",
   "execution_count": 54,
   "id": "f287c5df-79f0-4248-b36c-40522403d131",
   "metadata": {},
   "outputs": [
    {
     "data": {
      "text/plain": [
       "(256.67, 1, 2, 5)"
      ]
     },
     "execution_count": 54,
     "metadata": {},
     "output_type": "execute_result"
    }
   ],
   "source": [
    "test14(2,5, a=256.67) # overwrite value of a "
   ]
  },
  {
   "cell_type": "code",
   "execution_count": 55,
   "id": "9573af45-20f8-4539-9200-764e03ec61fb",
   "metadata": {},
   "outputs": [],
   "source": [
    "def test15(**kwargs):\n",
    "    return kwargs # single * denote int  and double ** denote key value "
   ]
  },
  {
   "cell_type": "code",
   "execution_count": 56,
   "id": "d281d8f1-044d-4553-aacc-8c8b94c095f5",
   "metadata": {},
   "outputs": [
    {
     "data": {
      "text/plain": [
       "{}"
      ]
     },
     "execution_count": 56,
     "metadata": {},
     "output_type": "execute_result"
    }
   ],
   "source": [
    "test15()"
   ]
  },
  {
   "cell_type": "code",
   "execution_count": 57,
   "id": "31557265-19ae-44c7-8b64-8bfba5d4f5ef",
   "metadata": {},
   "outputs": [
    {
     "data": {
      "text/plain": [
       "dict"
      ]
     },
     "execution_count": 57,
     "metadata": {},
     "output_type": "execute_result"
    }
   ],
   "source": [
    "type(test15())"
   ]
  },
  {
   "cell_type": "code",
   "execution_count": 58,
   "id": "706ae6f4-316d-4531-96f4-548fea6f68a4",
   "metadata": {},
   "outputs": [
    {
     "data": {
      "text/plain": [
       "{'a': [1, 2, 3, 4], 'b': 'sudh', 'c': 23.45}"
      ]
     },
     "execution_count": 58,
     "metadata": {},
     "output_type": "execute_result"
    }
   ],
   "source": [
    "test15( a= [1,2,3,4] ,b = \"sudh\" ,c = 23.45) "
   ]
  },
  {
   "cell_type": "code",
   "execution_count": null,
   "id": "458121e4-3c51-4e42-a736-d294803183ad",
   "metadata": {},
   "outputs": [],
   "source": []
  }
 ],
 "metadata": {
  "kernelspec": {
   "display_name": "Python 3 (ipykernel)",
   "language": "python",
   "name": "python3"
  },
  "language_info": {
   "codemirror_mode": {
    "name": "ipython",
    "version": 3
   },
   "file_extension": ".py",
   "mimetype": "text/x-python",
   "name": "python",
   "nbconvert_exporter": "python",
   "pygments_lexer": "ipython3",
   "version": "3.10.8"
  }
 },
 "nbformat": 4,
 "nbformat_minor": 5
}
